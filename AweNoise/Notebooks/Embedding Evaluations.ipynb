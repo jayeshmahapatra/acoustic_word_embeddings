{
 "cells": [
  {
   "cell_type": "code",
   "execution_count": 8,
   "metadata": {},
   "outputs": [],
   "source": [
    "#Core Python, Pandas, and kaldi_io\n",
    "import numpy as np\n",
    "import pandas as pd\n",
    "import string\n",
    "from collections import Counter,OrderedDict \n",
    "import kaldi_io\n",
    "from datetime import datetime\n",
    "\n",
    "#Scikit\n",
    "from sklearn import manifold\n",
    "from sklearn.model_selection import train_test_split\n",
    "from sklearn.neighbors import NearestNeighbors\n",
    "from sklearn.metrics import pairwise_distances,average_precision_score\n",
    "from sklearn.metrics.pairwise import pairwise_kernels,paired_distances\n",
    "from scipy import stats\n",
    "from scipy.spatial.distance import pdist\n",
    "\n",
    "#Plotting\n",
    "from matplotlib import pyplot as plt\n",
    "import seaborn as sns\n",
    "\n",
    "#BigPhoney\n",
    "from big_phoney import BigPhoney\n",
    "\n",
    "\n",
    "#Torch and utilities\n",
    "import torch\n",
    "import torch.nn as nn\n",
    "import torch.nn.functional as F\n",
    "import torch.optim as optim\n",
    "from torch.utils.data import TensorDataset,DataLoader,random_split,ConcatDataset\n",
    "\n",
    "#Import User defined classes\n",
    "from AweNoise.models.torch_models import SimpleNet, SimpleNet_with_dropout, SiameseNet\n",
    "from AweNoise.torch_utils import evaluate_model,test_classifier, baseline, accuracy\n",
    "from AweNoise.datasets import CNN_dataset, SiameseTriplets\n",
    "from sfba4.utils import alignSequences"
   ]
  },
  {
   "cell_type": "markdown",
   "metadata": {},
   "source": [
    "Load Data and Models"
   ]
  },
  {
   "cell_type": "code",
   "execution_count": 9,
   "metadata": {},
   "outputs": [],
   "source": [
    "def load_model(num_output):\n",
    "    '''Function to create a model given number of outputs, and load weights'''\n",
    "    \n",
    "    #CNN\n",
    "    net = SimpleNet(num_output)\n",
    "    net = net.float()\n",
    "    net.to(dev)\n",
    "    \n",
    "    model_save_path = \"C:/Users/jayes/Downloads/LSV/Models/cnn_clean.pth\"\n",
    "    #Load model weights\n",
    "    net.load_state_dict(torch.load(model_save_path))\n",
    "    \n",
    "    return net"
   ]
  },
  {
   "cell_type": "code",
   "execution_count": 10,
   "metadata": {},
   "outputs": [
    {
     "name": "stdout",
     "output_type": "stream",
     "text": [
      "Length before filtering on char length 169383\n",
      "Length after filtering on char length 80821\n",
      "Finished Loading the Data, 80821 examples\n",
      "Number of Unique words  8607\n",
      "Length before filtering on frequency_bounds  (80821,)\n",
      "Not filtering\n"
     ]
    }
   ],
   "source": [
    "#Load data\n",
    "clean_ds = CNN_dataset(split_set = None, char_threshold = 5, frequency_bounds = (0,np.Inf), snr = np.Inf, k = np.Inf, cluster = False)\n",
    "inputs, labels = clean_ds.inputs,clean_ds.labels\n",
    "c,word_to_num,num_to_word = clean_ds.c, clean_ds.word_to_num, clean_ds.num_to_word"
   ]
  },
  {
   "cell_type": "code",
   "execution_count": 11,
   "metadata": {},
   "outputs": [
    {
     "data": {
      "text/plain": [
       "\"\\nload_list = ['Data/feats_cmvn.ark']\\n#number_list = [9,12,14,18,21,25,27,28]\\n#load_list = ['Data/raw_mfcc_AMI_Segments.%d.scp'%(number) for number in number_list]\\nnum_examples = np.Inf\\ndh = DataHelper(load_list,num_examples)\\ndh.load_data()\\ndh.process_data()\\nc,word_to_num,num_to_word = dh.generate_key_dicts()\\ninputs,labels = dh.give_inputs_and_labels()\\ndel dh\\nsplit = False\\nif split:\\n    x_trainval,x_test,y_trainval,y_test = train_test_split(inputs, labels, test_size=0.2, random_state=32)\\n    x_train,x_val,y_train,y_val = train_test_split(x_trainval,y_trainval,test_size =0.25, random_state = 32)\\n    x_train,y_train = torch.tensor(x_train,dtype= torch.float),torch.tensor(y_train, dtype= torch.float)\\n    x_val,y_val = torch.tensor(x_val, dtype= torch.float),torch.tensor(y_val, dtype= torch.float)\\n    x_test,y_test = torch.tensor(x_test, dtype= torch.float),torch.tensor(y_test, dtype= torch.float)\\n    print(x_train.shape,y_train.shape)\\n    print(x_val.shape,y_val.shape)\\n    print(x_test.shape,y_test.shape)\\n\""
      ]
     },
     "execution_count": 11,
     "metadata": {},
     "output_type": "execute_result"
    }
   ],
   "source": [
    "#Old data loading\n",
    "'''\n",
    "load_list = ['Data/feats_cmvn.ark']\n",
    "#number_list = [9,12,14,18,21,25,27,28]\n",
    "#load_list = ['Data/raw_mfcc_AMI_Segments.%d.scp'%(number) for number in number_list]\n",
    "num_examples = np.Inf\n",
    "dh = DataHelper(load_list,num_examples)\n",
    "dh.load_data()\n",
    "dh.process_data()\n",
    "c,word_to_num,num_to_word = dh.generate_key_dicts()\n",
    "inputs,labels = dh.give_inputs_and_labels()\n",
    "del dh\n",
    "split = False\n",
    "if split:\n",
    "    x_trainval,x_test,y_trainval,y_test = train_test_split(inputs, labels, test_size=0.2, random_state=32)\n",
    "    x_train,x_val,y_train,y_val = train_test_split(x_trainval,y_trainval,test_size =0.25, random_state = 32)\n",
    "    x_train,y_train = torch.tensor(x_train,dtype= torch.float),torch.tensor(y_train, dtype= torch.float)\n",
    "    x_val,y_val = torch.tensor(x_val, dtype= torch.float),torch.tensor(y_val, dtype= torch.float)\n",
    "    x_test,y_test = torch.tensor(x_test, dtype= torch.float),torch.tensor(y_test, dtype= torch.float)\n",
    "    print(x_train.shape,y_train.shape)\n",
    "    print(x_val.shape,y_val.shape)\n",
    "    print(x_test.shape,y_test.shape)\n",
    "'''"
   ]
  },
  {
   "cell_type": "code",
   "execution_count": 12,
   "metadata": {},
   "outputs": [],
   "source": [
    "dev = torch.device(\n",
    "    \"cuda\") if torch.cuda.is_available() else torch.device(\"cpu\")"
   ]
  },
  {
   "cell_type": "code",
   "execution_count": 13,
   "metadata": {},
   "outputs": [],
   "source": [
    "#Load Best Clean Model\n",
    "num_output = len(num_to_word.keys()) #Num output is same as clean dataset\n",
    "net = load_model(num_output)"
   ]
  },
  {
   "cell_type": "code",
   "execution_count": 14,
   "metadata": {},
   "outputs": [],
   "source": [
    "def show_time():\n",
    "\tnow = datetime.now()\n",
    "\tcurrent_time = now.strftime(\"%d/%m/%Y %H:%M:%S\")\n",
    "\tprint(\"Current Date and Time =\", current_time)"
   ]
  },
  {
   "cell_type": "markdown",
   "metadata": {},
   "source": [
    "Embedding Evaluation"
   ]
  },
  {
   "cell_type": "code",
   "execution_count": 25,
   "metadata": {},
   "outputs": [],
   "source": [
    "words = list(c.keys())"
   ]
  },
  {
   "cell_type": "code",
   "execution_count": 26,
   "metadata": {},
   "outputs": [
    {
     "name": "stdout",
     "output_type": "stream",
     "text": [
      "['components', 'suggested', 'prototype', 'anything', 'working', 'functionality', 'specification', 'might', 'online', 'concatenate', 'demand', 'loads', 'really', 'particular', 'accessed', 'multiple', 'duplication', 'segments', 'utterance', 'there', 'utterances', 'stored', 'meeting', 'guess', 'segmenting', 'maybe', 'equivalent', 'integration', 'allocated', 'crucial', 'modules', 'prioritize', 'extracting', 'parser', 'python', 'should', 'speakers', 'probably', 'right', 'packages', 'collaborate', 'steves', 'discuss', 'space', 'actually', 'feedback', 'offline', 'frequency', 'regions', 'interesting', 'recalculated', 'hotspot', 'annotation', 'things', 'definitely', 'displaying', 'jasmine', 'looking', 'speaker', 'extraction', 'millisecond', 'changing', 'extracted', 'durations', 'value', 'contatenate', 'those', 'straightforward', 'sequences', 'starting', 'series', 'summary', 'three', 'identification', 'group', 'theres', 'thats', 'quite', 'because', 'start', 'times', 'final', 'thought', 'together', 'change', 'information', 'which', 'another', 'manipulation', 'would', 'difference', 'corpus', 'words', 'names', 'letters', 'ordered', 'anybody', 'sometimes', 'theyre', 'mmhmm', 'megami', 'similar', 'meetings', 'every', 'takes', 'seconds', 'loading', 'everything', 'matter', 'first', 'demonstrate', 'files', 'whats', 'importance', 'measure', 'skimming', 'about', 'summaries', 'measures', 'hotspots', 'think', 'define', 'baseline', 'different', 'example', 'toplevel', 'separate', 'level', 'already', 'stamps', 'pause', 'basically', 'sequence', 'pauses', 'however', 'indicated', 'annotators', 'decided', 'annotations', 'levels', 'several', 'types', 'displayed', 'depending', 'something', 'numbers', 'display', 'doing', 'frequencies', 'disagreement', 'thing', 'using', 'discourse', 'found', 'frequent', 'chunks', 'basic', 'order', 'unimportant', 'counts', 'table', 'program', 'counting', 'hashes', 'important', 'disregard', 'individual', 'possible', 'currently', 'implementing', 'exactly', 'computing', 'necessary', 'combine', 'accordingly', 'without', 'beginning', 'number', 'assign', 'annotated', 'combinations', 'global', 'local', 'rainbow', 'dictionary', 'classification', 'system', 'class', 'problem', 'sense', 'calculate', 'handle', 'still', 'implemented', 'probabilities', 'document', 'segment', 'informative', 'average', 'database', 'easier', 'everyones', 'module', 'interface', 'arent', 'arbitrary', 'attributes', 'anyway', 'store', 'hierarchical', 'informan', 'mation', 'recalculating', 'whatever', 'weighted', 'spots', 'keywords', 'worry', 'tfidf', 'through', 'underlying', 'representation', 'related', 'their', 'simple', 'friday', 'wednesday', 'afternoon', 'format', 'documents', 'until', 'running', 'classified', 'shakespeare', 'statistics', 'available', 'wordnet', 'these', 'corpuses', 'download', 'uninteresting', 'stoplist', 'experiment', 'useful', 'calculated', 'getting', 'subset', 'machines', 'awful', 'burner', 'treat', 'completely', 'linux', 'session', 'machine', 'gateway', 'density', 'mostly', 'alright', 'cause', 'context', 'consider', 'calculating', 'summarise', 'within', 'algorithm', 'difficult', 'allow', 'disjoint', 'suppose', 'globally', 'comparing', 'possibly', 'meaningful', 'conceptually', 'leaves', 'parents', 'branch', 'algorithms', 'designed', 'computationally', 'hierarchy', 'higher', 'respects', 'structure', 'minibrowser', 'displays', 'deleted', 'support', 'transferring', 'neither', 'summarised', 'comprises', 'finished', 'serialize', 'parsing', 'building', 'collections', 'implement', 'serializable', 'summarizer', 'specify', 'ourselves', 'become', 'terms', 'thinking', 'highest', 'processor', 'intensive', 'impossible', 'sentences', 'otherwise', 'occurrences', 'sentence', 'cutoff', 'threshold', 'buffer', 'build', 'essentially', 'media', 'object', 'concatenating', 'memory', 'waveforms', 'silence', 'normalise', 'calculations', 'process', 'summarisation', 'hundred', 'classes', 'replace', 'always', 'contains', 'match', 'probability', 'topic', 'segmented', 'informa', 'sensible', 'appear', 'often', 'enough', 'understand', 'reintegrate', 'though', 'other', 'higherscored', 'occurs', 'topics', 'twenty', 'similarity', 'misunderstood', 'categories', 'increased', 'overlap', 'course', 'could', 'proposed', 'smallest', 'unity', 'naturally', 'somehow', 'persegment', 'inbetween', 'split', 'worked', 'values', 'bdboo', 'zeros', 'widely', 'point', 'laughter', 'papers', 'considerably', 'dataintensive', 'seventy', 'measured', 'gives', 'headphone', 'speaking', 'relate', 'amusement', 'causes', 'abstraction', 'provenance', 'others', 'looks', 'cameras', 'marker', 'mozilla', 'perhaps', 'actual', 'layers', 'scope', 'participant', 'measurements', 'referencing', 'position', 'nonvocal', 'sound', 'fifty', 'doesnt', 'confirmation', 'stops', 'reference', 'introduce', 'attaches', 'wouldnt', 'exact', 'inner', 'additional', 'yesterday', 'having', 'describes', 'trouble', 'repeating', 'dynamically', 'produce', 'producing', 'least', 'timebased', 'moment', 'directly', 'references', 'attach', 'attribute', 'internally', 'matrix', 'provides', 'specific', 'whole', 'calculates', 'stamp', 'aspects', 'category', 'waiting', 'entropy', 'calculation', 'closer', 'downloaded', 'scores', 'formula', 'official', 'promiscuous', 'place', 'expressive', 'general', 'contexts', 'sorry', 'score', 'predicting', 'entropical', 'preliminary', 'structured', 'somewhere', 'analysis', 'segmentation', 'blocks', 'examples', 'byproduct', 'provide', 'vocabulary', 'widespread', 'certain', 'unique', 'identifiable', 'versus', 'underscore', 'untruncated', 'degree', 'occur', 'sophisticated', 'gonna', 'basis', 'unscientific', 'massive', 'superarray', 'create', 'sampling', 'automatically', 'evaluating', 'where', 'cells', 'multiplied', 'combination', 'software', 'strapless', 'granularity', 'concerns', 'control', 'utterancebased', 'results', 'stated', 'framework', 'anymore', 'understood', 'weekend', 'parse', 'provided', 'emacs', 'interaction', 'measuring', 'variance', 'relative', 'exist', 'castrati', 'international', 'institute', 'halfway', 'stuff', 'anyone', 'visualise', 'jonathan', 'oclock', 'before', 'frustrating', 'bootstrapping', 'wrong', 'beforehand', 'easily', 'individually', 'multiplying', 'integers', 'spend', 'content', 'centre', 'segmenter', 'screen', 'myself', 'programming', 'almost', 'questio', 'boundaries', 'splitting', 'compares', 'mixing', 'truncation', 'function', 'expression', 'strings', 'monday', 'recalculate', 'uhhuh', 'dialogue', 'easiest', 'incorporate', 'access', 'between', 'depends', 'approach', 'input', 'strange', 'delimiters', 'compare', 'directory', 'represents', 'title', 'understands', 'happening', 'steve', 'surfing', 'overview', 'present', 'window', 'presenting', 'separating', 'overtake', 'original', 'graphical', 'early', 'percent', 'continuous', 'uhhuhs', 'differently', 'separately', 'contributed', 'stripes', 'generalise', 'programme', 'contributions', 'absolute', 'consistent', 'rather', 'version', 'constant', 'application', 'alternative', 'adaptable', 'minutes', 'today', 'abandon', 'comparably', 'changes', 'hourglass', 'parallel', 'calls', 'dissertation', 'abandoning', 'concept', 'bureaucracy', 'complexity', 'presentation', 'preparing', 'simply', 'search', 'honest', 'discontinuously', 'notification', 'starts', 'describe', 'player', 'button', 'question', 'alternatively', 'manually', 'microsoft', 'demonstrations', 'scarily', 'controlling', 'override', 'component', 'slidebar', 'corporate', 'forward', 'summar', 'worthwhile', 'properly', 'straightf', 'length', 'redrawing', 'update', 'indicator', 'small', 'improving', 'evaluation', 'report', 'expected', 'detail', 'translate', 'sixteen', 'hellbent', 'playing', 'personally', 'minute', 'string', 'script', 'panicking', 'logicwise', 'talking', 'single', 'music', 'shouldnt', 'created', 'experimented', 'twodimensional', 'jasmines', 'nonlinguistic', 'saturation', 'wheres', 'select', 'switching', 'loaded', 'scripts', 'parameter', 'summarisers', 'imposing', 'discontinuous', 'flexibly', 'significantly', 'versions', 'specifying', 'parameters', 'nonsynched', 'finetune', 'clock', 'changed', 'public', 'extend', 'deliberately', 'people', 'confuse', 'colourful', 'picture', 'browser', 'routine', 'interacts', 'around', 'shows', 'happened', 'buttons', 'unfortunately', 'compressed', 'realise', 'selections', 'summariser', 'compress', 'method', 'evaluate', 'thresholds', 'special', 'essential', 'utteran', 'index', 'converting', 'correlation', 'locations', 'messages', 'background', 'terrible', 'backwards', 'quickly', 'selection', 'applications', 'preview', 'lines', 'result', 'after', 'height', 'remember', 'redraw', 'benefit', 'great', 'thirty', 'rampantly', 'underestimated', 'engineering', 'project', 'tablature', 'notations', 'option', 'flexibility', 'potentially', 'manager', 'property', 'coincides', 'wanted', 'interested', 'mention', 'enumerated', 'conflicting', 'topranked', 'programmatically', 'separates', 'decision', 'forcing', 'chronological', 'scale', 'defined', 'associated', 'location', 'managers', 'development', 'windows', 'synchs', 'constructor', 'minor', 'addition', 'disconnect', 'reacts', 'effect', 'meaning', 'means', 'incredibly', 'unintuitive', 'combined', 'thresholding', 'tasks', 'complains', 'sizes', 'shortly', 'developing', 'documentation', 'horrific', 'temporary', 'represent', 'boundary', 'restrict', 'fancy', 'documented', 'priority', 'agreement', 'agree', 'throw', 'agreements', 'worse', 'dialogues', 'smilies', 'nonagreement', 'rescale', 'duration', 'yeahs', 'obviously', 'acoustic', 'deviation', 'slightly', 'positive', 'negative', 'significant', 'investigate', 'hypothesis', 'meantime', 'backchannel', 'ranked', 'training', 'typically', 'backchannels', 'ninety', 'immediately', 'following', 'optically', 'nlssd', 'yoohoos', 'include', 'mappings', 'detailed', 'computer', 'complicated', 'readjust', 'strangely', 'audio', 'raise', 'going', 'cards', 'dangerous', 'extra', 'saying', 'mistaken', 'probable', 'brackets', 'occurred', 'devote', 'super', 'differences', 'principle', 'favour', 'objects', 'jumping', 'summarising', 'configuration', 'crashes', 'tdidf', 'equals', 'especially', 'combining', 'geometric', 'factors', 'justifiable', 'weighs', 'justify', 'works', 'markov', 'overrunning', 'hardcoded', 'smaller', 'stupid', 'bigger', 'infrastructure', 'hollow', 'overran', 'taking', 'proportional', 'discussion', 'issue', 'presented', 'freedom', 'slavery', 'everyone', 'inquire', 'visible', 'unlucky', 'factor', 'tools', 'forwarding', 'broadband', 'broadbandwise', 'bandwidthwise', 'independent', 'usually', 'again', 'primitive', 'homogeneously', 'rating', 'distributed', 'professional', 'expensive', 'square', 'maths', 'below', 'indirectly', 'above', 'initially', 'cumulatively', 'screens', 'zombies', 'daves', 'amazing', 'overwhelming', 'nothing', 'realistically', 'inefficient', 'effectively', 'changeable', 'updating', 'inefficiently', 'accurately', 'resolution', 'error', 'handshake', 'yellow', 'faces', 'fixed', 'beautiful', 'corresponding', 'static', 'write', 'evaluated', 'disagreements', 'correct', 'crashed', 'dictionaries', 'arbitrarily', 'consistently', 'suspiciously', 'hangs', 'subsegments', 'dreams', 'assignments', 'performancewise', 'internal', 'fairly', 'needs', 'details', 'setting', 'default', 'proper', 'halfpage', 'never', 'correspond', 'anyways', 'hours', 'shifted', 'facts', 'interdependencies', 'frame', 'roughly', 'hourish', 'performance', 'stuttering', 'started', 'server', 'problems', 'expect', 'clocky', 'removed', 'exceptions', 'ready', 'called', 'proportion', 'impending', 'discussed', 'colins', 'incorporated', 'extract', 'annotate', 'spaces', 'premade', 'tomorrow', 'compile', 'under', 'confident', 'return', 'netbeans', 'stage', 'hopefully', 'dropping', 'third', 'remapping', 'remaining', 'distribution', 'twice', 'closes', 'cross', 'refuses', 'reason', 'detecting', 'catch', 'being', 'second', 'exposed', 'preferred', 'misleading', 'occurring', 'frequently', 'encouragement', 'sixty', 'noise', 'close', 'logic', 'centres', 'computers', 'everywhere', 'check', 'shame', 'continuously', 'harder', 'behaviour', 'reinitialize', 'affect', 'sufficient', 'tonight', 'hairy', 'detect', 'creating', 'addresses', 'handy', 'hasnt', 'laptop', 'monitor', 'builder', 'cygwin', 'creates', 'deregister', 'handlers', 'reregister', 'matches', 'ensure', 'slider', 'mislead', 'complex', 'power', 'atlas', 'finds', 'surprised', 'incomplete', 'selecting', 'design', 'creeping', 'panel', 'drawings', 'totally', 'removing', 'wants', 'deadlines', 'inverted', 'disfluencies', 'reading', 'struggling', 'notes', 'popups', 'english', 'asleep', 'either', 'blurb', 'white', 'print', 'statements', 'ridiculous', 'defining', 'issues', 'continuity', 'goals', 'points', 'steveo', 'joking', 'sleep', 'sabotage', 'conclusion', 'section', 'target', 'jesus', 'characterisation', 'characterisations', 'answer', 'disappear', 'screenshots', 'tiles', 'happens', 'hardcode', 'elements', 'element', 'model', 'wondering', 'processing', 'timeline', 'actions', 'highlighting', 'transcription', 'selectively', 'whatsoever', 'revisions', 'superficially', 'pretend', 'didnt', 'concentrate', 'explicitly', 'milestones', 'managed', 'nicely', 'metadata', 'responsibility', 'larger', 'colourcode', 'statement', 'finally', 'morning', 'screenshot', 'intention', 'yours', 'sorta', 'minimise', 'transcripts', 'panes', 'relevant', 'subpanes', 'progress', 'previous', 'transcript', 'reorder', 'across', 'languages', 'originally', 'listbox', 'kinda', 'youre', 'whether', 'interfaces', 'happen', 'transform', 'transforms', 'preprocess', 'serious', 'conceptual', 'reality', 'snore', 'formality', 'wanna', 'perfectionist', 'logged', 'brief', 'timewarp', 'later', 'plenty', 'spnlp', 'expectations', 'tuned', 'specifically', 'disfluenc', 'inaccurate', 'extractor', 'havent', 'startup', 'reevaluation', 'email', 'thursday', 'hooray', 'stuck', 'funny', 'instead', 'browsing', 'experie', 'indexing', 'package', 'reasonable', 'presenta', 'sweater', 'volunt', 'perception', 'projects', 'brand', 'woman', 'supposed', 'deadline', 'dates', 'lectures', 'expects', 'interim', 'pages', 'expand', 'evala', 'suggest', 'soundcard', 'registered', 'reboot', 'explanation', 'browsers', 'subjects', 'friends', 'disful', 'fifteen', 'student', 'eighteenth', 'nicety', 'proposal', 'writable', 'organised', 'empty', 'doubleclick', 'lefthanded', 'leftclick', 'highlights', 'crosshighlights', 'crosshighlighting', 'leftdoubleclick', 'doubleleftlick', 'comments', 'crosshighlight', 'multiselect', 'contained', 'checkbox', 'sabotaged', 'generates', 'wording', 'nasty', 'percentage', 'speech', 'jokes', 'common', 'undergrad', 'makes', 'quotes', 'material', 'finish', 'unzipping', 'enormous', 'informatics', 'filename', 'welcome', 'generated', 'javadoc', 'comment', 'eighth', 'forever', 'scientist', 'street', 'weeks', 'fourth', 'directories', 'coming', 'tuesday', 'straightaway', 'research', 'certainly', 'collate', 'organising', 'games', 'pretty', 'unlikely', 'excel', 'acknowledgement', 'questions', 'person', 'recompile', 'supersize', 'artistic', 'talent', 'distincting', 'experience', 'platform', 'curious', 'scenarios', 'brainstorm', 'paper', 'volunteers', 'willing', 'break', 'along', 'range', 'minorities', 'fifth', 'chaos', 'necessarily', 'assume', 'schedule', 'demonstration', 'finetuned', 'google', 'couple', 'mimic', 'highestrated', 'chosen', 'labelling', 'since', 'labels', 'trying', 'shell', 'nicer', 'insane', 'boring', 'hesitation', 'linguistic', 'noticed', 'someone', 'commas', 'somebodys', 'cutest', 'behind', 'evaluala', 'warning', 'transcribe', 'mister', 'missus', 'accidentally', 'translating', 'transcriber', 'transcriptions', 'stretch', 'scream', 'making', 'capitalised', 'paint', 'waveform', 'recognition', 'assignment', 'contracts', 'advance', 'holidays', 'checking', 'survived', 'examining', 'resources', 'photocopies', 'certificates', 'degrees', 'photos', 'continuing', 'voice', 'anticipating', 'consistency', 'entirely', 'headache', 'highlighted', 'hyphen', 'definite', 'sometime', 'linguistics', 'ambiguous', 'cutting', 'loose', 'chance', 'during', 'circuit', 'channel', 'capitalisation', 'punctuation', 'continue', 'recap', 'everybodys', 'commonly', 'mistranscribed', 'whiteboard', 'transcribing', 'outbreath', 'inbreath', 'outbreaths', 'headset', 'although', 'audible', 'silent', 'caught', 'missed', 'syllables', 'stutters', 'horribly', 'unfortunate', 'repeated', 'count', 'robustness', 'fragment', 'cares', 'liberally', 'nonnative', 'realisations', 'instances', 'aberrant', 'product', 'recommend', 'pronunciation', 'mispronunciation', 'lapel', 'thereve', 'acronym', 'checked', 'melissa', 'announced', 'passes', 'regularised', 'convoluted', 'choice', 'heres', 'trascription', 'phrase', 'description', 'beata', 'maarika', 'stutter', 'seeing', 'spelling', 'admonishment', 'spellings', 'guide', 'cetera', 'considered', 'experimenting', 'carefully', 'notice', 'misspellings', 'infinitive', 'careful', 'mistranscriptions', 'transcribed', 'finishes', 'prescriptive', 'scenario', 'describing', 'hearing', 'creakiness', 'interrupting', 'continues', 'capitalising', 'indicating', 'asterisk', 'recognizer', 'cases', 'discontinuity', 'grammatically', 'wasnt', 'restarting', 'ahead', 'resolve', 'restart', 'carelessness', 'capitalise', 'consisting', 'underst', 'surrounding', 'worth', 'eventually', 'comma', 'swoop', 'ultimately', 'subjective', 'pointed', 'typed', 'indefinite', 'suggesting', 'apparently', 'louder', 'gotten', 'guidelines', 'switzerland', 'emailing', 'resolving', 'uncertainties', 'fully', 'believe', 'abbreviated', 'transcribers', 'carets', 'resolved', 'polyglot', 'youve', 'situations', 'efficiently', 'board', 'clips', 'mobile', 'listen', 'symbol', 'articles', 'omitted', 'fragments', 'mistranscription', 'unintelligible', 'ellipsis', 'apostrophe', 'markers', 'appropriately', 'clearly', 'continued', 'inbreaths', 'capital', 'crude', 'guideline', 'seems', 'unmanageable', 'manageable', 'adjust', 'excellent', 'nonspeech', 'postprocessing', 'excessive', 'berkeley', 'units', 'channels', 'unknowns', 'ambiguity', 'allocating', 'bottlenecked', 'parentheses', 'receiving', 'youll', 'folder', 'subfolders', 'given', 'servers', 'reliable', 'uncorrupted', 'persons', 'business', 'months', 'personnel', 'altogether', 'keeping', 'marks', 'regular', 'caroline', 'lovely', 'involved', 'nonsilent', 'corrections', 'ambiguities', 'asking', 'searches', 'known', 'ignore', 'masters', 'negligent', 'pedantic', 'absolutely', 'clear', 'intelligible', 'while', 'laughing', 'themselves', 'speak', 'normally', 'challenging', 'pronounced', 'evolution', 'cockney', 'screeching', 'noises', 'hitting', 'microphone', 'calling', 'theoretically', 'french', 'moving', 'fumes', 'thingy', 'signal', 'amplitude', 'contract', 'february', 'midjanuary', 'stayathomedad', 'closest', 'phones', 'accent', 'knowledge', 'phonetically', 'participants', 'european', 'realises', 'phonemes', 'criteria', 'secondguess', 'better', 'replaced', 'robust', 'backtrack', 'syntactic', 'standardised', 'silences', 'mystery', 'wrestling', 'transcri', 'looked', 'definition', 'interactivity', 'interacti', 'interacting', 'incremental', 'strict', 'finer', 'current', 'distinguish', 'monologues', 'analyse', 'distinguishing', 'chunking', 'exchange', 'features', 'automatic', 'studies', 'conversation', 'adjacency', 'pairs', 'strands', 'exhaustive', 'principal', 'scheme', 'account', 'exchanging', 'vague', 'knows', 'inform', 'analysing', 'bells', 'opinion', 'differs', 'multiparty', 'challenge', 'thinks', 'patterns', 'socalled', 'coulthard', 'developed', 'systemic', 'functional', 'grammar', 'relations', 'martins', 'textbook', 'negotiation', 'exchanges', 'ananys', 'telephones', 'tourism', 'agency', 'provider', 'monologue', 'price', 'route', 'visit', 'vehicle', 'transportation', 'variations', 'parametri', 'parametric', 'parame', 'extremes', 'helpful', 'interac', 'eight', 'further', 'action', 'physical', 'future', 'semantics', 'concepts', 'direction', 'propose', 'reject', 'coconut', 'rough', 'month', 'built', 'concern', 'literature', 'schemes', 'relationship', 'reliability', 'study', 'thanks', 'techniques', 'bootstrap', 'analyser', 'solving', 'messy', 'intentional', 'chunk', 'switchboard', 'semisuperv', 'supervised', 'segmentaton', 'utterancetoutterance', 'translation', 'block', 'properties', 'mentioned', 'varies', 'parts', 'strong', 'coordinating', 'fourteen', 'organisational', 'semantic', 'analysed', 'accustomed', 'environment', 'short', 'turns', 'interruptions', 'listening', 'activity', 'supervising', 'groups', 'years', 'theory', 'activities', 'mechanisms', 'explain', 'argument', 'toolman', 'substantively', 'somebody', 'strapped', 'achieve', 'apparatuses', 'adding', 'relating', 'contribution', 'genre', 'modifying', 'analytical', 'frameworks', 'identified', 'halves', 'proposals', 'spirit', 'damsel', 'relationships', 'argumentative', 'operational', 'interactive', 'characterising', 'period', 'definitions', 'noninteractive', 'backchannelling', 'rationality', 'prominent', 'reasoning', 'discover', 'fluid', 'understanding', 'initiating', 'introduces', 'moves', 'contribute', 'teaching', 'apply', 'contacts', 'described', 'characterise', 'complaint', 'knowing', 'parameterise', 'publications', 'tried', 'establish', 'pattern', 'clearer', 'directions', 'limited', 'elicitation', 'constrained', 'identify', 'initiations', 'responses', 'catalogue', 'initiation', 'response', 'meets', 'marking', 'dispersed', 'markup', 'actioned', 'aligned', 'record', 'popular', 'cover', 'martin', 'advice', 'mcgrath', 'confused', 'overarching', 'microstructure', 'theoretical', 'traditionally', 'circumventing', 'practical', 'relatively', 'cheap', 'headline', 'money', 'efficient', 'highlevel', 'theories', 'directed', 'publication', 'concentrating', 'seeking', 'operationally', 'itself', 'seven', 'avoid', 'opendomain', 'ontologies', 'areas', 'closed', 'domain', 'propositional', 'repository', 'characteristics', 'nonscenario', 'theyll', 'mechanical', 'verbs', 'clause', 'wikis', 'handchunked', 'instructions', 'handchunking', 'exercise', 'treebank', 'assumes', 'deriving', 'twente', 'amsterdam', 'floods', 'verbmobil', 'postevaluation', 'forgotten', 'slides', 'definitional', 'finding', 'requirements', 'throughout', 'records', 'intricacies', 'missing', 'informally', 'sections', 'shorter', 'committee', 'analyses', 'monologic', 'rhetorical', 'extreme', 'everybody', 'brain', 'ideas', 'items', 'requirement', 'allows', 'relational', 'needed', 'stents', 'established', 'kinds', 'constraints', 'approaches', 'clark', 'lockbaum', 'expanded', 'candidates', 'contenders', 'peoples', 'blaylocks', 'adopt', 'collaborative', 'diginio', 'krauss', 'formalisation', 'simplified', 'blaylock', 'suggests', 'taxonomy', 'merge', 'intentions', 'ancient', 'conversational', 'repairs', 'purposely', 'noncounters', 'fundamentally', 'review', 'recognise', 'evolved', 'disagreed', 'recommendation', 'strike', 'decisions', 'presumably', 'admit', 'ontology', 'semanticy', 'modelling', 'subtask', 'little', 'addressing', 'furthering', 'heavily', 'reliably', 'epiphany', 'confusion', 'conference', 'learning', 'experiments', 'opportunity', 'showing', 'decide', 'weixun', 'barbara', 'periods', 'nuclearity', 'labelled', 'portion', 'chunked', 'distinctions', 'grammatical', 'flickinger', 'redwoods', 'parses', 'against', 'correction', 'accuracy', 'tagging', 'enschede', 'disagree', 'parsed', 'style', 'bracketing', 'validation', 'bizarre', 'expressed', 'nobodys', 'interact', 'yoshi', 'situation', 'synthesis', 'paragraph', 'taken', 'explained', 'earlier', 'purpose', 'presentations', 'questionnaires', 'sites', 'phone', 'materials', 'telecon', 'simon', 'conditional', 'convincing', 'incompatible', 'lascarides', 'tight', 'holiday', 'computational', 'trees', 'included', 'handles', 'structures', 'scheduling', 'party', 'imagine', 'abstract', 'technique', 'network', 'europe', 'spectrum', 'excesses', 'ultraloom', 'artificial', 'weird', 'feature', 'breaks', 'abundances', 'manual', 'species', 'telescopes', 'clouds', 'elemental', 'abundance', 'discrete', 'estimate', 'absorption', 'alpha', 'nebula', 'region', 'ratios', 'orbited', 'absorbers', 'underlined', 'source', 'particularly', 'quasar', 'continuum', 'steep', 'headphones', 'forests', 'diffuse', 'emission', 'modifier', 'forest', 'marked', 'depth', 'impressively', 'spectral', 'inconsistent', 'teleconference', 'clearcut', 'systems', 'including', 'modifiers', 'interview', 'continua', 'oxygen', 'observed', 'starforming', 'galaxies', 'distinct', 'derived', 'chile', 'increa', 'increasing', 'hydrogen', 'gunnpetersen', 'absorp', 'blueshifted', 'strength', 'colour', 'infrared', 'midinfrar', 'filters', 'modified', 'laptops', 'detection', 'broadbrand', 'emitters', 'simpler', 'profiles', 'comple', 'blanketing', 'instrument', 'array', 'image', 'capitals', 'radioloud', 'luckily', 'ionizing', 'excess', 'telescope', 'hubble', 'compared', 'acronyms', 'redshi', 'seyfert', 'inseparate', 'annoys', 'hyperluminous', 'galaxy', 'yourself', 'radio', 'quasars', 'luminosity', 'pencil', 'width', 'nebulae', 'equally', 'limit', 'confusing', 'strengths', 'circling', 'lyman', 'absorber', 'observers', 'sight', 'redshifts', 'descriptions', 'fitting', 'tricky', 'grand', 'discussing', 'werent', 'remembered', 'rubbish', 'temperatures', 'photons', 'sleepy', 'dunno', 'increasingly', 'silicone', 'active', 'elliptical', 'camera', 'detections', 'newspaper', 'subclassification', 'seyferts', 'eights', 'formation', 'shall', 'bottom', 'strongly', 'mechanism', 'alrighty', 'underlining', 'arguments', 'derive', 'descriptive', 'wavelength', 'absorbed', 'cheers', 'clarification', 'segmentations', 'entire', 'negation', 'convergence', 'entity', 'markations', 'inconsistencies', 'spectrogram', 'embedded', 'surely', 'hurray', 'dwarf', 'rules', 'allowed', 'clusters', 'conti', 'adjective', 'competition', 'atmosphere', 'dwarfs', 'protogalactic', 'covers', 'intermediate', 'burst', 'densities', 'forming', 'ionization', 'radius', 'bored', 'subsections', 'binaries', 'scuba', 'enhanced', 'beside', 'ctiio', 'refers', 'therere', 'astrophysically', 'detected', 'broadness', 'giant', 'ellipticals', 'inclu', 'ionized', 'excitation', 'stars', 'ratio', 'resorption', 'shifts', 'microquasars', 'microquasar', 'ultraluminous', 'reckon', 'amorphous', 'nuclei', 'includes', 'optical', 'green', 'radiation', 'keckers', 'observatory', 'wonderful', 'round', 'fields', 'bursts', 'nebulosity', 'polarization', 'extent', 'polarizations', 'relates', 'spectra', 'eclipsing', 'shapes', 'balls', 'luminosities', 'distance', 'complexes', 'escape', 'metre', 'hello', 'accounting', 'contamination', 'blended', 'fluxes', 'luminos', 'conjunctural', 'outflow', 'champagne', 'whatnot', 'seventeen', 'observations', 'redshift', 'leave', 'newfangled', 'isoelectronic', 'accessors', 'remain', 'linei', 'galactic', 'emitting', 'dibulae', 'globs', 'characterised', 'unusually', 'settling', 'coordinates', 'pounds', 'feeling', 'amaya', 'selfintersections', 'noninterse', 'nonintersecting', 'polygons', 'polygon', 'nijmegen', 'output', 'afraid', 'draft', 'mould', 'justification', 'videos', 'converter', 'video', 'collaborating', 'calibration', 'reminded', 'familiar', 'camtasia', 'played', 'kilohertz', 'rectangle', 'construct', 'convex', 'concave', 'selfintersection', 'helping', 'idiosyncratic', 'delicately', 'standards', 'pilots', 'firewire', 'drive', 'reassuring', 'supplying', 'critical', 'circulating', 'initial', 'slower', 'recording', 'voiceover', 'reinstall', 'emphasise', 'imagining', 'alignment', 'updates', 'unrelated', 'arrow', 'broke', 'eyelink', 'highfalutin', 'language', 'tamgrams', 'ratings', 'obvious', 'users', 'geometry', 'psychology', 'contact', 'oldfashioned', 'diversion', 'discussions', 'subscribing', 'attention', 'onedimensional', 'ascii', 'postanalysis', 'eyetracker', 'salary', 'trainee', 'heidi', 'autism', 'writing', 'volunteer', 'technologies', 'matlab', 'perfect', 'underneath', 'traces', 'disconcerting', 'quivering', 'parallelogram', 'updated', 'central', 'rotation', 'theyve', 'dumped', 'pilot', 'marloes', 'bolton', 'explorer', 'flier', 'fliers', 'conferences', 'munich', 'ellen', 'fourteenth', 'december', 'sixteenth', 'generate', 'introductory', 'instructional', 'purposes', 'movements', 'separated', 'afterwards', 'crash', 'introduction', 'theyd', 'photocopy', 'aspect', 'booklet', 'progressive', 'frank', 'hoping', 'ideally', 'ranking', 'encountered', 'physically', 'royal', 'proceedings', 'replicate', 'involve', 'monitoring', 'ballard', 'national', 'forwarded', 'provisional', 'dynamic', 'filter', 'latest', 'officially', 'nynke', 'gesture', 'volunteered', 'bleep', 'mouse', 'oscillation', 'appears', 'produced', 'collisions', 'orientation', 'parallelograms', 'constructed', 'rotated', 'vertices', 'vertex', 'disappears', 'restricted', 'solid', 'correctly', 'microphones', 'recommendations', 'worried', 'sorted', 'outputter', 'symmetry', 'variety', 'safety', 'protection', 'compulsory', 'induction', 'events', 'stands', 'fixations', 'transformation', 'xhtml', 'documenting', 'standardized', 'haymarket', 'password', 'october', 'behindhand', 'swimmingly', 'squat', 'submit', 'inherit', 'persuasive', 'staff', 'habits', 'escalate', 'appropriate', 'blockbooking', 'mornings', 'afternoons', 'companies', 'sweat', 'trial', 'modelbuilder', 'contingency', 'worst', 'telcon', 'offer', 'escalation', 'deadly', 'constructing', 'speced', 'unavailable', 'investment', 'models', 'severely', 'fripperies', 'craig', 'convenience', 'tiers', 'blinks', 'formulating', 'track', 'please', 'blinking', 'blink', 'fixation', 'middle', 'corrected', 'finalised', 'codes', 'blinkcorrected', 'tracker', 'cognitive', 'analytically', 'straightforwardly', 'translates', 'added', 'augmented', 'postprocess', 'conversion', 'steps', 'postprocesses', 'pipeline', 'requiring', 'doubt', 'arrived', 'trackers', 'translations', 'utilities', 'batteries', 'maplin', 'techie', 'connections', 'multimedia', 'quiet', 'unsure', 'suitable', 'recover', 'optimal', 'jules', 'complication', 'fifteenth', 'universityll', 'members', 'movement', 'norman', 'completed', 'pools', 'stream', 'blinked', 'event', 'saccade', 'suppression', 'composite', 'viewing', 'angle', 'complete', 'saarbruecken', 'utility', 'minimum', 'milliseconds', 'holding', 'produces', 'meaningless', 'grabbable', 'compression', 'lossiness', 'airplanes', 'tangram', 'recently', 'netherlands', 'telephone', 'request', 'seventh', 'needing', 'tracking', 'blockbooked', 'lecturer', 'sliding', 'solidly', 'booked', 'uptranslation', 'effects', 'construction', 'irrelevant', 'algorithmically', 'transformations', 'addendum', 'realistic', 'multimodal', 'possibility', 'instance', 'affects', 'transfer', 'interpretation', 'counted', 'pixel', 'averaged', 'fixated', 'arithmetic', 'positions', 'simultaneously', 'crossproducts', 'colocated', 'tracks', 'circle', 'foxed', 'naturalistic', 'uptranslating', 'zillion', 'visualization', 'landmark', 'representational', 'becomes', 'triangles', 'modification', 'multiples', 'conditions', 'mindread', 'coding', 'represented', 'suddenly', 'intentionally', 'synchronizations', 'backups', 'flash', 'handsynchronize', 'stripping', 'front', 'backup', 'synchronizing', 'degradation', 'timings', 'intervention', 'required', 'timestamped', 'bleeps', 'synchronization', 'vocalizations', 'involves', 'socket', 'fixable', 'solution', 'dicier', 'redesign', 'reflects', 'sample', 'postanalyses', 'satisfying', 'gotta', 'priorities', 'bumped', 'upstairs', 'downstairs', 'ground', 'lending', 'accounts', 'safer', 'overlook', 'overall', 'piece', 'generalised', 'drawing', 'interruption', 'extremely', 'bouncing', 'places', 'simplify', 'temporarily', 'intermittent', 'triangle', 'forth', 'divided', 'grossly', 'categorising', 'interactions', 'categorised', 'identity', 'subassembly', 'piously', 'transactions', 'verbal', 'breaking', 'announcing', 'captive', 'undergraduates', 'burden', 'colleagues', 'selfcontained', 'interpreted', 'claim', 'testing', 'definable', 'competitor', 'untimed', 'exploring', 'figure', 'variability', 'inside', 'measurement', 'minus', 'circular', 'gazes', 'lineup', 'likewise', 'overlaps', 'supplies', 'squeak', 'mustnt', 'wobble', 'capacity', 'dozen', 'considering', 'neatly', 'brilliant', 'throwing', 'trickiest', 'ceases', 'subassemblies', 'existence', 'constructs', 'cumulati', 'cumulative', 'programmings', 'overlapping', 'replacement', 'replaces', 'replacing', 'indeed', 'survive', 'purple', 'baufix', 'colours', 'bolts', 'strategy', 'hovering', 'subgoal', 'longterm', 'subconstructs', 'thousands', 'squares', 'frames', 'subconstruct', 'contstructs', 'communication', 'appreciate', 'inadvertantly', 'unintentional', 'breakages', 'generically', 'convention', 'reaction', 'prominently', 'flagged', 'crazy', 'independently', 'realign', 'couldnt', 'copies', 'whenever', 'subject', 'recalibrated', 'categorization', 'psychological', 'align', 'shape', 'specially', 'circumstances', 'stereo', 'robin', 'splicing', 'hypotheses', 'mistrust', 'recorded', 'mentioning', 'toronto', 'published', 'motions', 'solved', 'scoring', 'inspection', 'availability', 'deliverables', 'terrified', 'likely', 'somewhat', 'ostensibly', 'permission', 'acknowledged', 'incidents', 'facilities', 'office', 'state', 'demands', 'piloting', 'machi', 'variables', 'anxiety', 'begun', 'gestural', 'imaginary', 'scanning', 'communicating', 'margin', 'sketch', 'obscuring', 'exclusive', 'tiered', 'fuzzy', 'oscillating', 'flipping', 'assembly', 'constituent', 'revised', 'black', 'hardwired', 'filled', 'superfluous', 'standard', 'stock', 'mistake', 'penalties', 'lumped', 'fundamental', 'tested', 'interfere', 'recompiled', 'licence', 'technically', 'suspect', 'launched', 'hertz', 'calibrate', 'assuming', 'soundtrack', 'sussed', 'total', 'dancing', 'focus', 'tamgram', 'touched', 'rotational', 'pixels', 'distracting', 'editing', 'synchronisation', 'quieter', 'inputs', 'connectors', 'relax', 'formats', 'animals', 'designer', 'whales', 'harmless', 'announcement', 'couch', 'designing', 'satellite', 'functionalities', 'watch', 'industrial', 'functions', 'marketing', 'executive', 'friendly', 'fulfil', 'received', 'emails', 'whale', 'mixture', 'affectionate', 'amusing', 'dinner', 'finance', 'million', 'euros', 'retailer', 'internationally', 'country', 'gimmicky', 'monkey', 'house', 'family', 'streamlined', 'technologically', 'functionally', 'personality', 'coffee', 'assumption', 'television', 'commitment', 'health', 'beagle', 'beagles', 'impressionist', 'conditioned', 'wholesale', 'retail', 'shelf', 'zones', 'characters', 'keypad', 'symbols', 'characteristic', 'positioning', 'london', 'greece', 'assumptions', 'selling', 'consciously', 'assess', 'shoelaces', 'shoes', 'controls', 'successful', 'technology', 'players', 'agenda', 'cable', 'affection', 'telling', 'installing', 'transmitter', 'principles', 'receiver', 'consideration', 'transmission', 'require', 'restriction', 'indication', 'devices', 'remote', 'charge', 'unless', 'rechargeable', 'device', 'manufacturers', 'upish', 'nonbasic', 'visualisation', 'entertainment', 'random', 'dependent', 'schools', 'universities', 'lives', 'simplest', 'focusing', 'specifics', 'basics', 'diagram', 'equipment', 'market', 'costwise', 'professionals', 'young', 'expendable', 'teletext', 'outdated', 'disability', 'advances', 'incorporating', 'modularising', 'intrared', 'charging', 'finalise', 'bracket', 'optional', 'watching', 'david', 'andrew', 'settings', 'volume', 'visual', 'contrast', 'ergonomic', 'website', 'slogan', 'company', 'wireless', 'products', 'clunky', 'preferences', 'requested', 'inspiration', 'simpleness', 'intuitive', 'inspirations', 'hightech', 'appealing', 'hands', 'frustrations', 'explanatory', 'fashionable', 'trendy', 'additionally', 'appearance', 'ergonomics', 'panels', 'collectively', 'styles', 'identifying', 'losing', 'options', 'controller', 'previously', 'expecting', 'habitual', 'eliminating', 'accessible', 'rarely', 'selfexplanatory', 'electronics', 'concealed', 'redundancy', 'deciding', 'customer', 'vision', 'prioritise', 'gimmick', 'rubber', 'comfortable', 'profit', 'restrictions', 'titanium', 'plastic', 'light', 'glows', 'frankenstein', 'alive', 'scratch', 'triggers', 'glowingness', 'fruit', 'tacky', 'hybrid', 'battery', 'glowing', 'showable', 'strategically', 'lights', 'transparent', 'moved', 'unnatural', 'motion', 'kidding', 'matters', 'lemme', 'sending', 'wheel', 'curved', 'chips', 'windup', 'crank', 'seasons', 'resistant', 'outside', 'feels', 'rectangular', 'lemon', 'distinctive', 'snowmanshape', 'trademark', 'colourwise', 'talkback', 'snowman', 'energy', 'backlighting', 'anybodys', 'playdoh', 'tightly', 'nonrechargeable', 'batterypowered', 'audiovisual', 'ultimate', 'comfortably', 'curvy', 'whose', 'bricks', 'couches', 'homepage', 'fantastic', 'opened', 'effort', 'activation', 'department', 'suggestions', 'possessed', 'innovative', 'technologys', 'ipods', 'glassy', 'glossy', 'vibrant', 'techni', 'themes', 'unifies', 'coherent', 'associate', 'template', 'illuminate', 'whereas', 'motive', 'visualize', 'touches', 'inspire', 'listings', 'stations', 'committing', 'watches', 'vacation', 'lowtech', 'reproducing', 'simplicity', 'casing', 'initiate', 'flush', 'textured', 'plastics', 'specified', 'sounds', 'unnecessary', 'foreshadowing', 'innovation', 'fashion', 'trend', 'vegetables', 'decor', 'spongy', 'unfamiliar', 'monster', 'medium', 'representative', 'prohibitive', 'caged', 'brainstorming', 'tossed', 'reviewed', 'restricts', 'communicate', 'various', 'consensus', 'messenger', 'collaboration', 'powerpoint', 'powerpoints', 'agreed', 'conducive', 'homer', 'electronic', 'japan', 'ninja', 'frustrated', 'conceptualizing', 'creative', 'touch', 'preservatives', 'senses', 'requires', 'tangible', 'centimetre', 'centimetres', 'sharpness', 'balance', 'preprogrammed', 'determine', 'modes', 'jogdial', 'estimating', 'respond', 'twelve', 'budget', 'profile', 'dimension', 'widthwise', 'heightwise', 'satisfied', 'creativity', 'teamwork', 'honestly', 'submitting', 'alphabetically', 'leadership', 'projector', 'unsupportive', 'dimensions', 'distraction', 'milestone', 'closing', 'celebrate', 'brightness', 'designers', 'tuning', 'powerwise', 'doublecurved', 'interfacewise', 'suggestion', 'differentiation', 'compromise', 'approximately', 'efficacy', 'invert', 'production', 'revisiting', 'tones', 'institutional', 'constructive', 'creativ', 'tease', 'contrived', 'guidance', 'effective', 'delegation', 'ownership', 'briefing', 'confining', 'sparse', 'disempowering', 'member', 'predetermined', 'contrary', 'isolation', 'predisposes', 'dissatisfied', 'aviation', 'fibreglass', 'embossing', 'notebooks', 'minds', 'prepare', 'encouraged', 'paintbrush', 'interrupted', 'necessity', 'discommunicate', 'taste', 'reporting', 'stylish', 'stylized', 'elementary', 'succeeding', 'reservation', 'meant', 'remove', 'inspired', 'foggy', 'thick', 'smells', 'nontoxic', 'twoyearolds', 'confirm', 'monkeys', 'remotes', 'programmed', 'conventional', 'macros', 'cochrane', 'rewind', 'unconventional', 'attractive', 'curve', 'biomorphic', 'affectionately', 'attitude', 'navigation', 'acquaintance', 'userfriendly', 'phases', 'ebenezer', 'animal', 'brilliantly', 'artistry', 'tiger', 'aware', 'begin', 'facility', 'gentle', 'memories', 'profiting', 'amount', 'subscribed', 'providers', 'keyboar', 'ademesoye', 'specialised', 'begins', 'clever', 'shoot', 'angles', 'elephant', 'elephants', 'tarik', 'tigers', 'adjusting', 'brightn', 'menus', 'integra', 'integrating', 'rationalisation', 'springboard', 'improved', 'mistakes', 'versa', 'irritating', 'handedly', 'joystick', 'commands', 'appliance', 'manufacturer', 'bother', 'sales', 'backside', 'practice', 'unfriendly', 'fastforward', 'programmable', 'minimal', 'joysticks', 'controllers', 'playstation', 'geometrical', 'relevance', 'subsequent', 'alone', 'reprogramming', 'barcode', 'obeyed', 'boxes', 'populat', 'popularity', 'internet', 'whistle', 'clapping', 'digital', 'attaching', 'recognisable', 'operate', 'locate', 'surprisingly', 'potential', 'feasibility', 'expert', 'minimalist', 'manipulating', 'locating', 'adopted', 'externally', 'apologies', 'pursuing', 'concerned', 'username', 'engineer', 'services', 'dictate', 'feasible', 'avenue', 'recognitions', 'radical', 'considerations', 'audience', 'corner', 'opinions', 'intended', 'differentness', 'brother', 'biggest', 'keyrings', 'permanently', 'press', 'complaints', 'deskt', 'sketchy', 'desktop', 'flickering', 'impractical', 'lollipop', 'putting', 'programs', 'discovery', 'subgroup', 'articulated', 'articulation', 'structural', 'substructure', 'flexible', 'organic', 'vibrator', 'specifications', 'command', 'possi', 'annoying', 'nuisance', 'purchasing', 'favourably', 'aesthetically', 'pleasing', 'customisations', 'customisable', 'flicking', 'thumb', 'numeric', 'terrestrial', 'excessively', 'slide', 'finger', 'irrespective', 'handedness', 'bulkiest', 'wrist', 'switch', 'giving', 'novelty', 'implications', 'adventurous', 'prototyping', 'layout', 'envisage', 'performing', 'field', 'ludicrous', 'concep', 'connection', 'phase', 'elsewhere', 'query', 'pressing', 'overstepped', 'producement', 'supplied', 'designs', 'incurred', 'traversal', 'promote', 'banana', 'televisions', 'logically', 'follow', 'methods', 'skins', 'metal', 'contradiction', 'technical', 'curves', 'advanced', 'bonus', 'furniture', 'clothes', 'squeeze', 'overkill', 'sturdy', 'squeezable', 'lasting', 'findings', 'dynamo', 'mouses', 'tradeoffs', 'amplifier', 'wires', 'kinetic', 'joyst', 'camouflaged', 'fancier', 'budgeted', 'veggie', 'criterion', 'fashions', 'marginally', 'technophobic', 'daunting', 'researchers', 'squish', 'shaped', 'retaining', 'expense', 'overbudget', 'retain', 'curvature', 'underside', 'beyond', 'sounder', 'cordless', 'straight', 'transfers', 'pointless', 'operating', 'scroll', 'counters', 'desired', 'sacrificed', 'manipulated', 'manufactured', 'accountants', 'incur', 'delay', 'etcetera', 'minimalised', 'sucks', 'placement', 'generous', 'stretching', 'biased', 'standing', 'targeted', 'basket', 'satisfaction', 'advantage', 'sadly', 'technological', 'disposal', 'costs', 'human', 'covered', 'participation', 'explaining', 'expenditure', 'trick', 'large', 'concessions', 'ability', 'reactions', 'policies', 'strategies', 'badly', 'locator', 'sponginess', 'interior', 'ambitious', 'skepible', 'sceptical', 'optimistic', 'mildly', 'lacking', 'consumers', 'upset', 'prices', 'prints', 'printed', 'transmitters', 'curvous', 'curvaceousness', 'confidence', 'fanciest', 'articulators', 'world', 'courgette', 'conscious', 'massively', 'loyal', 'intuition', 'simplification', 'lesser', 'sitting', 'supportive', 'windowsbased', 'pictures', 'telewest', 'silver', 'smarter', 'shops', 'grannies', 'favourite', 'majestic', 'seagu', 'seagull', 'financewise', 'sarah', 'australia', 'america', 'experiences', 'universal', 'signals', 'reprogramme', 'generation', 'grandads', 'texting', 'pelican', 'crocodile', 'scary', 'eagle', 'selfintuitive', 'dreadful', 'apart', 'twohanded', 'goodness', 'indepen', 'freespirited', 'flying', 'intrepid', 'whoops', 'cheapiecheapie', 'usable', 'chair', 'modifications', 'outstandingly', 'books', 'semicircular', 'smooth', 'seashells', 'marketable', 'fliptop', 'economies', 'connecting', 'pulled', 'williams', 'injuries', 'chocolate', 'possibilities', 'generations', 'boomers', 'population', 'midrange', 'discovered', 'tuesdays', 'seventeenth', 'instruction', 'manuals', 'service', 'reflect', 'charger', 'charged', 'reduce', 'flipscreen', 'dissonance', 'fascias', 'casings', 'psychedelic', 'uncluttered', 'undaunting', 'advertisement', 'flipopen', 'beeping', 'demonised', 'vibrating', 'limits', 'consumer', 'limitation', 'whistling', 'beeps', 'handset', 'appeal', 'older', 'chains', 'generally', 'japanese', 'advertised', 'obligation', 'instru', 'station', 'bulky', 'chunky', 'consumption', 'choose', 'decode', 'extraordinaire', 'cinema', 'convert', 'decoded', 'conform', 'antigoing', 'differentiate', 'multifunction', 'substantial', 'african', 'injury', 'budgetary', 'profligate', 'superb', 'warehouse', 'outlets', 'manage', 'identical', 'surface', 'brown', 'rectangles', 'insert', 'exterior', 'lozenge', 'mantelpiece', 'implication', 'videoplus', 'questionnaire', 'lunchtime', 'usability', 'crosssection', 'upwards', 'italics', 'dislike', 'channelhopping', 'learn', 'quarter', 'reverses', 'fastforwarding', 'nightmare', 'financial', 'chilli', 'expensives', 'padding', 'acupressure', 'acupressures', 'financially', 'customise', 'competitors', 'monotonous', 'lunch', 'disorganized', 'william', 'click', 'pointing', 'night', 'mentions', 'customers', 'attached', 'women', 'shower', 'plans', 'lower', 'bareboard', 'houses', 'contrasts', 'clocks', 'sparkly', 'rubbery', 'spikes', 'normal', 'advertising', 'alarm', 'leverage', 'solar', 'electric', 'evening', 'presume', 'cheapest', 'practicalwise', 'calculators', 'attachment', 'userinterface', 'pocket', 'trendwatching', 'hinged', 'connected', 'message', 'translated', 'spaced', 'virtually', 'housing', 'manufacture', 'distances', 'aircraft', 'antirsi', 'stylus', 'joined', 'cabling', 'linking', 'remanufacture', 'rubberised', 'silly', 'charges', 'thatll', 'calculator', 'practically', 'activate', 'nightclubs', 'compact', 'forerunners', 'major', 'anonymous', 'watchtype', 'consultants', 'milan', 'trends', 'grief', 'personal', 'departments', 'compatible', 'attractiveness', 'traditional', 'fasciae', 'interrupt', 'singlecurved', 'singlecu', 'pushbutton', 'uncurved', 'surprises', 'predic', 'coordinated', 'hinges', 'spent', 'surprising', 'everythings', 'celebration', 'wherein', 'upgraded', 'crowd', 'gadgets', 'autonomy', 'specimen', 'elses', 'smart', 'funky', 'photoshop', 'buying', 'madness', 'overheads', 'someonell', 'truly', 'delegating', 'supervisor', 'interfering', 'minimises', 'influenced', 'anyones', 'neutral', 'pushbuttons', 'dollars', 'samples', 'raised', 'wouldve', 'customisation', 'clamshell', 'secret', 'conspiracy', 'awesome', 'inset', 'presumed', 'hinge', 'transmit', 'sender', 'bezzled', 'engraving', 'customised', 'feasibly', 'logical', 'incorporates', 'minimisation', 'capabilities', 'exotic', 'aubergines', 'texture', 'vegetable', 'someones', 'todays', 'heard', 'remit', 'adequate', 'ambivalent', 'based', 'innovations', 'false', 'obliques', 'eleven', 'speciality', 'finalising', 'shades', 'usurp', 'groovy', 'budgeting', 'shouting', 'subtractive', 'cancellation', 'damaged', 'fragile', 'circuits', 'computery', 'limitations', 'archives', 'craft', 'makers', 'train', 'figured', 'caffeine', 'powered', 'shuttle', 'transport', 'unirs', 'canonical', 'alternatives', 'schematic', 'apprentice', 'procedure', 'blasting', 'shared', 'harmful', 'methodology', 'survey', 'dislikings', 'encounter', 'enhance', 'increase', 'consu', 'disliking', 'globular', 'whistles', 'windowsstyle', 'telly', 'interference', 'globby', 'cushions', 'gimmickyness', 'finder', 'programmability', 'submodule', 'votes', 'summarize', 'fleshlike', 'plasticky', 'ethics', 'children', 'queries', 'helen', 'advancing', 'disinclude', 'obsolete', 'bouncy', 'durable', 'vibrates', 'apparatus', 'motto', 'existing', 'buyers', 'percentages', 'leading', 'sleek', 'handheld', 'portamint', 'released', 'portable', 'glowinthedark', 'thingamibobsy', 'cheaper', 'encourage', 'overload', 'handdynamo', 'breakthrough', 'needless', 'pulses', 'transistors', 'amplifiers', 'opamps', 'threatening', 'essentials', 'defines', 'setup', 'manufacturing', 'latex', 'sponge', 'elasticy', 'multicoloured', 'unidentifiable', 'fiable', 'symmetric', 'gourd', 'squash', 'withstanding', 'scrollwheel', 'scrollwheels', 'mobiles', 'sunlight', 'recharge', 'brian', 'excuse', 'outlook', 'advancement', 'indicates', 'becoming', 'views', 'disposable', 'society', 'icons', 'choices', 'childish', 'fruitish', 'subcentrally', 'mmmmmmmm', 'upsidaisy', 'standardise', 'facia', 'companys', 'activated', 'scrolling', 'stand', 'coaches', 'apples', 'supplements', 'cruelty', 'confusions', 'secured', 'keyring', 'durability', 'sheath', 'multicolour', 'comfier', 'imagination', 'childfriendly', 'vegetabley', 'carrot', 'stress', 'ergonomically', 'logan', 'environmentally', 'inconsistency', 'importantcause', 'glasses', 'spaceagey', 'oversized', 'predicted', 'cutbacks', 'bonuses', 'bring', 'fourths', 'conforms', 'scrollbuttons', 'audiences', 'chocolates', 'pineapple', 'sevenths', 'wrongly', 'association', 'thirteen', 'environmental', 'shift', 'prefer', 'nowadays', 'doublecurve', 'providing', 'requirem', 'crite', 'criterias', 'comes', 'technologywise', 'pricewise', 'orange', 'fruits', 'quick', 'reusable', 'tomato', 'fruitist', 'flattened', 'cancel', 'finances', 'bashed', 'sized', 'walkietalkie', 'bananabased', 'improvements', 'smoothly', 'companyll', 'gaurav', 'india', 'psycholinguistics', 'originality', 'stereotype', 'rabbit', 'fluffy', 'genetically', 'notebook', 'according', 'evadvaluation', 'leicester', 'sports', 'aerobics', 'kickboxing', 'spinning', 'rabbits', 'cocktails', 'horns', 'eeyore', 'inspirational', 'malarkey', 'overly', 'maximum', 'menubased', 'immediate', 'thoughts', 'websites', 'workspace', 'similarly', 'expertise', 'firstly', 'pockets', 'briefly', 'estonia', 'eating', 'gecko', 'lizard', 'living', 'cambodia', 'snakes', 'melbourne', 'professionally', 'patches', 'protect', 'responsible', 'hmhmm', 'comparatively', 'elderly', 'separation', 'beeper', 'integrate', 'integrated', 'processes', 'dealing', 'management', 'heart', 'interf', 'communicates', 'terminal', 'communicated', 'essent', 'perspective', 'preferably', 'sunshine', 'university', 'policy', 'heads', 'advertise', 'charmed', 'exciting', 'repetitive', 'keyboards', 'encourages', 'straining', 'wrists', 'wonder', 'unplugged', 'commitments', 'unaffordable', 'specs', 'secretary', 'recognitionll', 'preference', 'unplug', 'directive', 'randomly', 'wonderfully', 'presently', 'functionali', 'conventions', 'musthave', 'besides', 'problematic', 'inexpensive', 'wheels', 'guessing', 'constraint', 'sides', 'singe', 'surfaced', 'transistor', 'constantly', 'industry', 'corners', 'advantages', 'completes', 'infra', 'configurations', 'boards', 'dynamos', 'ticking', 'recharges', 'onesided', 'pointers', 'recent', 'protecting', 'practicality', 'wooden', 'cleanable', 'splinters', 'menudriven', 'interchangeable', 'discounting', 'searching', 'fabulous', 'wanting', 'protected', 'scratched', 'curviness', 'asymmetry', 'flatness', 'flipped', 'coach', 'pleasure', 'uneven', 'symmet', 'squishy', 'bounce', 'bananas', 'uhhum', 'timeconsuming', 'operation', 'friendliness', 'pleasant', 'recognises', 'developments', 'righthanded', 'operatable', 'clumsy', 'approximate', 'sevens', 'sixes', 'eighteen', 'sensor', 'vegetablelike', 'vibrate', 'limiting', 'whooshing', 'alteration', 'dictating', 'essay', 'rushed', 'slimy', 'minging', 'wales', 'investigation', 'locatable', 'accepting', 'spreadsheet', 'budgets', 'irritates', 'foresee', 'productive', 'diligently', 'lefthanders', 'righthanders', 'difficu', 'experiencing', 'varied', 'assessment', 'forgot', 'innovativeness', 'express', 'novel', 'patent', 'pressure', 'prevon', 'discrimination', 'majority', 'approximation', 'technologi', 'quicker', 'disabled', 'sellable', 'aesthetics', 'spiritual', 'toffee', 'squirrel', 'opening', 'someth', 'forgets', 'aesthetic', 'napoleon', 'liger', 'conception', 'decent', 'dynamite', 'demographic', 'responsibilities', 'awesomest', 'fiddly', 'humans', 'thinner', 'idvidnme', 'centred', 'gabriel', 'reissa', 'minority', 'medical', 'bluetooth', 'longlasting', 'address', 'instantly', 'panasonic', 'conclude', 'noteboard', 'pressurised', 'catherine', 'pitch', 'overcomplicate', 'locking', 'controlled', 'indoors', 'border', 'touching', 'prospective', 'strain', 'borders', 'musthaves', 'updown', 'numerical', 'movie', 'finishing', 'exists', 'behave', 'flashy', 'activating', 'supplement', 'okeydokey', 'televi', 'therapeuticising', 'slick', 'clean', 'bright', 'proof', 'researching', 'offices', 'bosses', 'sharing', 'rocket', 'spaceship', 'fifties', 'programmes', 'double', 'cheerful', 'wouldn', 'choosing', 'sources', 'torches', 'spinningwheel', 'generating', 'generator', 'avocado', 'apple', 'pomegranate', 'customising', 'payraise', 'incentive', 'noticeable', 'coffeemaker', 'promising', 'stressful', 'consulted', 'division', 'families', 'markets', 'decoration', 'bought', 'rubbers', 'cloths', 'edible', 'simulation', 'scissors', 'whilst', 'opposite', 'drinks', 'authority', 'literally', 'thank', 'pleased', 'splendid', 'doodah', 'integrally', 'rehashing', 'interest', 'tying', 'horse', 'shine', 'conformable', 'dough', 'heated', 'teams', 'extraordinary', 'babies', 'informed', 'twoish', 'smallish', 'fitted', 'ornaments', 'watched', 'logitech', 'adjourned', 'conceptional', 'amina', 'alima', 'california', 'coyote', 'snout', 'coyotes', 'magnitude', 'conflict', 'occasionally', 'turtle', 'drawable', 'snake', 'drawer', 'residence', 'recorder', 'bucciantini', 'handeye', 'nationalism', 'intelligent', 'mysterious', 'whiskers', 'water', 'impressive', 'contraptions', 'spatially', 'divides', 'jessy', 'horizontal', 'upgrade', 'objectives', 'impede', 'emphasising', 'speci', 'livingrooms', 'desires', 'emailed', 'fulfilled', 'loosey', 'tighty', 'overwhelmed', 'scattering', 'quality', 'regardless', 'stages', 'aparata', 'grinder', 'converts', 'beans', 'converted', 'brings', 'frozen', 'spell', 'ceefax', 'paying', 'compromises', 'appeals', 'scared', 'enduser', 'prototypes', 'practicalities', 'economic', 'improve', 'engineeringbased', 'featured', 'roundabouts', 'disadvantages', 'appleve', 'lefty', 'upndown', 'asked', 'importantly', 'inversely', 'inclined', 'frustration', 'difficulty', 'screw', 'volumes', 'changers', 'infrequently', 'complicate', 'phenomenon', 'visibility', 'unscrewed', 'userface', 'onscreen', 'preset', 'weight', 'applicable', 'sweet', 'strawberries', 'smelly', 'wherea', 'considerable', 'advocating', 'latexy', 'grippable', 'colourcoordinate', 'fruitshaped', 'thumbsized', 'allpurpose', 'headquarters', 'excited', 'coloured', 'scror', 'longlife', 'slight', 'complications', 'flashlights', 'spaceage', 'packaging', 'economics', 'presets', 'minimalistic', 'armchair', 'lemons', 'sleeker', 'inevitably', 'hardsold', 'impact', 'conducted', 'watchers', 'desire', 'stressing', 'verticalish', 'stale', 'hesitant', 'worded', 'enlighten', 'necess', 'sinking', 'envisioning', 'bicycle', 'mango', 'arrangements', 'shuffle', 'dominated', 'switches', 'criticisms', 'toggle', 'penguin', 'congratulations', 'links', 'rhombus', 'breakdown', 'electromagnet', 'complimentary', 'sloth', 'intellectual', 'external', 'fingers', 'submenus', 'conservative', 'fruity', 'pushing', 'potato', 'assumed', 'varieties', 'selectors', 'enjoyed', 'fingernail', 'leader', 'transponders', 'potatoey', 'overenthusiastic', 'infomercial', 'notorious', 'refrigerator', 'located', 'martian', 'seeds', 'threedimensional', 'decisive', 'selected', 'navigate', 'settee', 'seriously', 'deformed', 'mangoey', 'mangoes', 'achieved', 'heaviness', 'existed', 'timed', 'cooler', 'orally', 'mightve', 'bumblebeeish', 'newsclippings', 'powerpointy', 'necessities', 'objective', 'notion', 'silvery', 'prevent', 'introductions', 'marty', 'nathan', 'discs', 'smallville', 'buckley', 'radiohead', 'orchestra', 'terminology', 'religion', 'burritos', 'accomplishing', 'bucks', 'metropolitan', 'success', 'laundry', 'proposing', 'blend', 'roles', 'accomplish', 'stylist', 'tradeoff', 'multiformat', 'plates', 'surgical', 'dollar', 'states', 'overseas', 'reminder', 'leisure', 'thrilling', 'reinventing', 'maximising', 'hometown', 'tortillas', 'grandparents', 'forte', 'smallers', 'outstanding', 'anthropology', 'belgium', 'brussels', 'edinburgh', 'glasgow', 'quantity', 'plate', 'victoria', 'rings', 'brooklyn', 'nonetheless', 'mikes', 'bathgate', 'michigan', 'singer', 'classical', 'horrible', 'negotiate', 'microwave', 'multifunctional', 'grandmas', 'bridge', 'functioned', 'sacrifice', 'nokia', 'cased', 'recommended', 'provisionally', 'paging', 'import', 'reasons', 'reminders', 'modern', 'polymers', 'developer', 'emphatically', 'faster', 'revolutionising', 'doable', 'alias', 'isolated', 'unexpectedly', 'lawsuits', 'alkaline', 'grade', 'recycled', 'respect', 'successfully', 'afford', 'follows', 'microchip', 'thatd', 'flashing', 'manipulate', 'revolutionise', 'formatted', 'sincerely', 'subliminal', 'practices', 'primary', 'publics', 'pager', 'hideous', 'demographics', 'growing', 'catering', 'pensioners', 'hitech', 'emblematic', 'ports', 'cords', 'aphorism', 'lithium', 'kinesthetic', 'pretentious', 'subwoofers', 'glass', 'pyramidal', 'primarily', 'tasteful', 'softer', 'nonremote', 'controllooking', 'revisited', 'nonremotelooking', 'compartment', 'vaguely', 'youth', 'natural', 'fascinating', 'compelling', 'tomatoes', 'ubiquitous', 'kingdom', 'benefits', 'concrete', 'twentyfive', 'conclusions', 'packaged', 'sunbath', 'touchscreen', 'millimetres', 'manufacturies', 'signalling', 'tastes', 'perceive', 'paperweight', 'stick', 'copying', 'operator', 'blocking', 'dedicated', 'misplace', 'interme', 'faithful', 'dampers', 'inhouse', 'handling', 'basement', 'probabl', 'airport', 'terracotta', 'secondary', 'precedence', 'versatile', 'newer', 'images', 'bullets', 'holder', 'nonissue', 'solvent', 'unclear', 'attempts', 'ineffective', 'suspension', 'disbelief', 'legos', 'slowly', 'digitized', 'highpowered', 'doubleclicking', 'understimulated', 'builds', 'sarahs', 'woohoo', 'terminologies', 'burns', 'eyeball', 'doner', 'tentatively', 'itemize', 'integral', 'swiftly', 'criticism', 'tangled', 'disaster', 'assembled', 'boredom', 'coating', 'classic', 'microchips', 'superficial', 'layer', 'pseudoface', 'factory', 'permanent', 'adjustments', 'longrun', 'disappointed', 'brainstormed', 'regard', 'realisation', 'paste', 'detector', 'tongue', 'incorporation', 'kitkat', 'consumed', 'reiterate', 'eighties', 'contraption', 'earthquake', 'encased', 'polymer', 'nature', 'console', 'maker', 'proven', 'unclips', 'spongier', 'nonnatural', 'ideological', 'savings', 'desirable', 'intrigued', 'resourceful', 'impressed', 'containers', 'upped', 'teeth', 'extensive', 'accident', 'eloquent', 'prefixes', 'veneer', 'classier', 'compulsively', 'addicts', 'science', 'reach', 'qualities', 'setback', 'creepy', 'mandy', 'indepth', 'schematics', 'courtney', 'fenella', 'piranhas', 'amber', 'badger', 'giraffe', 'creatures', 'marketed', 'phasing', 'variances', 'kitty', 'forgo', 'grumpy', 'nocturnal', 'willows', 'liverpudlian', 'insanely', 'reconfigure', 'vegas', 'triple', 'watervascular', 'habitat', 'childishly', 'nontechnically', 'ranges', 'adult', 'technic', 'financing', 'onoff', 'reply', 'nobody', 'brains', 'demographically', 'perverts', 'permits', 'flashiness', 'subcomponent', 'diverting', 'workings', 'seemingly', 'accommodate', 'intuitively', 'foreign', 'strip', 'farther', 'enter', 'freeze', 'repeat', 'duplicating', 'eject', 'lastly', 'insulation', 'onetime', 'indicate', 'reassurance', 'except', 'denominator', 'educated', 'handicapped', 'demog', 'operas', 'sitcoms', 'garish', 'subtitles', 'expanding', 'angeles', 'spanish', 'snazzy', 'sidetoside', 'cellphone', 'experts', 'userspecified', 'upandcoming', 'highclass', 'showed', 'silvermetallic', 'shiny', 'illumination', 'foremost', 'illustrated', 'nowim', 'retro', 'rarity', 'cellphones', 'overlays', 'solids', 'keyphrase', 'midclass', 'handshape', 'scrollbutton', 'sticks', 'simplistic', 'diode', 'resonator', 'resistors', 'capacitator', 'powersource', 'massproduced', 'masse', 'increases', 'curvatures', 'beneficial', 'utilise', 'thousand', 'voiceactivated', 'irritated', 'salesroom', 'cherrycoloured', 'laugh', 'replaceable', 'refresh', 'triangular', 'recognised', 'lighter', 'gunmetal', 'combines', 'bluebased', 'paris', 'clothing', 'illuminating', 'retros', 'classically', 'heavy', 'congenial', 'fallings', 'notches', 'constitute', 'capable', 'proceed', 'whoohoo', 'reflection', 'resembling', 'cookie', 'stifled', 'restricting', 'commercial', 'margaritas', 'seethrough', 'lightup', 'thumbshaped', 'thicker', 'scrolls', 'gouges', 'misses', 'figleaf', 'winner', 'millions', 'nologically', 'indented', 'fight', 'plugs', 'abigail', 'claflin', 'dolphin', 'pictionary', 'graceful', 'disastrous', 'scotland', 'acquainted', 'mathematician', 'slideshow', 'convenient', 'binocular', 'dolphins', 'mammals', 'dying', 'stephanie', 'textile', 'tactile', 'dragging', 'handsized', 'celebrity', 'furry', 'transmitting', 'capabili', 'share', 'sessions', 'teenagers', 'pricey', 'shown', 'targeting', 'reprogrammable', 'cycle', 'vibration', 'purchase', 'buzzer', 'dealy', 'clockwise', 'findable', 'concludes', 'nineteen', 'twopart', 'laboratory', 'complained', 'custome', 'kryptonite', 'protu', 'hadnt', 'ipodlike', 'concluded', 'squashy', 'cherries', 'ipodstyle', 'consulting', 'theirs', 'wheely', 'grapefruit', 'blueberry', 'ipodish', 'touchbased', 'tactilely', 'detachable', 'broccoli', 'whatchamacallits', 'timer', 'neater', 'fashionwatchers', 'theme', 'therefore', 'shocking', 'fabrics', 'abbreviations', 'dreading', 'frankly', 'technologic', 'strawberry', 'relaxing', 'condom', 'comfort', 'irregular', 'squishiness', 'democratic', 'spats', 'ignorant', 'practicalit', 'reiteration', 'satisfactory', 'reports', 'fruitiness', 'answering', 'swear', 'cucumbers', 'conflicts', 'planned', 'strawberrys', 'playdough', 'rhubarb', 'hatch', 'wordperfect', 'offtask', 'handholdable', 'uncomfortable', 'redesigns', 'creatively', 'stimulating', 'comparable', 'ending', 'mixed', 'singly', 'unfancy', 'tedious', 'approaching', 'darkened', 'planet', 'kendra', 'fronts', 'formalised', 'preconceived', 'userunfriendly', 'untangling', 'sapien', 'dependable', 'granted', 'awkward', 'horses', 'handiest', 'faceplates', 'lightest', 'status', 'plain', 'subtle', 'astray', 'forty', 'buttonless', 'ignoring', 'contoured', 'personalise', 'illuminated', 'rooms', 'technicalities', 'expectancy', 'usage', 'sealed', 'appeared', 'attributed', 'longer', 'individuals', 'remarkably', 'clicking', 'movable', 'senderreceiver', 'guaranteed', 'logos', 'sends', 'wider', 'hidden', 'forget', 'functio', 'regularly', 'incrementally', 'sliders', 'unreliability', 'guarantee', 'accessory', 'routes', 'conveniently', 'plasticine', 'atlantic', 'inappropriate', 'maintenance', 'technol', 'electrical', 'rolling', 'supermarket', 'supermarkets', 'redundant', 'envisaged', 'modify', 'kendras', 'cheaply', 'constrain', 'anyti', 'dialling', 'premium', 'informations', 'conjunction', 'investing', 'capacitor', 'microphoneesque', 'amplifies', 'costeffective', 'lifetime', 'customdesigned', 'experimental', 'fundament', 'cluttered', 'preprogramme', 'unusual', 'weights', 'picturing', 'favourites', 'wherever', 'datas', 'flase', 'argue', 'vertically', 'costing', 'targets', 'techno', 'broaden', 'nondescript', 'solve', 'gauge', 'managements', 'plant', 'maximise', 'stead', 'userfriendliness', 'thataway', 'trendiness', 'mousey', 'steph', 'cowards', 'hiding', 'nittygritty', 'nodding', 'kittycat', 'wombat', 'ratty', 'cheeky', 'shoulder', 'homework', 'shark', 'japanamation', 'cachet', 'literate', 'simultaneous', 'granny', 'grandchild', 'financi', 'objecting', 'capacities', 'influence', 'adopters', 'patient', 'repair', 'segregated', 'webbased', 'composes', 'defeated', 'intelligence', 'encodes', 'reparable', 'convinced', 'resolutions', 'preferencesyeah', 'extraneous', 'movies', 'merely', 'revolutionised', 'recharged', 'develop', 'install', 'fiddling', 'extraordinarily', 'reductionist', 'composer', 'realm', 'depen', 'breakage', 'incidentally', 'reenvision', 'charts', 'streamlining', 'succession', 'turning', 'outsmart', 'happy', 'discard', 'productions', 'approachable', 'responded', 'osbournes', 'osbourne', 'attempting', 'guided', 'recharger', 'consequences', 'eliminated', 'approved', 'households', 'agreeable', 'selfstimulating', 'workability', 'frontrunners', 'sedentary', 'overhead', 'innards', 'pointer', 'taxing', 'delegate', 'economical', 'exercises', 'flavours', 'delicate', 'squeezing', 'flavour', 'sniff', 'fruitwise', 'overriding', 'kiddie', 'appearing', 'spacey', 'titaniums', 'futuristic', 'mouldable', 'naming', 'blackberry', 'streamline', 'childs', 'investigated', 'fanciful', 'catwalks', 'refashion', 'polished', 'elegant', 'superior', 'substances', 'cloak', 'themed', 'sleeves', 'patterned', 'dress', 'sleeve', 'branding', 'personalising', 'teenager', 'worries', 'spongiest', 'scratchy', 'streets', 'chunkiness', 'coordination', 'onoffs', 'reinforced', 'purely', 'quirky', 'imprinted', 'involving', 'photographs', 'rounder', 'sculptures', 'molded', 'restraints', 'towards', 'touchyfeely', 'arrangement', 'experienced', 'curliness', 'reliant', 'ideals', 'saving', 'enviro', 'polarity', 'depart', 'trendier', 'yourselves', 'supposedly', 'impression', 'alastair', 'projecting', 'louisa', 'tired', 'defeat', 'menagerie', 'dachshund', 'requisites', 'dated', 'progressed', 'forestalled', 'relying', 'caters', 'inoperable', 'standby', 'tuner', 'magic', 'apogee', 'expansion', 'dispense', 'endanger', 'speed', 'suppl', 'interprets', 'batterys', 'facilitates', 'electricity', 'adverts', 'discourage', 'surround', 'studio', 'performed', 'arrows', 'bypass', 'prepared', 'answers', 'concentrated', 'receptive', 'upsidedown', 'misdirect', 'discounted', 'caboodle', 'badge', 'predominant', 'supply', 'preclude', 'specialist', 'affected', 'childrens', 'minimally', 'contradicting', 'bulges', 'perform', 'wacky', 'rambling', 'impacts', 'fewer', 'imaginations', 'timescale', 'dependant', 'sensors', 'debate', 'attract', 'presuming', 'framed', 'outline', 'profitability', 'drats', 'curtain', 'colouration', 'disjointed', 'whichever', 'secondly', 'debug', 'enable', 'crashing', 'reasonably', 'liked', 'anywhere', 'rubberiness', 'slideaway', 'leaderships', 'summery', 'cherry', 'spacecraft', 'moulded', 'fanciness', 'fashionability', 'saved', 'restrictive', 'lightweight', 'produ', 'comput', 'formulated', 'demonstrates', 'buyer', 'fulfilling', 'cents', 'underway', 'poppy', 'heather', 'outrageous', 'manag', 'channelchanger', 'teambuilding', 'expressing', 'charac', 'bodies', 'antlers', 'creature', 'overcome', 'terrain', 'herbivore', 'peacock', 'cartoon', 'sociable', 'seemed', 'heading', 'universally', 'acceptable', 'drawn', 'police', 'seeingeye', 'companion', 'vicious', 'sheep', 'shapely', 'pinocchio', 'robot', 'butterfly', 'arriving', 'march', 'conch', 'shellshaped', 'artist', 'navigating', 'offered', 'genevieve', 'selfdestructible', 'recycling', 'signaller', 'investi', 'fluorescent', 'pressed', 'accessories', 'turnover', 'sector', 'labourintensive', 'presenter', 'anytime', 'fancylooking', 'concise', 'channelchangers', 'negate', 'bringing', 'largest', 'profitable', 'timetables', 'reception', 'adhesive', 'obtrusive', 'selftimed', 'lighting', 'phosphorescent', 'interchan', 'genevieves', 'researches', 'alloys', 'metals', 'force', 'apologise', 'shapememory', 'alloy', 'deconstructed', 'unscrew', 'selfdestruct', 'teamworking', 'machinery', 'sideline', 'multitude', 'preferable', 'obtainable', 'repeti', 'twenties', 'embossed', 'visually', 'impaired', 'interviewed', 'arthritis', 'decreases', 'adults', 'respective', 'accepted', 'allowance', 'findability', 'explosion', 'reactivates', 'neonstyle', 'faceplate', 'household', 'thumbmasters', 'relevancy', 'jarring', 'mandatorily', 'handpowered', 'lookandfeel', 'cranking', 'encapsulating', 'diodes', 'clipon', 'kinetety', 'translucent', 'shake', 'removable', 'protective', 'damage', 'resonators', 'capacit', 'capacitors', 'minima', 'transformed', 'renewable', 'slidy', 'symmetrical', 'ideal', 'grapes', 'perceived', 'emphasises', 'graphics', 'consist', 'forms', 'contro', 'bananashaped', 'revitalises', 'clashing', 'frontwards', 'kitchenware', 'kitchen', 'essence', 'animalbased', 'scented', 'pauls', 'extension', 'positively', 'christmas', 'playful', 'shakerstyley', 'channelchanging', 'alarms', 'confronting', 'pushed', 'timing', 'snappy', 'representing', 'rubberness', 'palmheld', 'nought', 'watermelon', 'vanilla', 'settled', 'cream', 'seasonal', 'khaki', 'metallicy', 'potatos', 'metallic', 'afforded', 'thirt', 'flick', 'pomegranates', 'vanillas', 'pound', 'vibra', 'zapping', 'biology', 'personalisation', 'quacking', 'yellows', 'bravo', 'difficulties', 'protoptype', 'techn', 'killed', 'flatter', 'keyboard', 'onehanded', 'detailing', 'goround', 'child', 'ballshaped', 'letting', 'stable', 'stability', 'manuel', 'comfy', 'instinctual', 'spherical', 'sphere', 'collecting', 'whiting', 'partners', 'countries', 'girls', 'flare', 'memorised', 'handbag', 'rounded', 'explore', 'twopiece', 'younger', 'costly', 'sizewise', 'twoinone', 'sufficiently', 'statue', 'interiors', 'dictates', 'altered', 'alter', 'dictated', 'usual', 'nearer', 'variation', 'slinky', 'remotely', 'usercentred', 'engineercentred', 'elaborate', 'orientated', 'listened', 'interviews', 'clarify', 'eliminate', 'ugliness', 'figures', 'finest', 'chiponprint', 'noncomplex', 'backed', 'nerves', 'explored', 'useroriented', 'rundown', 'arizona', 'smell', 'implied', 'fruitminded', 'refreshed', 'exclude', 'sophistic', 'cranes', 'cannot', 'angular', 'affecting', 'designwise', 'amplify', 'lamination', 'transferred', 'greenish', 'cables', 'outer', 'antistress', 'interestingly', 'bananaesque', 'devised', 'responds', 'personalised', 'thirdly', 'pieces', 'stereotypically', 'males', 'spongyfeeling', 'coverings', 'covering', 'citrus', 'grips', 'consumerism', 'redesigned', 'evaluations', 'employees', 'fired', 'noncommittal', 'proximity', 'truth', 'screaming', 'miranda', 'betcha', 'chrome', 'antitheft', 'suitcases', 'mahogany', 'transmits', 'sharp', 'solely', 'stolen', 'detract', 'shabby', 'fiasco', 'incom', 'administration', 'mailbox', 'printer', 'photocopier', 'reasearch', 'cupboards', 'southwest', 'oriented', 'sunrise', 'northeast', 'sunset', 'spare', 'marianne', 'mariannes', 'noisy', 'security', 'gisella', 'condition', 'humanly', 'assistant', 'avoiding', 'fulltime', 'mountain', 'stripe', 'courtyard', 'library', 'administrator', 'reserving', 'cafeterias', 'informal', 'professor', 'stagieur', 'nowhere', 'bookshelves', 'minilibrary', 'collegues', 'mountains', 'mailboxes', 'stagieurs', 'complain', 'south', 'orienting', 'geneva', 'walls', 'facing', 'bathrooms', 'elevators', 'professors', 'administrators', 'networked', 'printers', 'halfcircular', 'doors', 'issco', 'summertime', 'reserve', 'trainees', 'southeast', 'assistent', 'students', 'maggie', 'susan', 'typing', 'healthy', 'wiring', 'wishes', 'nancy', 'pirette', 'skive', 'skiving', 'unadvantaged', 'bruno', 'traffic', 'nearby', 'smoking', 'sixth', 'disadvantage', 'receivi', 'exams', 'senior', 'dictatorship', 'vending', 'italian', 'conditioning', 'smokers', 'poster', 'pierrette', 'architect', 'welcoming', 'warming', 'nonpermanent', 'andrei', 'yalina', 'agnes', 'maria', 'gossiping', 'enjoying', 'photocopying', 'misunderstand', 'reduction', 'nespresso', 'nonsmoking', 'gisellas', 'teaches', 'environments', 'nikos', 'premindia', 'parmenidy', 'parmenidies', 'martha', 'promised', 'parttime', 'permutations', 'optimum', 'solutions', 'organise', 'variable', 'halftime', 'grouping', 'cubicles', 'floor', 'contiguous', 'assistants', 'furnishing', 'lounge', 'intern', 'separations', 'corridor', 'visitors', 'filing', 'staying', 'regulation', 'toilets', 'oneperson', 'visitor', 'implicit', 'tradition', 'followed', 'shaft', 'formal', 'cafeteria', 'demanding', 'cabinet', 'shelves', 'desks', 'distribute', 'arranging', 'drawers', 'faculty', 'socioeconomics', 'privacy', 'insofar', 'private', 'rectorate', 'confidential', 'treating', 'disappeared', 'balcony', 'smoke', 'underused', 'valorize', 'administrative', 'authorisation', 'typical', 'politically', 'accommodating', 'admin', 'nonresearcher', 'visiting', 'evident', 'multiconstraint', 'newspapers', 'stinct', 'vivid', 'emergency', 'reduces', 'presence', 'confidentiality', 'progressively', 'shirts', 'imtwo', 'upper', 'swisstra', 'smoker', 'reluctant', 'walkman', 'calmer', 'balancing', 'genders', 'objection', 'demanded', 'scientific', 'mysel', 'paola', 'implies', 'admins', 'stays', 'master', 'thesis', 'circulate', 'prefinal', 'wisely', 'lightbrown', 'violet', 'spending', 'rationale', 'schema', 'byebye', 'fortunately', 'fewest', 'stare', 'earplugs', 'sexes', 'january', 'divider', 'himself', 'marias', 'occupied', 'occupancy', 'credible', 'hired', 'november', 'workplace', 'lounges', 'decently', 'welcomed', 'provocative', 'planning', 'crowded', 'stabler', 'opposition', 'accommodated', 'defendable', 'switched', 'proposition', 'horizon', 'reachable', 'corresponds', 'reshuffled', 'overloaded', 'floors', 'partitions', 'admittedly', 'argumentation', 'researcher', 'armchairs', 'displace', 'minimeeting', 'storage', 'complaining', 'bookshelf', 'magazine', 'fullblown', 'fluctuates', 'danger', 'finnish', 'interns', 'backfire', 'lausanne', 'statutes', 'decole', 'andre', 'cathedral', 'lavish', 'partition', 'bookcases', 'hightraffic', 'restrooms', 'unuseful', 'swedish', 'womens', 'norms', 'insist', 'sensitive', 'soundproof', 'slots', 'arrives', 'strongest', 'arrive', 'parmenides', 'yalinas', 'defended', 'insisted', 'balanced', 'gisel', 'faculties', 'nominal', 'disturbing', 'journals', 'administrate', 'story', 'violent', 'nineteenth', 'nominated', 'awards', 'disheartened', 'psychologist', 'rethink', 'powerful', 'emotional', 'daily', 'gangster', 'liotta', 'lecter', 'hopkins', 'suburban', 'psychopaths', 'daughter', 'fantasises', 'mainstream', 'predominantly', 'landing', 'reenhanced', 'damon', 'graveyard', 'posters', 'directors', 'suspects', 'american', 'beauty', 'fiction', 'tarantino', 'ascension', 'ninth', 'mcquarrie', 'byrne', 'criminals', 'arrested', 'prison', 'crime', 'coincidence', 'ubervillain', 'funniest', 'stone', 'famous', 'shyamalan', 'osment', 'collette', 'apocalypse', 'amadeus', 'historical', 'dramatic', 'violence', 'actioney', 'nineties', 'actor', 'british', 'viewers', 'hints', 'mononoke', 'kieslowski', 'coleurs', 'danish', 'alternates', 'history', 'arabia', 'vietnam', 'drama', 'humanistic', 'glorification', 'nazis', 'soldier', 'brothers', 'government', 'decides', 'killing', 'germans', 'camels', 'battles', 'prizes', 'director', 'spielberg', 'cimena', 'cinematography', 'reduced', 'documentaries', 'serve', 'candidate', 'miller', 'caption', 'remembering', 'sacrifices', 'compensated', 'german', 'among', 'italians', 'humorous', 'humour', 'relation', 'controversies', 'zetajones', 'chandler', 'lebowskis', 'brighter', 'nominate', 'mirek', 'nominees', 'nominee', 'nominations', 'denis', 'lebowski', 'schindlers', 'lambs', 'ascensions', 'liberation', 'camps', 'liberated', 'films', 'coherence', 'radically', 'drawback', 'encouraging', 'songs', 'decrypt', 'foster', 'masterpiece', 'scorseses', 'godfather', 'thrillers', 'scaring', 'agent', 'psychopathic', 'psychotic', 'anthony', 'penetrating', 'poetic', 'relaxed', 'influencing', 'broadcasting', 'shooting', 'projected', 'occasion', 'forman', 'psychopath', 'filming', 'schin', 'cannes', 'nonhero', 'stories', 'projection', 'moralistic', 'nonviolent', 'fargo', 'cruel', 'suburb', 'bowling', 'goodman', 'turturro', 'buscemi', 'surrealistic', 'jeffrey', 'ethnographic', 'francs', 'subscrip', 'subscription', 'cowboy', 'quotations', 'contradictory', 'steven', 'agness', 'april', 'actors', 'affranchis', 'mafia', 'character', 'thurman', 'endings', 'mysteries', 'twists', 'disgusting', 'darker', 'redemption', 'twist', 'bening', 'casually', 'rewatch', 'notably', 'thriller', 'manner', 'actiony', 'cesar', 'showings', 'violently', 'normandy', 'striking', 'filmed', 'scenes', 'sixties', 'anonymously', 'greyish', 'darkish', 'uniforms', 'weapons', 'resentful', 'christian', 'funnier', 'treatment', 'enjoyable', 'voted', 'freer', 'spans', 'evadees', 'poignant', 'clubbers', 'boxer', 'statistically', 'deniss', 'belly', 'darabont', 'freshest', 'combat', 'victory', 'starling', 'killer', 'hannibal', 'simulati', 'shawshank', 'trivias', 'advertisements', 'sleepi', 'sleeping', 'dufresne', 'witnesses', 'horrors', 'endured', 'comeback', 'goodfellas', 'highly', 'lebowksi', 'friend', 'veteran', 'apartment', 'bridges', 'competing', 'moore', 'pricing', 'mondre', 'killers', 'afterward', 'morbid', 'swapped', 'adver', 'kevin', 'simulating', 'pursue', 'baths', 'roses', 'favou', 'robbins', 'freeman', 'matched', 'olivier', 'plane', 'registration', 'matching', 'histogram', 'bhattacharya', 'downsampling', 'kayaks', 'transition', 'burning', 'shots', 'regenerate', 'dissolve', 'incrustation', 'cinetis', 'whiter', 'enhancement', 'restoration', 'clustering', 'processed', 'stabilisation', 'ultim', 'chapters', 'client', 'organi', 'compensation', 'reproduced', 'histograms', 'decomposition', 'cache', 'manmade', 'scene', 'wishable', 'resay', 'subshots', 'remind', 'scrambled', 'scramble', 'grass', 'stones', 'adaptive', 'sebastien', 'precise', 'applied', 'restore', 'algori', 'archive', 'preparation', 'disco', 'slash', 'downsam', 'kayak', 'firefox', 'outputs', 'outputting', 'outputted', 'developers', 'grabbed', 'executable', 'extensible', 'alessandro', 'protections', 'secure', 'listable', 'reprocessing', 'reprocess', 'consecutive', 'latency', 'subthreshold', 'rhythmia', 'idiap', 'resize', 'cropping', 'producer', 'streaming', 'investigating', 'supported', 'structuring', 'researched', 'subshot', 'anytimes', 'dissolves', 'graph', 'internship', 'supervision', 'jeanmarc', 'tests', 'greek', 'organisation', 'equal', 'grabbing', 'insurance', 'quotation', 'recoverable', 'utilised', 'tolerant', 'reported', 'normalised', 'likelihoods', 'posteriors', 'architecture', 'mails', 'sprinklers', 'compute', 'optimisation', 'rates', 'estimation', 'prewritten', 'trained', 'gamma', 'estimated', 'computed', 'posterior', 'enhancing', 'contextual', 'verifying', 'decoding', 'regenera', 'regenerating', 'regenerated', 'mainly', 'inversion', 'penalty', 'multistream', 'deltas', 'traps', 'interspeech', 'networks', 'italy', 'senegal', 'reverse', 'motivation', 'formally', 'formalism', 'probablility', 'observation', 'encode', 'topological', 'recursions', 'evidences', 'introducing', 'composed', 'likelihood', 'hemant', 'likelihoo', 'phonebook', 'monophone', 'triphone', 'monophones', 'mirror', 'fails', 'disks', 'notifies', 'recovery', 'recovered', 'insured', 'scaling', 'truncated', 'gammas', 'hardly', 'triphones', 'pedro', 'iteration', 'iterations', 'completing', 'underground', 'hemants', 'databases', 'insure', 'perplexity', 'categorisation', 'judge', 'compar', 'combi', 'marbles', 'transparency', 'linki', 'rapple', 'heuristic', 'pyramid', 'initialise', 'quantitative', 'quantitatively', 'elise', 'effecti', 'devaluation', 'texts', 'cluster', 'engine', 'distributions', 'linked', 'flattens', 'slashdot', 'geeks', 'heuristics', 'lotus', 'crossvalidation', 'converges', 'clustered', 'locally', 'crawl', 'wikipedia', 'correlated', 'pushes', 'dirichlet', 'gaussian', 'covariance', 'simplex', 'gaussians', 'partly', 'vector', 'comparison', 'label', 'keyword', 'labelli', 'unlabelled', 'associating', 'assigning', 'initialisation', 'setups', 'cosine', 'unsupervisely', 'priori', 'predefined', 'yahoo', 'marble', 'dissimilar', 'optimisable', 'iterative', 'blindly', 'alphas', 'infer', 'hyperlinks', 'categorise', 'wellstructured', 'assignation', 'citation', 'spreading', 'iterate', 'converge', 'unsupervised', 'latent', 'representations', 'trajectories', 'approximating', 'envelope', 'motlicek', 'bands', 'narrow', 'sinusoid', 'cosinusoid', 'wired', 'sines', 'tragedy', 'predictor', 'modeling', 'prediction', 'icassp', 'boston', 'kindergarten', 'peaks', 'spotting', 'cheju', 'islands', 'statistic', 'perceptual', 'perceptua', 'atlass', 'mathemat', 'theoretician', 'stanford', 'rigorous', 'opposed', 'regardi', 'icassps', 'marius', 'tremendously', 'hardware', 'france', 'hunger', 'walking', 'browse', 'timewise', 'compilation', 'herve', 'lecture', 'boyfriend', 'craziest', 'rewriting', 'livelihood', 'athineos', 'ellis', 'falling', 'marios', 'realised', 'energies', 'inelegant', 'trajectory', 'graduated', 'matthew', 'barry', 'carrier', 'smile', 'periodic', 'reverberance', 'unreadable', 'graduate', 'graduates', 'guillermo', 'credits', 'computation', 'subbands', 'trapezoidal', 'mfccs', 'triangulars', 'hilbert', 'autoregressive', 'preserve', 'logarithm', 'uncompress', 'interceptor', 'tandem', 'reconstructed', 'coefficients', 'feeding', 'warping', 'compressions', 'resynthesis', 'widths', 'lengths', 'residual', 'subband', 'confere', 'implementations', 'multiply', 'optimised', 'libraries', 'turnaround', 'chernotsky', 'notepads', 'learned', 'partially', 'petra', 'hynek', 'bornet', 'quicknet', 'frontends', 'backend', 'applying', 'filtering', 'preserved', 'picked', 'preserving', 'rewrote', 'synchronize', 'sphinx', 'acquisition', 'reconstruct', 'sheets', 'classify', 'inference', 'matrices', 'midtech', 'tables', 'installation', 'implementation', 'bottoms', 'loudest', 'angry', 'yelling', 'optic', 'protocol', 'icsla', 'placed', 'sectors', 'socialising', 'modular', 'trigger', 'pedagogical', 'visuali', 'visualising', 'instant', 'reflected', 'intensity', 'waves', 'disappearing', 'historically', 'origins', 'spoken', 'leaving', 'exhale', 'extending', 'guillaume', 'michael', 'subprojects', 'breath', 'localization', 'signature', 'distributing', 'mirroring', 'electret', 'omnidirectional', 'neglected', 'selfregulating', 'normative', 'accesi', 'explicit', 'peripher', 'peripherical', 'distant', 'approximatively', 'solidity', 'richer', 'simulate', 'beams', 'bandwidth', 'advise', 'counterintuitive', 'radians', 'occupying', 'prolongating', 'inherent', 'intersect', 'dominant', 'instantaneous', 'negligible', 'timbre', 'francais', 'females', 'energetic', 'smoothing', 'stationary', 'asymmet', 'linear', 'suboptimal', 'precision', 'directional', 'synchronised', 'precisely', 'concretely', 'elevation', 'triangulation', 'screws', 'conversations', 'subtracting', 'interval', 'vocal', 'emotion', 'involvement', 'regards', 'participating', 'replying', 'mouth', 'localisation', 'spontaneous', 'adequately', 'coded', 'statistical', 'stationality', 'plosives', 'shifting', 'modulation', 'nyquist', 'transitions', 'bottleneck', 'attended', 'letter', 'subwindows', 'leven', 'improvement', 'normalising', 'handful', 'framing', 'quoting', 'temporal', 'discreet', 'optimation', 'cautious', 'engineers', 'linguists', 'phoneticians', 'lvcsr', 'synthesise', 'synthes', 'synthesised', 'introduced', 'participated', 'lagos', 'recogniser', 'digits', 'convulsed', 'entropies', 'aurora', 'icslp', 'publishing', 'siemens', 'chrystler', 'samsung', 'recognisers', 'dragon', 'dictation', 'callings', 'festival', 'syntax', 'occas', 'voices', 'concatenation', 'diphones', 'inventory', 'releasing', 'multisyn', 'speaks', 'viterbi', 'optimise', 'johann', 'semitied', 'tiein', 'decorrelation', 'diagonals', 'mixtures', 'megabytes', 'storing', 'nonoptimal', 'nonoptimum', 'vowels', 'decompose', 'quantise', 'encoding', 'prett', 'singular', 'actively', 'qualcomm', 'beach', 'decorrelations', 'cohens', 'northwest', 'lisbon', 'wheelchair', 'indic', 'suisse', 'diagonal', 'decorrelate', 'variabl', 'beambot', 'supposing', 'dividing', 'normaliser', 'equidistant', 'scientists', 'publish', 'costa', 'caparica', 'perfectly', 'pentium', 'north', 'decoder', 'river', 'comprehensible', 'diphone', 'chooses', 'builtin', 'synthetic', 'hamed', 'somethi', 'school', 'authors', 'sounded', 'douglas', 'adams', 'trams', 'direct', 'pruning', 'extended', 'eurospeech', 'subwindow', 'daimler', 'secretive', 'mercedes', 'cohen', 'jorda', 'attend', 'implant', 'intrinsic', 'bunch', 'sinusoidal', 'somethings', 'reconstruction', 'susceptible', 'parameterizing', 'temporally', 'amplitudes', 'refitting', 'nokias', 'triband', 'lawyer', 'mathematics', 'communications', 'delilahs', 'algorithmic', 'compressing', 'interpolate', 'scalable', 'unwrapping', 'monotonically', 'decreasing', 'unwrapped', 'conceivably', 'discontinuities', 'modulated', 'nonlinear', 'transmitted', 'slices', 'distortion', 'unvoiced', 'bugger', 'parameterization', 'terribly', 'rapidly', 'container', 'packet', 'packetized', 'voila', 'transi', 'bandwidths', 'optimization', 'parameterize', 'anglia', 'cambridge', 'mathematical', 'dispute', 'recogni', 'interpolation', 'scaled', 'huffmans', 'quantize', 'whispering', 'pulse', 'quantization', 'quantisation', 'harmonic', 'frequencys', 'modulations', 'autocorrelation', 'pseudo', 'severe', 'stringent', 'milner', 'distributor', 'etsai', 'fourier', 'kilobits', 'kilobyte', 'harmonics', 'picking', 'transcs', 'inter', 'approximated', 'optimized', 'impulses', 'impulse', 'disturbed', 'magnitudes', 'whispered', 'voiceness', 'mores', 'unwrap', 'quantizing', 'harmonicity', 'reconstr', 'spectrograms', 'artifacts', 'thirteenth', 'errors', 'recon', 'operations', 'resynthesize', 'encoded', 'erased', 'franck', 'alexandre', 'trivial', 'synchron', 'synchronized', 'tolerable', 'recordings', 'alignments', 'microsecond', 'nondiploma', 'disting', 'retrieval', 'acquiring', 'capture', 'snapshots', 'regarding', 'fribourg', 'slaves', 'ethernet', 'firefree', 'slave', 'reuse', 'tapes', 'inserter', 'serted', 'insertion', 'uncode', 'darren', 'grabber', 'synchroni', 'unknown', 'diploma', 'graphic', 'decrease', 'demos', 'acquisi', 'advancements', 'capturing', 'indico', 'deliver', 'installed', 'amphitheatre', 'captured', 'reviewing', 'driven', 'unrealistic', 'warnings', 'accusation', 'broadly', 'helps', 'exigencies', 'summarization', 'textual', 'appearances', 'automatical', 'someday', 'routing', 'nuance', 'believing', 'submission', 'submitted', 'independence', 'tendency', 'rescoring', 'pearson', 'observing', 'fluctuating', 'fluctuation', 'summarizing', 'recognized', 'absence', 'frequence', 'observe', 'disconnected', 'hundreds', 'shortterm', 'collection', 'foreground', 'disposition', 'preprepare', 'collected', 'umyou', 'recognize', 'improves', 'bullet', 'measurable', 'respecting', 'phoneme', 'router', 'pragmatic', 'qualitative', 'performanceyou', 'correspondence', 'dependency', 'fluctuations', 'distracted', 'motivate', 'foreseeable', 'perspectives', 'unimodal', 'corpora', 'graphemic', 'presegment', 'headings', 'stylistic', 'normalization', 'converging', 'promises', 'generic', 'jeanyves', 'familiarise', 'impulsive', 'purposefully', 'multimodality', 'learnt', 'phrases', 'occupy', 'nondeterminist', 'custom', 'telecoms', 'nonsense', 'beeped', 'breathing', 'obstructed', 'extrapolate', 'defending', 'zebra', 'zebras', 'swordfish', 'moustache', 'maximal', 'prerequisites', 'retyping', 'nanne', 'espec', 'functioning', 'distinguished', 'colleague', 'toolbar', 'strokes', 'upward', 'matth', 'whitebo', 'charas', 'cheapend', 'supporting', 'recorders', 'furthermore', 'highperformance', 'adapt', 'downloading', 'overdemand', 'decline', 'spacious', 'sligh', 'popularly', 'digit', 'vouch', 'connect', 'streamed', 'cheaps', 'social', 'compose', 'webpage', 'adapting', 'customizing', 'nonrecta', 'nonrectangular', 'surveys', 'eyecatching', 'necessar', 'superiors', 'aftersales', 'concerning', 'volts', 'emphasize', 'inventories', 'higherend', 'operated', 'easiness', 'listed', 'progra', 'underlie', 'graphs', 'customized', 'themself', 'assemble', 'stronger', 'demokraphi', 'textures', 'philosophy', 'addson', 'dispra', 'costings', 'seats', 'dried', 'protruding', 'innova', 'attracts', 'sheet', 'transti', 'eyeattracting', 'evalua', 'unconsciously', 'locati', 'grandmothers', 'offers', 'sophistication', 'reconsider', 'chances', 'cluttering', 'protrude', 'barks', 'whistleable', 'lighted', 'receive', 'react', 'christine', 'profe', 'shocks', 'waterproof', 'dispatching', 'selled', 'orangutan', 'caramel', 'multidevice', 'lawnmower', 'panic', 'squarey', 'discus', 'configure', 'losed', 'competitive', 'amongst', 'investigations', 'shortcut', 'moreover', 'tendonditis', 'kickoff', 'eighty', 'resisting', 'useable', 'remultific', 'imprint', 'prodyuc', 'adapted', 'consuming', 'concert', 'backlight', 'unexpen', 'alhasred', 'furnitures', 'presen', 'croix', 'techne', 'surrounded', 'tadada', 'congratulation', 'fantastically', 'lightning', 'futureproof', 'exceptionally', 'highpriced', 'twelvefifty', 'certainty', 'mindshare', 'reasonablepriced', 'midmarket', 'profitmargin', 'chairs', 'cradle', 'phonebased', 'poweradaptor', 'functionalitywise', 'offering', 'allinone', 'seventyfive', 'lasts', 'diehard', 'phototransistor', 'softwarewise', 'commercials', 'proprietary', 'trainable', 'commodities', 'slickness', 'rollsroyce', 'mediumlow', 'adaptors', 'wholesalers', 'stratagem', 'advantageous', 'identifies', 'corporation', 'tatatatata', 'royce', 'foundation', 'ladder', 'directives', 'limita', 'niche', 'marketability', 'lowcost', 'wadadadadada', 'multifunctions', 'catchalls', 'consciousness', 'highcost', 'ninetyfive', 'criticizing', 'exclusivity', 'broken', 'discoveries', 'crossover', 'elimination', 'techmind', 'overruns', 'economically', 'eightynine', 'justified', 'partnership', 'expectation', 'optimist', 'nubbies', 'functionwise', 'fused', 'receives', 'flipphone', 'quantized', 'ecofriendly', 'antitechnology', 'porridge', 'retarded', 'spillage', 'liquids', 'mistreat', 'misuses', 'montoya', 'midsized', 'father', 'flashlight', 'uniqueness', 'circuitry', 'effectiveness', 'smellorama', 'stink', 'surfers', 'buttontobu', 'accentuate', 'uniquenesses', 'makin', 'adjustment', 'standpoint', 'jabber', 'patontheback', 'spectacular', 'synergy', 'invalid', 'impressing', 'unusable', 'adaptor', 'beacon', 'singlecurve', 'debating', 'miscalculation', 'frighteningly', 'accurate', 'pedros', 'revolutionary', 'portuguese', 'wicked', 'crotch', 'headsets', 'adjusted', 'capability', 'flies', 'cohesive', 'synergistic', 'digesting', 'cooperating', 'avoidable', 'blacks', 'dependability', 'ourself', 'ingredients', 'upgradable', 'additions', 'longmund', 'centimes', 'imaginative', 'spethisfispis', 'qwerty', 'maxim', 'clown', 'industrials', 'materi', 'village', 'pikachu', 'jordan', 'recurrence', 'intensively', 'injured', 'concurrent', 'nifra', 'industr', 'pictograms', 'florent', 'uniform', 'ecological', 'impersonal', 'proecology', 'gestures', 'england', 'accessoire', 'unlighted', 'darkness', 'alimentation', 'countryside', 'ecologists', 'frahan', 'cooperation', 'adaptation', 'chinese', 'plasticlike', 'disadvant', 'rubberlike', 'risky', 'doubles', 'googlelike', 'fruitful', 'accept', 'fabrica', 'branches', 'coarse', 'nearly', 'squared', 'insects', 'customable', 'creation', 'mushroom', 'laser', 'eatable', 'judgement', 'trois', 'celebrating', 'unidentified', 'enlighted', 'receptor', 'activates', 'compensate', 'saucer', 'inspira', 'availables', 'sebastian', 'panthers', 'standalone', 'spider', 'panther', 'peculiar', 'beings', 'transportations', 'carry', 'female', 'lions', 'definit', 'performances', 'powerstick', 'mando', 'ambiance', 'fonts', 'multi', 'permanantly', 'superimpose', 'guides', 'toprated', 'epinions', 'extravagant', 'scroller', 'requir', 'watcher', 'microcontroller', 'weaknesses', 'thoroughly', 'disease', 'liklier', 'latino', 'memorising', 'release', 'fraction', 'disactivate', 'abrupt', 'everyo', 'superman', 'presentatio', 'turbo', 'bananabando', 'comman', 'elasticity', 'pepperoni', 'bananamando', 'bananaman', 'funkylooking', 'nonvegetarian', 'gurus', 'cushioning', 'pumpkin', 'pepper', 'imagi', 'capsicum', 'collect', 'recharging', 'stylised', 'kitsch', 'cucumber', 'commando', 'clothe', 'cylindrical', 'playback', 'usersll', 'apprehensive', 'falls', 'traditionals', 'flats', 'frape', 'alienated', 'supports', 'misplaced', 'salad', 'supermando', 'trace', 'eponge', 'textu', 'natur', 'templates', 'outlier', 'oranges', 'antennas', 'youngst', 'trendsetters', 'monotonic', 'profits', 'selector', 'outliers', 'extras', 'coverage', 'youngsters', 'flaunt', 'convince', 'puzzled', 'butto', 'const', 'univer', 'romantic', 'lowest', 'specialities', 'cardinaux', 'attack', 'obstacles', 'hurry', 'petre', 'potentialmeter', 'shameful', 'getabdar', 'morris', 'indevel', 'peter', 'betweens', 'channe', 'documentary', 'numbered', 'handshaking', 'roller', 'inviting', 'grandfathers', 'struggled', 'attracted', 'interpret', 'interfacing', 'appliances', 'petres', 'timers', 'frustrates', 'overwhelmingly', 'focused', 'rigid', 'remarks', 'magnetic', 'depend', 'specialists', 'daylight', 'feasib', 'fatter', 'peeling', 'inches', 'fabien', 'sticking', 'consume', 'recogn', 'consumes', 'asleeps', 'shells', 'responding', 'motif', 'technolog', 'fabian', 'velcro', 'vinyl', 'suede', 'desail', 'pavlov', 'smiling', 'cellular', 'anothers', 'unbreakable', 'monochrome', 'christa', 'cobra', 'lefthander', 'chris', 'viewer', 'likes', 'issuing', 'benjo', 'answered', 'sammy', 'equipped', 'dwight', 'razor', 'babyproof', 'ramaro', 'electromagnetic', 'encryption', 'brands', 'recog', 'requiremen', 'sensing', 'usefulness', 'cycled', 'repetitivity', 'penultim', 'thermodynamic', 'gradable', 'iradium', 'smelling', 'fruitylike', 'millennium', 'devise', 'paints', 'temperature', 'touchable', 'radium', 'abilities', 'highlight', 'chippy', 'nickel', 'cumbersome', 'assembler', 'inventing', 'proud', 'stores', 'travel', 'converse', 'millenniums', 'reinvent', 'aluminium', 'chameleon', 'smartness', 'fingerprint', 'particularity', 'sarcastic', 'colourised', 'boohoo', 'reached', 'imply', 'bobby', 'criterium', 'forecast', 'moder', 'obtain', 'cursor', 'curvable', 'contacted', 'tricks', 'restaurant', 'explanat', 'weekends', 'vegetarian', 'fudge', 'attraction', 'sponges', 'titan', 'sunday', 'exceeding', 'pinkness', 'fulfils', 'constative', 'contents', 'funct', 'appendix', 'magazines', 'contain', 'revol', 'gather', 'anticipate', 'analog', 'centr', 'lousy', 'preprocessing', 'compu', 'shout', 'wellstudied', 'tolerate', 'troubleshooting', 'navigator', 'arrays', 'feedbacks', 'subtitl', 'customizable', 'pronouncing', 'collaborations', 'eliminates', 'whereby', 'vocabularies', 'diagrams', 'simpl', 'sister', 'confog', 'manufactural', 'accumulate', 'basketball', 'prefix', 'factories', 'reputation', 'prerequirements', 'scrollings', 'commander', 'destroyed', 'mishandling', 'commented', 'determined', 'similarit', 'speeches', 'modularity', 'maintain', 'addons', 'attracting', 'nowaday', 'biscuits', 'swing', 'handphone', 'addon', 'endurable', 'lithiumion', 'misplacement', 'wellorganised', 'optimises', 'embed', 'joysticklike', 'allowing', 'interactively', 'liberty', 'couples', 'singles', 'presentat', 'efforts', 'vendors', 'coordinate', 'coordinator', 'acceptability', 'acceptance', 'shrida', 'daseri', 'strategic', 'documentations', 'determining', 'contributing', 'announcements', 'draws', 'timeframe', 'recognit', 'insights', 'outmoded', 'fabric', 'clarifications', 'invite', 'intel', 'tieup', 'wirelessly', 'understandable', 'complementary', 'invented', 'zenith', 'flashmatic', 'pioneering', 'inflatable', 'waffling', 'christines', 'ambient', 'intuitions', 'regulate', 'viable', 'thirtyfive', 'oneword', 'microproc', 'microprocessor', 'malaysia', 'commission', 'centering', 'customisability', 'sacrificing', 'costefficient', 'speculation', 'kidfriendly', 'quasimeasurements', 'customi', 'lifelight', 'presses', 'despite', 'telephonish', 'customisably', 'teething', 'contextsensitive', 'orders', 'revenues', 'exploit', 'labour', 'specifica', 'expandable', 'shrinkable', 'choic', 'nonoption', 'melting', 'brittle', 'nevertheless', 'regret', 'woods', 'leather', 'cracks', 'individualised', 'feelgood', 'fortyfive', 'flipup', 'locked', 'resistance', 'football', 'satisfi', 'promotions', 'trendwatch', 'agents', 'popcorn', 'shoulders', 'cocacola', 'napkin', 'onorder', 'delivery', 'promotion', 'ordering', 'dropship', 'amazon', 'rotate', 'testmarket', 'season', 'synchronise', 'usertested', 'anticipated', 'aggressive', 'launch', 'campaign', 'throwaway', 'napki', 'flops', 'motivations', 'rereleased', 'unveil', 'toggles', 'plasticene', 'feasibili', 'soccer', 'marketer', 'provisionary', 'inflate', 'inflated', 'exceed', 'retailers', 'compliments', 'stylishness', 'upscale', 'rotating', 'francine', 'unlimited', 'everyday', 'gadget', 'multipurpose', 'airconditioners', 'francina', 'technicalfunctional', 'jeanneoui', 'challenged', 'bookcase', 'subgroups', 'alternate', 'cosmetics', 'maintained', 'interject', 'arthritic', 'compactness', 'alphabet', 'compactability', 'allergy', 'fluorescence', 'projections', 'plays', 'bulbs', 'anoth', 'conditioner', 'sizzle', 'beback', 'cosmetic', 'september', 'prioritising', 'timetable', 'francino', 'undesirable', 'tshaped', 'alarmclock', 'nonallergic', 'radiowaves', 'electri', 'electrici', 'teach', 'swapping', 'emphasis', 'cablesatellite', 'inbuilt', 'circui', 'capac', 'cylinder', 'printing', 'ingenious', 'sells', 'recyclable', 'recognising', 'compone', 'resistor', 'compons', 'amplified', 'transist', 'unwieldy', 'repeatedly', 'saleability', 'chart', 'beware', 'moneywise', 'guarantees', 'morse', 'relays', 'generat', 'amplification', 'catching', 'subtitle', 'elongated', 'ordinary', 'lookswise', 'paradoxically', 'functionalitys', 'consolidate', 'necklace', 'snail', 'socioeconomic', 'toxic', 'roundy', 'eraser', 'blank', 'haunted', 'cultures', 'stadium', 'operates', 'aquaintance', 'flaws', 'fault', 'indications', 'garfield', 'skinny', 'failing', 'insight', 'attent', 'holland', 'conductive', 'tranmi', 'skyhigh', 'invest', 'scratches', 'keychain', 'astonishing', 'questioned', 'expedition', 'ponnen', 'emphasised', 'greatly', 'grandfather', 'usabili', 'sended', 'folders', 'smartboard', 'signifi', 'grandkids', 'possib', 'antislip', 'chipset', 'trendwatcher', 'trendwatchers', 'telephoneshaped', 'enquetes', 'editions', 'greyblack', 'woodcoloured', 'poland', 'supplier', 'saves', 'erase', 'freek', 'frightening', 'dodgy', 'flipover', 'mediates', 'decadent', 'export', 'neely', 'radios', 'volumedown', 'plusminus', 'twendag', 'sieven', 'influences', 'anyhow', 'refocus', 'learnability', 'recognability', 'smartboards', 'fantasy', 'donkey', 'uniquer', 'kidproof', 'dinosaurs', 'teletec', 'surname', 'wiezer', 'martijn', 'invisible', 'presu', 'abbing', 'configuring', 'surfed', 'referenced', 'cornered', 'backlights', 'curving', 'spongeball', 'fitsinthehand', 'squarelike', 'bonjour', 'becau', 'stressball', 'searched', 'technolo', 'spong', 'fresh', 'learnable', 'semitransparent', 'learnables', 'untitled', 'entrance', 'whiny', 'lonely', 'nonrubber', 'numpads', 'homestation', 'innovativity', 'fashioned', 'blackboard', 'boomboaringbing', 'chitchat', 'numpad', 'extern', 'telete', 'beautifuls', 'beneath', 'scart', 'minesweeper', 'tidin', 'tudum', 'chechecheche', 'smiley', 'tomtidom', 'fancys', 'ladies', 'namely', 'beaver', 'dinosaur', 'dutch', 'charis', 'numerals', 'dinos', 'postpone', 'automac', 'matically', 'guesses', 'treasure', 'submenu', 'mount', 'refill', 'obliged', 'enlarge', 'swahili', 'shortcuts', 'signalled', 'simpsons', 'animation', 'transported', 'codelike', 'perce', 'fingerprints', 'charted', 'written', 'dialects', 'possess', 'senden', 'minimalized', 'kijke', 'wraps', 'maroon', 'pinging', 'bounces', 'vertical', 'swords', 'danny', 'formed', 'quarters', 'accompanying', 'coordinations', 'chase', 'dimensional', 'chargeable', 'overheard', 'subtracted', 'tissue', 'tough', 'innov', 'renaissance', 'medieval', 'doodle', 'reevaluate', 'enthusiastic', 'woodlike', 'dissatisfy', 'heavier', 'sideways', 'mankind', 'plants', 'qualitati', 'bling', 'avail', 'convinc', 'scrap', 'dropped', 'plotters', 'celebra', 'entree', 'elderl', 'readable', 'defend', 'extendible', 'dismissed', 'kangaroo', 'industrati', 'gigantic', 'acquai', 'cuddly', 'deactivate', 'deactivates', 'shortcomings', 'featur', 'sensitivity', 'autoseek', 'swaps', 'interation', 'reorganise', 'minich', 'newsflash', 'jurgen', 'unlocked', 'lunchbreak', 'gathered', 'fashional', 'disable', 'intergrate', 'equaliser', 'sucky', 'spatial', 'transformer', 'boosted', 'cursors', 'improvise', 'visuals', 'functon', 'disliked', 'treble', 'knees', 'encounters', 'skipped', 'delete', 'distinction', 'spongey', 'semething', 'colourblind', 'clipart', 'copyright', 'spicy', 'wrote', 'doubly', 'submarine', 'amauto', 'ergonomical', 'adjustable', 'bubble', 'luxurous', 'dilemma', 'palette', 'vulnerable', 'discriminate', 'sketchboard', 'sketches', 'girlish', 'flips', 'kinetics', 'pocketphone', 'gameboy', 'kneipgatt', 'provision', 'toddlers', 'scandinavia', 'positioned', 'thickness', 'painting', 'steady', 'aspectw', 'underwater', 'conserving', 'miracle', 'freaky', 'underline', 'initials', 'recalibrate', 'recalibration', 'closely', 'miscalculated', 'persuade', 'speckles', 'integrateds', 'overpaint', 'spongelike', 'simulates', 'horizontals', 'purdy', 'prettiest', 'ribbon', 'beamer', 'slanted', 'stressed', 'endlessly', 'hides', 'playfulness', 'hypers', 'campfire', 'chill', 'became', 'limiteded', 'realtime', 'simba', 'janus', 'selfish', 'technicalwise', 'stoned', 'electrocuted', 'miniature', 'hypothetically', 'failure', 'specifi', 'panting', 'partial', 'pushable', 'elder', 'grandparent', 'apparent', 'philips', 'meanwhile', 'hierarch', 'buttle', 'reacting', 'functionability', 'overbuild', 'dissected', 'subitems', 'subfunctions', 'placeholder', 'funtionability', 'cupholder', 'invent', 'hangup', 'parental', 'login', 'parent', 'interests', 'varia', 'firmware', 'exave', 'respondents', 'revenue', 'impro', 'visited', 'sorts', 'benchmarking', 'partnering', 'mehlers', 'gentlemen', 'breakable', 'seiko', 'grandad', 'cartoons', 'pageup', 'psychokinetic', 'diffic', 'bendable', 'benchmarker', 'float', 'mockup', 'unplus', 'citizens', 'budgetwise', 'luxurious', 'teletubbies', 'vitality', 'backforward', 'effec', 'threed', 'tetris', 'slamming', 'college', 'backandforth', 'comeup', 'threedigit', 'advisor', 'jerome', 'globe', 'betenberg', 'taiwan', 'discount', 'touchscreens', 'income', 'telephon', 'unhappy', 'unsatisfied', 'feelings', 'handwriting', 'voting', 'weemote', 'storyboard', 'readonly', 'evalu', 'freak', 'handed', 'singlecurves', 'especialised', 'crappy', 'scanner', 'overlaying', 'chairman', 'directur', 'broad', 'exchangeable', 'advisory', 'bumps', 'yikes', 'fluidly', 'youthful', 'daniel', 'freaks', 'unstructured', 'disrespect', 'flipovers', 'hyperlink', 'erasing', 'lifecycle', 'declare', 'consensive', 'hurrying', 'remova', 'multilux', 'paren', 'article', 'worldwide', 'kemoro', 'televis', 'trendly', 'gadgetness', 'joost', 'guido', 'blanks', 'whiteboards', 'piranha', 'useless', 'characteris', 'forehead', 'birds', 'antek', 'ahmet', 'crying', 'bingwings', 'touchpad', 'maarten', 'somethin', 'entra', 'rechargeab', 'motivated', 'synched', 'digitising', 'overwrite', 'presents', 'endangers', 'flights', 'consists', 'swapable', 'loses', 'candy', 'willingness', 'claims', 'willingly', 'slicker', 'brushes', 'airbag', 'resembles', 'cartoonish', 'unanimously', 'homogeneous', 'enclosure', 'twotone', 'subtlety', 'toilet', 'accentu', 'diversity', 'resemble', 'overdone', 'democratically', 'winter', 'christs', 'specialty', 'sweaty', 'gaming', 'eastpack', 'revolution', 'resemblance', 'rubbled', 'nondepending', 'retrieve', 'electronical', 'retriever', 'trendiest', 'artists', 'bastard', 'monogramme', 'symbolises', 'casting', 'docking', 'specif', 'surroundings', 'innovated', 'thrown', 'sturdiness', 'recei', 'progr', 'leaning', 'succeeds', 'encrypted', 'carton', 'voltages', 'holer', 'littler', 'uglier', 'unneeded', 'succeeded', 'implanted', 'novice', 'reanimate', 'demotivating', 'rightmost', 'leftmost', 'circles', 'pussy', 'terrific', 'culture', 'dispatch', 'fantas', 'painful', 'goodbye', 'hedgehog', 'skills', 'chief', 'impor', 'smiles', 'miaow', 'enjoyment', 'hippo', 'toothpick', 'placing', 'forgetting', 'ninetynine', 'familiarised', 'releases', 'indestructible', 'clickon', 'engineeringcentred', 'usercentr', 'ericsson', 'clickable', 'centralise', 'exaggerated', 'familiarity', 'hungry', 'clients', 'inverts', 'tickertape', 'ticker', 'calibrated', 'hesitate', 'congratulate', 'noone', 'walter', 'goodlooking', 'physiotherapy', 'redesigning', 'titaniumcoloured', 'unacceptable', 'fancyfeeling', 'paperwork', 'malfunctioning', 'accountant', 'operators', 'notepad', 'sketching', 'bedroom', 'intro', 'skill', 'critic', 'brandaware', 'bustfree', 'parrot', 'inclusive', 'johan', 'china', 'subcomponents', 'penlight', 'labtest', 'leftright', 'discarded', 'pistol', 'unbelievable', 'quadrants', 'chose', 'edges', 'nintendo', 'pinball', 'handshaped', 'electrics', 'thoughtful', 'devel', 'presentate', 'uptodate', 'drawboard', 'orientates', 'operability', 'implemen', 'sebastians', 'progressions', 'bunny', 'flores', 'interoperability', 'garden', 'influations', 'impossibilities', 'upcoming', 'interopera', 'interoperabi', 'sidewords', 'implicates', 'mielsen', 'respend', 'scrapped', 'divisions', 'decis', 'scusi', 'succeed', 'upload', 'execute', 'antenna', 'elaborated', 'subfolder', 'attractable', 'cheapy', 'luxury', 'energyfriendly', 'energysave', 'costeffectiveness', 'thirdmost', 'secondmost', 'kineti', 'addressed', 'carpets', 'suppliers', 'scrollheel', 'indica', 'prediscussion', 'immedis', 'ruuds', 'enclose', 'postbank', 'tentel', 'colouring', 'slippery', 'bongiorno', 'scrollbar', 'muten', 'onecurved', 'punish', 'bananarama', 'repeats', 'colourfuls', 'indicators', 'logica', 'unlogical', 'bahamas', 'supplementary', 'powering', 'reproduce', 'radar', 'tempered', 'nameless', 'digitise', 'applies', 'thrill', 'doubting', 'prefers', 'exceeded', 'disabling', 'costed', 'gilders', 'prono', 'moldable', 'calibrateds', 'onecoloured', 'executed', 'attending', 'highresponsive', 'teamworkers', 'lowresponsive', 'swimming', 'responsive', 'rational', 'broer', 'kingsize', 'wastes', 'wellthought', 'efficiency', 'meinfeld', 'slapon', 'arabian', 'faded', 'doublesided', 'stacked', 'remembers', 'posted', 'kablouey', 'fadeproof', 'fabricate', 'penlites', 'configured', 'copper', 'programmeab', 'grammeale', 'esque', 'phaser', 'leaner', 'chiquita', 'crack', 'editi', 'edition', 'designy', 'inconvenience', 'downward', 'thingys', 'appleshaped', 'expenses', 'disables', 'rechargement', 'removeable', 'focussi', 'focussing', 'vative', 'previews', 'overdiscussing', 'affordable', 'ohbut', 'reactor', 'deluxe', 'catchy', 'demolishing', 'threes']\n"
     ]
    }
   ],
   "source": [
    "print(words)"
   ]
  },
  {
   "cell_type": "code",
   "execution_count": 17,
   "metadata": {},
   "outputs": [
    {
     "name": "stdout",
     "output_type": "stream",
     "text": [
      "8607\n"
     ]
    }
   ],
   "source": [
    "print(len(words))"
   ]
  },
  {
   "cell_type": "code",
   "execution_count": 18,
   "metadata": {},
   "outputs": [],
   "source": [
    "def generate_word_embedding_dict(words):\n",
    "    word_embedding_dict = OrderedDict()\n",
    "    #Calculate embeddings\n",
    "    for word in words:\n",
    "        #Find the mfcc features of the acoustic representation of the word in the data\n",
    "        word_features = inputs[np.where(np.isin(labels,word_to_num[word]))]\n",
    "        \n",
    "        #Calculate embeddings for the feature\n",
    "        word_embedding = net.give_embeddings(torch.tensor(word_features, device = dev, dtype=torch.float),dev)\n",
    "        \n",
    "        #If the number of representation is more than one, take the average embedding\n",
    "        word_embedding_dict[word] = np.mean(word_embedding, axis = 0).reshape(1,-1)\n",
    "    \n",
    "    return word_embedding_dict"
   ]
  },
  {
   "cell_type": "code",
   "execution_count": 19,
   "metadata": {},
   "outputs": [],
   "source": [
    "def calculate_embedding_distance(homophone_df,word_embedding_dict,metrics = ['cosine']):\n",
    "\n",
    "    word1_embeddings = None\n",
    "    word2_embeddings = None\n",
    "    \n",
    "    metric_distance_dict = {}\n",
    "    for metric in metrics:\n",
    "        metric_distance_dict[metric] = []\n",
    "        \n",
    "    for row in homophone_df.itertuples():\n",
    "        word1, word2 = map(lambda x: x.strip(' \\''),row.word_pairs.strip('()').split(','))\n",
    "        \n",
    "        for metric in metrics:\n",
    "            metric_distance_dict[metric].append(paired_distances(word_embedding_dict[word1],word_embedding_dict[word2], metric = metric)[0])\n",
    "        \n",
    "        \n",
    "        #if word1_embeddings is None and word2_embeddings is None:\n",
    "        #    word1_embeddings = word_embedding_dict[word1]\n",
    "        #    word2_embeddings = word_embedding_dict[word2]\n",
    "        #else:\n",
    "        #    word1_embeddings = np.vstack((word1_embeddings, word_embedding_dict[word1]))\n",
    "        #    word2_embeddings = np.vstack((word2_embeddings, word_embedding_dict[word2]))\n",
    "            \n",
    "        \n",
    "\n",
    "    #Calculate the distance\n",
    "    #print(word1_embeddings.shape)\n",
    "    for metric in metrics:\n",
    "        #metric_distance = paired_distances(word1_embeddings,word2_embeddings, metric = metric)\n",
    "        homophone_df.insert(len(homophone_df.columns),\"%s_distance\"%(metric), metric_distance_dict[metric], True)\n",
    "    \n",
    "    return homophone_df\n",
    "    \n",
    "    "
   ]
  },
  {
   "cell_type": "code",
   "execution_count": 20,
   "metadata": {},
   "outputs": [],
   "source": [
    "def give_nearest_neighbours_on_embeddings(word_embedding_dict, n_neighbours = 10, metric = 'cosine', split = False):\n",
    "    \n",
    "    embeddings = None\n",
    "    \n",
    "    embeddings = np.stack(list(word_embedding_dict.values())).squeeze()\n",
    "    \n",
    "    print('Calculating Nearest Neighbours')\n",
    "    nbrs = NearestNeighbors(n_neighbors=n_neighbours, algorithm='brute',metric = metric, n_jobs = 4).fit(embeddings)\n",
    "    distances,indices = nbrs.kneighbors(embeddings)\n",
    "    \n",
    "    columns = [\"word\",\"neighbours\"]\n",
    "    #nearest_neighbours_df = pd.DataFrame(columns = columns)\n",
    "    \n",
    "    words = list(word_embedding_dict.keys())\n",
    "    print('num of words %d'%(len(words)))\n",
    "    \n",
    "    \n",
    "    nearest_neighbours_df = pd.DataFrame(columns = columns)\n",
    "    \n",
    "    for i,word in enumerate(word_embedding_dict.keys()):\n",
    "        \n",
    "        neighbours = ','.join([words[indices[i,j]] for j in range(indices.shape[1]) if words[indices[i,j]]!= word])\n",
    "        #print(neighbours)\n",
    "        row = pd.DataFrame(np.array([[word],[neighbours]]).T, columns = columns)\n",
    "        nearest_neighbours_df = nearest_neighbours_df.append(row)\n",
    "        \n",
    "    \n",
    "    #pd.concat([pd.DataFrame(np.array([[word],[','.join([words[indices[i,j]] for j in range(indices.shape[1]) if words[indices[i,j]]!=word ])]]).T, columns = columns) for i,word in enumerate(word_embedding_dict.keys())])\n",
    "    \n",
    "    if split:\n",
    "        neighbour_col_names = [\"neighbour_%d\"%(i) for i in range(n_neighbours)]\n",
    "        nearest_neighbours_df[neighbour_col_names] = nearest_neighbours_df.neighbours.str.split(',', expand = True )\n",
    "        nearest_neighbours_df.drop(columns = [\"neighbours\"],inplace = True)\n",
    "    \n",
    "    \n",
    "    #Reset index\n",
    "    nearest_neighbours_df = nearest_neighbours_df.reset_index(drop=True)\n",
    "    \n",
    "    \n",
    "    \n",
    "    return nearest_neighbours_df"
   ]
  },
  {
   "cell_type": "code",
   "execution_count": 21,
   "metadata": {},
   "outputs": [],
   "source": [
    "words = list(c.keys())"
   ]
  },
  {
   "cell_type": "code",
   "execution_count": 17,
   "metadata": {},
   "outputs": [],
   "source": [
    "word_embedding_dict = generate_word_embedding_dict(words)"
   ]
  },
  {
   "cell_type": "code",
   "execution_count": 22,
   "metadata": {},
   "outputs": [],
   "source": [
    "word_embedding_dict = generate_word_embedding_dict(c.keys())"
   ]
  },
  {
   "cell_type": "code",
   "execution_count": 24,
   "metadata": {},
   "outputs": [],
   "source": [
    "np.save(\"C:/Users/jayes/Downloads/LSV/Data/word_embedding_dict_latest.npy\",word_embedding_dict)"
   ]
  },
  {
   "cell_type": "code",
   "execution_count": 19,
   "metadata": {},
   "outputs": [
    {
     "name": "stdout",
     "output_type": "stream",
     "text": [
      "Calculating Nearest Neighbours\n",
      "num of words 9974\n"
     ]
    }
   ],
   "source": [
    "em_nearest_neighbours = give_nearest_neighbours_on_embeddings(word_embedding_dict, 10,'cosine', False)"
   ]
  },
  {
   "cell_type": "code",
   "execution_count": 22,
   "metadata": {},
   "outputs": [],
   "source": [
    "em_nearest_neighbours.to_csv(\"Data/em_nearest_neighbours_cosine_freq_5.txt\")"
   ]
  },
  {
   "cell_type": "code",
   "execution_count": null,
   "metadata": {},
   "outputs": [],
   "source": [
    "df = calculate_embedding_distance(wordpairs_df,word_embedding_dict,metrics = ['cosine', 'euclidean'])"
   ]
  },
  {
   "cell_type": "code",
   "execution_count": null,
   "metadata": {},
   "outputs": [],
   "source": [
    "df"
   ]
  },
  {
   "cell_type": "code",
   "execution_count": null,
   "metadata": {},
   "outputs": [],
   "source": [
    "g = sns.scatterplot(\n",
    "    x=\"phonetic_edit_distance\", y=\"%s_distance\"%(metrics[0]),\n",
    "    #hue=\"Word\",\n",
    "    data=df,\n",
    "    legend=\"full\",\n",
    "    alpha=0.5)\n",
    "g.legend(loc='center left', bbox_to_anchor=(1, 0.5), ncol=1)"
   ]
  },
  {
   "cell_type": "code",
   "execution_count": null,
   "metadata": {},
   "outputs": [],
   "source": [
    "g = sns.scatterplot(\n",
    "    x=\"phonetic_edit_distance\", y=\"%s_distance\"%(metrics[1]),\n",
    "    #hue=\"Word\",\n",
    "    data=df,\n",
    "    legend=\"full\",\n",
    "    alpha=0.5)\n",
    "g.legend(loc='center left', bbox_to_anchor=(1, 0.5), ncol=1)"
   ]
  },
  {
   "cell_type": "code",
   "execution_count": null,
   "metadata": {},
   "outputs": [],
   "source": [
    "df.groupby('phonetic_edit_distance', as_index = False).agg(['mean', 'count', 'std'], index = False)"
   ]
  },
  {
   "cell_type": "code",
   "execution_count": null,
   "metadata": {},
   "outputs": [],
   "source": [
    "g = sns.scatterplot(\n",
    "    x=\"phonetic_edit_distance\", y=\"%s_distance\"%(metrics[0]),\n",
    "    #hue=\"Word\",\n",
    "    data=df.groupby('phonetic_edit_distance', as_index = False).mean(),\n",
    "    legend=\"full\",\n",
    "    alpha=0.5)\n",
    "plt.ylabel('average cosine distance')\n",
    "#g.legend(loc='center left', bbox_to_anchor=(1, 0.5), ncol=1)"
   ]
  },
  {
   "cell_type": "code",
   "execution_count": null,
   "metadata": {},
   "outputs": [],
   "source": [
    "g = sns.scatterplot(\n",
    "    x=\"phonetic_edit_distance\", y=\"%s_distance\"%(metrics[1]),\n",
    "    #hue=\"Word\",\n",
    "    data=df.groupby('phonetic_edit_distance', as_index = False).mean(),\n",
    "    legend=\"full\",\n",
    "    alpha=0.5)\n",
    "plt.ylabel('average euclidean distance')\n",
    "#g.legend(loc='center left', bbox_to_anchor=(1, 0.5), ncol=1)"
   ]
  },
  {
   "cell_type": "code",
   "execution_count": null,
   "metadata": {},
   "outputs": [],
   "source": [
    "#Read the homophones_df and split it word pairs into indiviudal columns\n",
    "homophones = pd.read_csv('Data/homophones.txt')\n",
    "column_names = ['word_1','word_2']\n",
    "homophones[column_names] = homophones.word_pairs.str.strip('()').str.split(',', expand = True)\n",
    "homophones[\"word_1\"] = homophones.word_1.str.strip(' \\'\\'')\n",
    "homophones[\"word_2\"] = homophones.word_2.str.strip(' \\'')\n",
    "del homophones[\"word_pairs\"]\n",
    "cols = list(homophones)\n",
    "# move the column to head of list using index, pop and insert\n",
    "cols.insert(0, cols.pop(cols.index('word_2')))\n",
    "cols.insert(0, cols.pop(cols.index('word_1')))\n",
    "homophones = homophones.loc[:, cols]\n",
    "homophones.to_csv('Data/homophones_expanded.txt', index = False)"
   ]
  },
  {
   "cell_type": "markdown",
   "metadata": {},
   "source": [
    "Start of Nearest Neighbour Analysis"
   ]
  },
  {
   "cell_type": "code",
   "execution_count": 15,
   "metadata": {},
   "outputs": [],
   "source": [
    "def alphabet_commas(string):\n",
    "    '''Takes a string and returns a filtered string with only alphabet and commas'''\n",
    "    \n",
    "    return ''.join(e for e in string if (e.isalpha() or e == \",\"))\n",
    "    "
   ]
  },
  {
   "cell_type": "code",
   "execution_count": 77,
   "metadata": {},
   "outputs": [],
   "source": [
    "def calc_spearman_with_awe(word,nn_words,word_embedding_dict):\n",
    "    '''Takes a  word and it's list of nearest neighbour words, \n",
    "    calculates their awe and calculates the spearman rank coefficient'''\n",
    "    \n",
    "    nn_words_ranks = np.array((np.arange(1,len(nn_words)+1))).reshape(1,-1)\n",
    "    \n",
    "    word_embedding = word_embedding_dict.item().get(word).squeeze()\n",
    "    nn_words_embeddings = np.stack([word_embedding_dict.item().get(word).squeeze() for word in nn_words])\n",
    "    #print(word_embedding.shape,nn_words_embeddings.shape)\n",
    "    similarity = pairwise_kernels(word_embedding.reshape(1,-1),nn_words_embeddings, metric = 'cosine')\n",
    "    awe_words_ranks = np.argsort(-similarity)+1\n",
    "    \n",
    "    #print(nn_words_ranks, awe_words_ranks)\n",
    "    rho,p_value = stats.spearmanr(nn_words_ranks.ravel(), awe_words_ranks.ravel())\n",
    "    return rho,p_value"
   ]
  },
  {
   "cell_type": "code",
   "execution_count": 11,
   "metadata": {},
   "outputs": [],
   "source": [
    "#Load the nearest neighbours based on embeddings and orthographic/phonetic representation\n",
    "#em_cosine_nn = pd.read_csv('Data/em_nearest_neighbours.txt')\n",
    "edit_distance_nn = pd.read_csv('Data/edit_nearest_neighbours.txt')\n",
    "sim_distance_nn = pd.read_csv('Data/sim_nearest_neighbours.txt')\n",
    "homophones = pd.read_csv('Data/raw_ph_homophones.txt')"
   ]
  },
  {
   "cell_type": "code",
   "execution_count": 101,
   "metadata": {},
   "outputs": [],
   "source": [
    "word_embedding_dict = np.load('Data/word_embedding_dict.npy', allow_pickle = True)"
   ]
  },
  {
   "cell_type": "code",
   "execution_count": 102,
   "metadata": {},
   "outputs": [
    {
     "data": {
      "text/plain": [
       "array([2.0415986e-01, 2.4921808e+01, 0.0000000e+00, ..., 0.0000000e+00,\n",
       "       0.0000000e+00, 3.6583733e-04], dtype=float32)"
      ]
     },
     "execution_count": 102,
     "metadata": {},
     "output_type": "execute_result"
    }
   ],
   "source": [
    "word_embedding_dict.item().get(\"thank\").squeeze()"
   ]
  },
  {
   "cell_type": "code",
   "execution_count": 93,
   "metadata": {},
   "outputs": [
    {
     "data": {
      "text/html": [
       "<div>\n",
       "<style scoped>\n",
       "    .dataframe tbody tr th:only-of-type {\n",
       "        vertical-align: middle;\n",
       "    }\n",
       "\n",
       "    .dataframe tbody tr th {\n",
       "        vertical-align: top;\n",
       "    }\n",
       "\n",
       "    .dataframe thead th {\n",
       "        text-align: right;\n",
       "    }\n",
       "</style>\n",
       "<table border=\"1\" class=\"dataframe\">\n",
       "  <thead>\n",
       "    <tr style=\"text-align: right;\">\n",
       "      <th></th>\n",
       "      <th>word</th>\n",
       "      <th>neighbours</th>\n",
       "    </tr>\n",
       "  </thead>\n",
       "  <tbody>\n",
       "    <tr>\n",
       "      <th>0</th>\n",
       "      <td>mmhmm</td>\n",
       "      <td>regional,mhhmm,hmmmm,parallel,bumps,mmmmmm,mmm...</td>\n",
       "    </tr>\n",
       "    <tr>\n",
       "      <th>1</th>\n",
       "      <td>thank</td>\n",
       "      <td>thinked,think,thing,thingll,pinned,seemed,hang...</td>\n",
       "    </tr>\n",
       "    <tr>\n",
       "      <th>2</th>\n",
       "      <td>uhhuh</td>\n",
       "      <td>avril,avocado,crack,liger,addon,mmhmm,whatnot,...</td>\n",
       "    </tr>\n",
       "    <tr>\n",
       "      <th>3</th>\n",
       "      <td>already</td>\n",
       "      <td>roller,cloak,coordinate,laundry,figleaf,orally...</td>\n",
       "    </tr>\n",
       "    <tr>\n",
       "      <th>4</th>\n",
       "      <td>analyse</td>\n",
       "      <td>penlight,anonymous,fabulous,analysed,dialects,...</td>\n",
       "    </tr>\n",
       "    <tr>\n",
       "      <th>...</th>\n",
       "      <td>...</td>\n",
       "      <td>...</td>\n",
       "    </tr>\n",
       "    <tr>\n",
       "      <th>9969</th>\n",
       "      <td>ponnen</td>\n",
       "      <td>problem,scrollbutton,probabl,profitmargin,trun...</td>\n",
       "    </tr>\n",
       "    <tr>\n",
       "      <th>9970</th>\n",
       "      <td>vanna</td>\n",
       "      <td>dimensional,banana,bananabando,bananarama,frui...</td>\n",
       "    </tr>\n",
       "    <tr>\n",
       "      <th>9971</th>\n",
       "      <td>origi</td>\n",
       "      <td>exhibit,misplace,hourish,upstairs,azerty,robin...</td>\n",
       "    </tr>\n",
       "    <tr>\n",
       "      <th>9972</th>\n",
       "      <td>refresh</td>\n",
       "      <td>wordperfect,imagination,demonstration,weixuns,...</td>\n",
       "    </tr>\n",
       "    <tr>\n",
       "      <th>9973</th>\n",
       "      <td>thataway</td>\n",
       "      <td>plotters,other,hardish,outline,parallelogram,f...</td>\n",
       "    </tr>\n",
       "  </tbody>\n",
       "</table>\n",
       "<p>9974 rows × 2 columns</p>\n",
       "</div>"
      ],
      "text/plain": [
       "          word                                         neighbours\n",
       "0        mmhmm  regional,mhhmm,hmmmm,parallel,bumps,mmmmmm,mmm...\n",
       "1        thank  thinked,think,thing,thingll,pinned,seemed,hang...\n",
       "2        uhhuh  avril,avocado,crack,liger,addon,mmhmm,whatnot,...\n",
       "3      already  roller,cloak,coordinate,laundry,figleaf,orally...\n",
       "4      analyse  penlight,anonymous,fabulous,analysed,dialects,...\n",
       "...        ...                                                ...\n",
       "9969    ponnen  problem,scrollbutton,probabl,profitmargin,trun...\n",
       "9970     vanna  dimensional,banana,bananabando,bananarama,frui...\n",
       "9971     origi  exhibit,misplace,hourish,upstairs,azerty,robin...\n",
       "9972   refresh  wordperfect,imagination,demonstration,weixuns,...\n",
       "9973  thataway  plotters,other,hardish,outline,parallelogram,f...\n",
       "\n",
       "[9974 rows x 2 columns]"
      ]
     },
     "execution_count": 93,
     "metadata": {},
     "output_type": "execute_result"
    }
   ],
   "source": [
    "em_cosine_nn"
   ]
  },
  {
   "cell_type": "code",
   "execution_count": 13,
   "metadata": {},
   "outputs": [
    {
     "data": {
      "text/html": [
       "<div>\n",
       "<style scoped>\n",
       "    .dataframe tbody tr th:only-of-type {\n",
       "        vertical-align: middle;\n",
       "    }\n",
       "\n",
       "    .dataframe tbody tr th {\n",
       "        vertical-align: top;\n",
       "    }\n",
       "\n",
       "    .dataframe thead th {\n",
       "        text-align: right;\n",
       "    }\n",
       "</style>\n",
       "<table border=\"1\" class=\"dataframe\">\n",
       "  <thead>\n",
       "    <tr style=\"text-align: right;\">\n",
       "      <th></th>\n",
       "      <th>word</th>\n",
       "      <th>orthographic</th>\n",
       "      <th>raw_phonetic</th>\n",
       "      <th>filtered_phonetic</th>\n",
       "    </tr>\n",
       "  </thead>\n",
       "  <tbody>\n",
       "    <tr>\n",
       "      <th>0</th>\n",
       "      <td>cheapie</td>\n",
       "      <td>('cheaper', 'cheaply', 'cheap', 'cheapy', 'che...</td>\n",
       "      <td>('cheapy', 'chippy', 'cheaps', 'cheaper', 'che...</td>\n",
       "      <td>('cheapy', 'cheap', 'cheaply', 'chippy', 'chea...</td>\n",
       "    </tr>\n",
       "    <tr>\n",
       "      <th>1</th>\n",
       "      <td>conjunction</td>\n",
       "      <td>('connection', 'conjunct', 'convention', 'cons...</td>\n",
       "      <td>('connection', 'consumption', 'conjunctural', ...</td>\n",
       "      <td>('conjunctural', 'connection', 'consumption', ...</td>\n",
       "    </tr>\n",
       "    <tr>\n",
       "      <th>2</th>\n",
       "      <td>nicer</td>\n",
       "      <td>('niche', 'never', 'nicety', 'timer', 'univer'...</td>\n",
       "      <td>('lesser', 'night', 'fibre', 'dicier', 'nines'...</td>\n",
       "      <td>('nigger', 'wiper', 'answer', 'never', 'buyer'...</td>\n",
       "    </tr>\n",
       "    <tr>\n",
       "      <th>3</th>\n",
       "      <td>ourselves</td>\n",
       "      <td>('yourselves', 'ourself', 'relies', 'courses',...</td>\n",
       "      <td>('ourself', 'yourselves', 'yourself', 'solves'...</td>\n",
       "      <td>('ourself', 'sells', 'cells', 'solves', 'thems...</td>\n",
       "    </tr>\n",
       "    <tr>\n",
       "      <th>4</th>\n",
       "      <td>temporarily</td>\n",
       "      <td>('temporary', 'temporal', 'arbitrarily', 'terr...</td>\n",
       "      <td>('necessarily', 'temporal', 'temporary', 'temp...</td>\n",
       "      <td>('temporary', 'temporal', 'necessarily', 'temp...</td>\n",
       "    </tr>\n",
       "    <tr>\n",
       "      <th>...</th>\n",
       "      <td>...</td>\n",
       "      <td>...</td>\n",
       "      <td>...</td>\n",
       "      <td>...</td>\n",
       "    </tr>\n",
       "    <tr>\n",
       "      <th>9969</th>\n",
       "      <td>global</td>\n",
       "      <td>('globe', 'local', 'loyal', 'globs', 'globby',...</td>\n",
       "      <td>('globally', 'globe', 'mobile', 'label', 'loca...</td>\n",
       "      <td>('globally', 'local', 'mobile', 'label', 'glob...</td>\n",
       "    </tr>\n",
       "    <tr>\n",
       "      <th>9970</th>\n",
       "      <td>hearing</td>\n",
       "      <td>('healing', 'heating', 'wearing', 'gearing', '...</td>\n",
       "      <td>('heating', 'healing', 'keyring', 'hitting', '...</td>\n",
       "      <td>('healing', 'heating', 'keyring', 'string', 'h...</td>\n",
       "    </tr>\n",
       "    <tr>\n",
       "      <th>9971</th>\n",
       "      <td>slidebar</td>\n",
       "      <td>('slider', 'slides', 'slidey', 'spider', 'line...</td>\n",
       "      <td>('slideshow', 'slider', 'sliders', 'sliding', ...</td>\n",
       "      <td>('sliders', 'slideshow', 'slides', 'slide', 's...</td>\n",
       "    </tr>\n",
       "    <tr>\n",
       "      <th>9972</th>\n",
       "      <td>dedicated</td>\n",
       "      <td>('dedicate', 'educated', 'indicated', 'delicat...</td>\n",
       "      <td>('dedicate', 'edited', 'indicated', 'dissected...</td>\n",
       "      <td>('indicated', 'dedicate', 'educated', 'edited'...</td>\n",
       "    </tr>\n",
       "    <tr>\n",
       "      <th>9973</th>\n",
       "      <td>pathetic</td>\n",
       "      <td>('partic', 'aesthetic', 'magnetic', 'cosmetic'...</td>\n",
       "      <td>('kinetic', 'aesthetic', 'predic', 'generic', ...</td>\n",
       "      <td>('kinetic', 'aesthetic', 'pedantic', 'plastic'...</td>\n",
       "    </tr>\n",
       "  </tbody>\n",
       "</table>\n",
       "<p>9974 rows × 4 columns</p>\n",
       "</div>"
      ],
      "text/plain": [
       "             word                                       orthographic  \\\n",
       "0         cheapie  ('cheaper', 'cheaply', 'cheap', 'cheapy', 'che...   \n",
       "1     conjunction  ('connection', 'conjunct', 'convention', 'cons...   \n",
       "2           nicer  ('niche', 'never', 'nicety', 'timer', 'univer'...   \n",
       "3       ourselves  ('yourselves', 'ourself', 'relies', 'courses',...   \n",
       "4     temporarily  ('temporary', 'temporal', 'arbitrarily', 'terr...   \n",
       "...           ...                                                ...   \n",
       "9969       global  ('globe', 'local', 'loyal', 'globs', 'globby',...   \n",
       "9970      hearing  ('healing', 'heating', 'wearing', 'gearing', '...   \n",
       "9971     slidebar  ('slider', 'slides', 'slidey', 'spider', 'line...   \n",
       "9972    dedicated  ('dedicate', 'educated', 'indicated', 'delicat...   \n",
       "9973     pathetic  ('partic', 'aesthetic', 'magnetic', 'cosmetic'...   \n",
       "\n",
       "                                           raw_phonetic  \\\n",
       "0     ('cheapy', 'chippy', 'cheaps', 'cheaper', 'che...   \n",
       "1     ('connection', 'consumption', 'conjunctural', ...   \n",
       "2     ('lesser', 'night', 'fibre', 'dicier', 'nines'...   \n",
       "3     ('ourself', 'yourselves', 'yourself', 'solves'...   \n",
       "4     ('necessarily', 'temporal', 'temporary', 'temp...   \n",
       "...                                                 ...   \n",
       "9969  ('globally', 'globe', 'mobile', 'label', 'loca...   \n",
       "9970  ('heating', 'healing', 'keyring', 'hitting', '...   \n",
       "9971  ('slideshow', 'slider', 'sliders', 'sliding', ...   \n",
       "9972  ('dedicate', 'edited', 'indicated', 'dissected...   \n",
       "9973  ('kinetic', 'aesthetic', 'predic', 'generic', ...   \n",
       "\n",
       "                                      filtered_phonetic  \n",
       "0     ('cheapy', 'cheap', 'cheaply', 'chippy', 'chea...  \n",
       "1     ('conjunctural', 'connection', 'consumption', ...  \n",
       "2     ('nigger', 'wiper', 'answer', 'never', 'buyer'...  \n",
       "3     ('ourself', 'sells', 'cells', 'solves', 'thems...  \n",
       "4     ('temporary', 'temporal', 'necessarily', 'temp...  \n",
       "...                                                 ...  \n",
       "9969  ('globally', 'local', 'mobile', 'label', 'glob...  \n",
       "9970  ('healing', 'heating', 'keyring', 'string', 'h...  \n",
       "9971  ('sliders', 'slideshow', 'slides', 'slide', 's...  \n",
       "9972  ('indicated', 'dedicate', 'educated', 'edited'...  \n",
       "9973  ('kinetic', 'aesthetic', 'pedantic', 'plastic'...  \n",
       "\n",
       "[9974 rows x 4 columns]"
      ]
     },
     "execution_count": 13,
     "metadata": {},
     "output_type": "execute_result"
    }
   ],
   "source": [
    "sim_distance_nn"
   ]
  },
  {
   "cell_type": "code",
   "execution_count": 83,
   "metadata": {},
   "outputs": [],
   "source": [
    "def similarity_task(nn_df,column_name = \"raw_phonetic\"):\n",
    "    words = set(sim_distance_nn[\"word\"].to_list())\n",
    "    #words = [\"cheapie\"]\n",
    "    avg_rho = 0\n",
    "    for word in words:\n",
    "        query = nn_df.query(\"word == '%s'\"%(word))[column_name].item()\n",
    "        nn_words = alphabet_commas(query).split(\",\")\n",
    "        rho,p_value = calc_spearman_with_awe(word,nn_words, word_embedding_dict)\n",
    "        avg_rho += rho\n",
    "\n",
    "\n",
    "    avg_rho = avg_rho/len(words)\n",
    "    return avg_rho\n",
    "    "
   ]
  },
  {
   "cell_type": "code",
   "execution_count": 82,
   "metadata": {},
   "outputs": [
    {
     "name": "stdout",
     "output_type": "stream",
     "text": [
      "0.4954177832060372\n",
      "0.487934083161677\n",
      "0.49291430446433687\n"
     ]
    }
   ],
   "source": [
    "print(similarity_task(sim_distance_nn,\"raw_phonetic\"))\n",
    "print(similarity_task(sim_distance_nn,\"filtered_phonetic\"))\n",
    "print(similarity_task(sim_distance_nn,\"orthographic\"))"
   ]
  },
  {
   "cell_type": "code",
   "execution_count": 84,
   "metadata": {},
   "outputs": [
    {
     "name": "stdout",
     "output_type": "stream",
     "text": [
      "0.4885781820612404\n",
      "0.4897861713181568\n",
      "0.4951018101609663\n"
     ]
    }
   ],
   "source": [
    "print(similarity_task(edit_distance_nn,\"raw_phonetic\"))\n",
    "print(similarity_task(edit_distance_nn,\"filtered_phonetic\"))\n",
    "print(similarity_task(edit_distance_nn,\"orthographic\"))"
   ]
  },
  {
   "cell_type": "code",
   "execution_count": 133,
   "metadata": {},
   "outputs": [],
   "source": [
    "phoney = BigPhoney()"
   ]
  },
  {
   "cell_type": "code",
   "execution_count": 135,
   "metadata": {},
   "outputs": [],
   "source": [
    "words = set(homophones[\"word\"].to_list())\n",
    "phoneme_dict = {}\n",
    "for word in words:\n",
    "    phoneme_dict[word] = phoney.phonize(word)"
   ]
  },
  {
   "cell_type": "code",
   "execution_count": 132,
   "metadata": {},
   "outputs": [
    {
     "data": {
      "text/html": [
       "<div>\n",
       "<style scoped>\n",
       "    .dataframe tbody tr th:only-of-type {\n",
       "        vertical-align: middle;\n",
       "    }\n",
       "\n",
       "    .dataframe tbody tr th {\n",
       "        vertical-align: top;\n",
       "    }\n",
       "\n",
       "    .dataframe thead th {\n",
       "        text-align: right;\n",
       "    }\n",
       "</style>\n",
       "<table border=\"1\" class=\"dataframe\">\n",
       "  <thead>\n",
       "    <tr style=\"text-align: right;\">\n",
       "      <th></th>\n",
       "      <th>word</th>\n",
       "      <th>homophone_words</th>\n",
       "    </tr>\n",
       "  </thead>\n",
       "  <tbody>\n",
       "    <tr>\n",
       "      <th>24</th>\n",
       "      <td>slidey</td>\n",
       "      <td>slidy,</td>\n",
       "    </tr>\n",
       "  </tbody>\n",
       "</table>\n",
       "</div>"
      ],
      "text/plain": [
       "      word homophone_words\n",
       "24  slidey          slidy,"
      ]
     },
     "execution_count": 132,
     "metadata": {},
     "output_type": "execute_result"
    }
   ],
   "source": [
    "homophones[homophones[\"word\"] == \"slidey\"]"
   ]
  },
  {
   "cell_type": "code",
   "execution_count": 139,
   "metadata": {},
   "outputs": [],
   "source": [
    "def filter_alphabets(string):\n",
    "\treturn ''.join(e for e in string if (e.isalpha() or e.isspace()))"
   ]
  },
  {
   "cell_type": "code",
   "execution_count": 148,
   "metadata": {},
   "outputs": [],
   "source": [
    "def homophone_task(homophones):\n",
    "    words = set(homophones[\"word\"].to_list())\n",
    "    homophones[\"homophone_words\"] = homophones[\"homophone_words\"].apply(alphabet_commas) \n",
    "\n",
    "    avg_precision = 0\n",
    "    \n",
    "    phoneme_eDistance_list = []\n",
    "    for word in words:\n",
    "        homophone_query = homophones.query(\"word == '%s'\"%(word))\n",
    "        awe_nn_words_query = em_cosine_nn.query(\"word == '%s'\"%(word))\n",
    "\n",
    "        homophone_words = list(filter(lambda x: x.isalpha(), homophone_query[\"homophone_words\"].item().split(\",\")))\n",
    "        awe_nn_words = list(awe_nn_words_query[\"neighbours\"].item().split(\",\"))[:len(homophone_words)]\n",
    "\n",
    "        #print(awe_nn_words)\n",
    "\n",
    "        #Set of homophone words\n",
    "        set_homophone_words = set(homophone_words)\n",
    "\n",
    "        #Set of Nearest neighbours based on cosine_similarity of embeddings\n",
    "        set_awe_nn_words = set(awe_nn_words)\n",
    "        \n",
    "        \n",
    "        #print(word,set_homophone_words,set_awe_nn_words)\n",
    "        \n",
    "        for word_1,word_2 in zip(list(set_homophone_words),list(set_awe_nn_words)):\n",
    "            \n",
    "            aligned_seq1, aligned_seq2, eDistance = alignSequences.align(filter_alphabets(phoney.phonize(word_1)),filter_alphabets(phoney.phonize(word_2)))\n",
    "            \n",
    "            print('{%s , %s , %s } Phoneme eDistance %d'%(word,word_1,word_2,eDistance))\n",
    "            \n",
    "            phoneme_eDistance_list.append(eDistance)\n",
    "        \n",
    "        \n",
    "        #Calculate precision score\n",
    "        word_precision = len(set_homophone_words.intersection(set_awe_nn_words))/len(set_homophone_words)\n",
    "\n",
    "        avg_precision += word_precision\n",
    "\n",
    "    avg_precision = avg_precision/len(words)\n",
    "    print(avg_precision)\n",
    "    \n",
    "    return phoneme_eDistance_list"
   ]
  },
  {
   "cell_type": "code",
   "execution_count": 149,
   "metadata": {
    "scrolled": true
   },
   "outputs": [
    {
     "name": "stdout",
     "output_type": "stream",
     "text": [
      "{through , threw , carrier } Phoneme eDistance 4\n",
      "{commitment , committment , equipments } Phoneme eDistance 5\n",
      "{weights , waits , weight } Phoneme eDistance 1\n",
      "{handy , handi , napki } Phoneme eDistance 3\n",
      "{simpl , simple , should } Phoneme eDistance 6\n",
      "{strawberrys , strawberries , forgo } Phoneme eDistance 7\n",
      "{corinne , corrine , pretty } Phoneme eDistance 5\n",
      "{prioritise , prioritize , prioritized } Phoneme eDistance 1\n",
      "{pares , pairs , players } Phoneme eDistance 3\n",
      "{plain , plane , playing } Phoneme eDistance 2\n",
      "{parti , party , their } Phoneme eDistance 4\n",
      "{mails , males , names } Phoneme eDistance 2\n",
      "{acquaintance , aquaintance , gorgeous } Phoneme eDistance 7\n",
      "{peoplell , peopl , poodle } Phoneme eDistance 2\n",
      "{peoplell , people , people } Phoneme eDistance 0\n",
      "{disks , discs , these } Phoneme eDistance 5\n",
      "{franc , frank , throwing } Phoneme eDistance 4\n",
      "{weighted , waited , wasting } Phoneme eDistance 2\n",
      "{frank , franc , print } Phoneme eDistance 4\n",
      "{minimalised , minimalized , encouragement } Phoneme eDistance 10\n",
      "{focusing , focussing , forcing } Phoneme eDistance 3\n",
      "{earli , early , writing } Phoneme eDistance 5\n",
      "{waiting , weighting , willing } Phoneme eDistance 2\n",
      "{spacial , spatial , special } Phoneme eDistance 1\n",
      "{theirs , theres , guess } Phoneme eDistance 3\n",
      "{minut , minute , moved } Phoneme eDistance 4\n",
      "{purse , perce , paris } Phoneme eDistance 3\n",
      "{brake , break , break } Phoneme eDistance 0\n",
      "{right , write , backforward } Phoneme eDistance 8\n",
      "{thingys , thingies , thingies } Phoneme eDistance 0\n",
      "{hightech , hitech , sidetracked } Phoneme eDistance 5\n",
      "{centre , centr , senden } Phoneme eDistance 3\n",
      "{fourteenth , fourteenthd , putting } Phoneme eDistance 6\n",
      "{penlight , penlite , analyse } Phoneme eDistance 4\n",
      "{perce , purse , percent } Phoneme eDistance 3\n",
      "{ionizing , ionising , requested } Phoneme eDistance 8\n",
      "{summary , summery , silvery } Phoneme eDistance 3\n",
      "{slidy , slidey , sponge } Phoneme eDistance 4\n",
      "{logon , logan , mobile } Phoneme eDistance 3\n",
      "{committment , commitment , plusminus } Phoneme eDistance 7\n",
      "{paired , pared , higher } Phoneme eDistance 4\n",
      "{summarise , summarize , requir } Phoneme eDistance 6\n",
      "{summaries , summarys , familys } Phoneme eDistance 3\n",
      "{recogniser , recognizer , incrementally } Phoneme eDistance 9\n",
      "{summarys , summaries , summaries } Phoneme eDistance 0\n",
      "{clare , claire , prefer } Phoneme eDistance 5\n",
      "{spatial , spacial , special } Phoneme eDistance 1\n",
      "{piece , peace , tastes } Phoneme eDistance 4\n",
      "{comman , commen , trendly } Phoneme eDistance 7\n",
      "{comman , common , trend } Phoneme eDistance 5\n",
      "{recognize , recognise , grandad } Phoneme eDistance 8\n",
      "{cheapie , cheapy , particularly } Phoneme eDistance 11\n",
      "{sombodys , somebodys , somebodys } Phoneme eDistance 0\n",
      "{definite , definit , decimal } Phoneme eDistance 3\n",
      "{tellys , tellies , seventies } Phoneme eDistance 5\n",
      "{sells , cells , cells } Phoneme eDistance 0\n",
      "{summarizer , summariser , summarisers } Phoneme eDistance 1\n",
      "{tudumm , tudum , times } Phoneme eDistance 4\n",
      "{penlite , penlight , standalone } Phoneme eDistance 7\n",
      "{plasticine , plasticene , wrestling } Phoneme eDistance 7\n",
      "{party , parti , evalu } Phoneme eDistance 5\n",
      "{summarising , summarizing , service } Phoneme eDistance 6\n",
      "{ambience , ambiance , convince } Phoneme eDistance 5\n",
      "{greyed , grade , green } Phoneme eDistance 2\n",
      "{definit , definite , presentation } Phoneme eDistance 7\n",
      "{devision , division , attain } Phoneme eDistance 6\n",
      "{programs , programmes , relies } Phoneme eDistance 6\n",
      "{principal , principle , principle } Phoneme eDistance 0\n",
      "{stylised , stylized , stand } Phoneme eDistance 4\n",
      "{carrots , carets , covers } Phoneme eDistance 5\n",
      "{krista , christa , person } Phoneme eDistance 5\n",
      "{hitech , hightech , exhibit } Phoneme eDistance 7\n",
      "{grease , greece , please } Phoneme eDistance 3\n",
      "{coarse , course , course } Phoneme eDistance 0\n",
      "{aquaintance , acquaintance , hypotheses } Phoneme eDistance 9\n",
      "{techne , techni , apparently } Phoneme eDistance 6\n",
      "{rights , writes , device } Phoneme eDistance 4\n",
      "{specialized , specialised , amplifiers } Phoneme eDistance 7\n",
      "{greece , grease , reduces } Phoneme eDistance 6\n",
      "{threw , through , through } Phoneme eDistance 0\n",
      "{logan , logon , evaluala } Phoneme eDistance 7\n",
      "{somebodys , sombodys , maximising } Phoneme eDistance 8\n",
      "{people , peoplell , toolbar } Phoneme eDistance 6\n",
      "{people , peopl , poodle } Phoneme eDistance 2\n",
      "{handi , handy , anyway } Phoneme eDistance 5\n",
      "{differe , differ , different } Phoneme eDistance 3\n",
      "{differ , differe , different } Phoneme eDistance 3\n",
      "{memories , memorys , reminders } Phoneme eDistance 6\n",
      "{deali , dealy , frape } Phoneme eDistance 4\n",
      "{functionalities , functionalitys , functionalitys } Phoneme eDistance 0\n",
      "{summarizing , summarising , stressy } Phoneme eDistance 7\n",
      "{dependant , dependent , anything } Phoneme eDistance 7\n",
      "{focused , focussed , vantage } Phoneme eDistance 6\n",
      "{speek , speak , speaker } Phoneme eDistance 1\n",
      "{early , earli , steveo } Phoneme eDistance 5\n",
      "{standardized , standardised , cedric } Phoneme eDistance 8\n",
      "{characterisation , characterization , unintelligible } Phoneme eDistance 11\n",
      "{recognise , recognize , grandad } Phoneme eDistance 8\n",
      "{plasticene , plasticine , multimedia } Phoneme eDistance 8\n",
      "{dependent , dependant , commented } Phoneme eDistance 6\n",
      "{elans , ellens , always } Phoneme eDistance 3\n",
      "{grade , greyed , great } Phoneme eDistance 1\n",
      "{highly , highli , pioneering } Phoneme eDistance 7\n",
      "{weight , whate , weights } Phoneme eDistance 1\n",
      "{bodys , bodies , buttons } Phoneme eDistance 4\n",
      "{cheapy , cheapie , screen } Phoneme eDistance 4\n",
      "{fills , phils , skills } Phoneme eDistance 2\n",
      "{there , their , their } Phoneme eDistance 0\n",
      "{middl , middle , normally } Phoneme eDistance 5\n",
      "{peopl , peoplell , youll } Phoneme eDistance 4\n",
      "{peopl , people , people } Phoneme eDistance 0\n",
      "{summar , summer , similar } Phoneme eDistance 3\n",
      "{woohoo , whoohoo , mmhmm } Phoneme eDistance 5\n",
      "{panes , pains , cones } Phoneme eDistance 2\n",
      "{steel , steal , skill } Phoneme eDistance 2\n",
      "{gunnpeterson , gunnpetersen , exhibit } Phoneme eDistance 9\n",
      "{chilli , chile , today } Phoneme eDistance 4\n",
      "{whate , weight , mightnt } Phoneme eDistance 5\n",
      "{visualize , visualise , device } Phoneme eDistance 6\n",
      "{judgment , judgement , congratulate } Phoneme eDistance 8\n",
      "{customized , customised , customers } Phoneme eDistance 2\n",
      "{knoing , knowing , joint } Phoneme eDistance 4\n",
      "{specialised , specialized , thered } Phoneme eDistance 7\n",
      "{dealy , deali , exhibit } Phoneme eDistance 7\n",
      "{chile , chilli , silly } Phoneme eDistance 1\n",
      "{pared , paired , carried } Phoneme eDistance 3\n",
      "{rolls , roles , roles } Phoneme eDistance 0\n",
      "{metre , meter , meeting } Phoneme eDistance 2\n",
      "{moulds , molds , mould } Phoneme eDistance 1\n",
      "{slidey , slidy , slide } Phoneme eDistance 2\n",
      "{spongy , spongey , snowmanshape } Phoneme eDistance 6\n",
      "{freak , freek , investigated } Phoneme eDistance 12\n",
      "{custom , custome , accustomed } Phoneme eDistance 2\n",
      "{forrest , forest , files } Phoneme eDistance 5\n",
      "{steal , steel , still } Phoneme eDistance 1\n",
      "{cells , sells , sells } Phoneme eDistance 0\n",
      "{discs , disks , guess } Phoneme eDistance 4\n",
      "{prioritize , prioritise , spellings } Phoneme eDistance 8\n",
      "{strawberries , strawberrys , strengths } Phoneme eDistance 6\n",
      "{analyser , analyzer , motif } Phoneme eDistance 7\n",
      "{break , brake , brake } Phoneme eDistance 0\n",
      "{summariser , summarizer , summarisers } Phoneme eDistance 1\n",
      "{summer , summar , temporary } Phoneme eDistance 6\n",
      "{minute , minut , mailing } Phoneme eDistance 4\n",
      "{thingies , thingys , things } Phoneme eDistance 1\n",
      "{carets , carrots , curved } Phoneme eDistance 5\n",
      "{wooden , wouldn , winning } Phoneme eDistance 4\n",
      "{wales , whales , minus } Phoneme eDistance 5\n",
      "{wierd , weird , wouldve } Phoneme eDistance 3\n",
      "{commen , comman , exhibit } Phoneme eDistance 7\n",
      "{commen , common , misplace } Phoneme eDistance 7\n",
      "{adaptor , adapter , button } Phoneme eDistance 6\n",
      "{presen , preson , dozen } Phoneme eDistance 3\n",
      "{whales , wales , rather } Phoneme eDistance 4\n",
      "{summery , summary , forty } Phoneme eDistance 4\n",
      "{weighting , waiting , chrome } Phoneme eDistance 5\n",
      "{gunnpetersen , gunnpeterson , phonebased } Phoneme eDistance 9\n",
      "{playdoh , playdo , katie } Phoneme eDistance 4\n",
      "{pairs , pares , contain } Phoneme eDistance 6\n",
      "{edition , addition , addition } Phoneme eDistance 0\n",
      "{males , mails , metal } Phoneme eDistance 4\n",
      "{customizing , customising , technologically } Phoneme eDistance 11\n"
     ]
    },
    {
     "name": "stdout",
     "output_type": "stream",
     "text": [
      "{characterization , characterisation , particularity } Phoneme eDistance 12\n",
      "{shuts , schutz , schutz } Phoneme eDistance 0\n",
      "{knowing , knoing , ellen } Phoneme eDistance 4\n",
      "{custome , custom , customers } Phoneme eDistance 2\n",
      "{stylized , stylised , sacrificed } Phoneme eDistance 7\n",
      "{emphasise , emphasize , nondescript } Phoneme eDistance 10\n",
      "{channelll , channel , transcribed } Phoneme eDistance 8\n",
      "{usable , useable , usersll } Phoneme eDistance 3\n",
      "{course , coarse , coolest } Phoneme eDistance 4\n",
      "{hairy , harry , battery } Phoneme eDistance 4\n",
      "{moldable , mouldable , animal } Phoneme eDistance 5\n",
      "{theres , theirs , luxurious } Phoneme eDistance 8\n",
      "{centr , centre , fruit } Phoneme eDistance 4\n",
      "{board , bored , avoidable } Phoneme eDistance 7\n",
      "{claire , clare , foldout } Phoneme eDistance 5\n",
      "{waits , weights , lights } Phoneme eDistance 2\n",
      "{pains , panes , change } Phoneme eDistance 2\n",
      "{programmes , programs , provenance } Phoneme eDistance 7\n",
      "{wouldn , wooden , wouldnt } Phoneme eDistance 1\n",
      "{waited , weighted , limited } Phoneme eDistance 5\n",
      "{plane , plain , being } Phoneme eDistance 4\n",
      "{hmhmm , hmmhmm , remember } Phoneme eDistance 4\n",
      "{peace , piece , pieces } Phoneme eDistance 2\n",
      "{speak , speek , speech } Phoneme eDistance 1\n",
      "{butts , buttes , parts } Phoneme eDistance 3\n",
      "{maarten , martin , husband } Phoneme eDistance 5\n",
      "{succe , sucks , switch } Phoneme eDistance 3\n",
      "{ellens , elans , counts } Phoneme eDistance 5\n",
      "{bodies , bodys , utterancebased } Phoneme eDistance 10\n",
      "{ambiance , ambience , regions } Phoneme eDistance 5\n",
      "{roles , rolls , rolls } Phoneme eDistance 0\n",
      "{sucks , succe , television } Phoneme eDistance 8\n",
      "{simple , simpl , subgoal } Phoneme eDistance 4\n",
      "{techni , techne , implemen } Phoneme eDistance 7\n",
      "{buttes , butts , those } Phoneme eDistance 4\n",
      "{preson , presen , luxury } Phoneme eDistance 6\n",
      "{highli , highly , camera } Phoneme eDistance 5\n",
      "{bored , board , board } Phoneme eDistance 0\n",
      "{addition , edition , interject } Phoneme eDistance 8\n",
      "{meter , metre , alienate } Phoneme eDistance 7\n",
      "{visualisation , visualization , television } Phoneme eDistance 8\n",
      "{forth , fourth , fourth } Phoneme eDistance 0\n",
      "{functionalitys , functionalities , functionalities } Phoneme eDistance 0\n",
      "{weird , wierd , wierd } Phoneme eDistance 0\n",
      "{missus , misses , traces } Phoneme eDistance 4\n",
      "{visualization , visualisation , multifunctional } Phoneme eDistance 10\n",
      "{recognizer , recogniser , exercises } Phoneme eDistance 6\n",
      "{programme , program , program } Phoneme eDistance 0\n",
      "{useable , usable , usable } Phoneme eDistance 0\n",
      "{focussed , focused , focus } Phoneme eDistance 1\n",
      "{middle , middl , newly } Phoneme eDistance 5\n",
      "{emphasize , emphasise , ideas } Phoneme eDistance 5\n",
      "{write , right , right } Phoneme eDistance 0\n",
      "{fourth , forth , formed } Phoneme eDistance 2\n",
      "{whether , weather , overhead } Phoneme eDistance 6\n",
      "{division , devision , efficient } Phoneme eDistance 4\n",
      "{misses , missus , missed } Phoneme eDistance 2\n",
      "{channel , channelll , channe } Phoneme eDistance 2\n",
      "{phils , fills , chance } Phoneme eDistance 4\n",
      "{freek , freak , click } Phoneme eDistance 3\n",
      "{tellies , tellys , times } Phoneme eDistance 3\n",
      "{standardised , standardized , standards } Phoneme eDistance 2\n",
      "{molds , moulds , models } Phoneme eDistance 4\n",
      "{wheres , wears , arrears } Phoneme eDistance 2\n",
      "{harry , hairy , thirty } Phoneme eDistance 3\n",
      "{spongey , spongy , snowmanshape } Phoneme eDistance 6\n",
      "{martin , maarten , might } Phoneme eDistance 4\n",
      "{summarize , summarise , superficial } Phoneme eDistance 7\n",
      "{wears , wheres , whereas } Phoneme eDistance 1\n",
      "{their , there , there } Phoneme eDistance 0\n",
      "{forest , forrest , forced } Phoneme eDistance 1\n",
      "{batterys , batteries , batteries } Phoneme eDistance 0\n",
      "{minimalized , minimalised , realises } Phoneme eDistance 7\n",
      "{hmmhmm , hmhmm , learn } Phoneme eDistance 5\n",
      "{judgement , judgment , potentialmeter } Phoneme eDistance 9\n",
      "{principle , principal , consult } Phoneme eDistance 6\n",
      "{tudum , tudumm , touch } Phoneme eDistance 3\n",
      "{whoohoo , woohoo , rework } Phoneme eDistance 5\n",
      "{fourteenthd , fourteenth , specimen } Phoneme eDistance 8\n",
      "{analyzer , analyser , hours } Phoneme eDistance 6\n",
      "{visualise , visualize , especialised } Phoneme eDistance 6\n",
      "{weather , whether , whether } Phoneme eDistance 0\n",
      "{playdo , playdoh , taking } Phoneme eDistance 5\n",
      "{batteries , batterys , laughters } Phoneme eDistance 3\n",
      "{ionising , ionizing , ninety } Phoneme eDistance 5\n",
      "{schutz , shuts , objects } Phoneme eDistance 5\n",
      "{customising , customizing , distinguishing } Phoneme eDistance 8\n",
      "{writes , rights , class } Phoneme eDistance 3\n",
      "{adapter , adaptor , nokia } Phoneme eDistance 6\n",
      "{mouldable , moldable , wonderful } Phoneme eDistance 5\n",
      "{common , comman , cochrane } Phoneme eDistance 2\n",
      "{common , commen , coming } Phoneme eDistance 3\n",
      "{memorys , memories , minimise } Phoneme eDistance 5\n",
      "{focussing , focusing , functon } Phoneme eDistance 6\n",
      "{christa , krista , christmas } Phoneme eDistance 2\n",
      "{corrine , corinne , committed } Phoneme eDistance 6\n",
      "{customised , customized , optimises } Phoneme eDistance 5\n",
      "{program , programme , programme } Phoneme eDistance 0\n",
      "0.11023622047244094\n"
     ]
    }
   ],
   "source": [
    "a = homophone_task(homophones)"
   ]
  },
  {
   "cell_type": "code",
   "execution_count": 150,
   "metadata": {},
   "outputs": [],
   "source": [
    "c = Counter(a)"
   ]
  },
  {
   "cell_type": "code",
   "execution_count": 154,
   "metadata": {},
   "outputs": [
    {
     "data": {
      "text/plain": [
       "Counter({4: 38,\n",
       "         5: 38,\n",
       "         1: 18,\n",
       "         3: 29,\n",
       "         6: 28,\n",
       "         7: 25,\n",
       "         2: 25,\n",
       "         0: 29,\n",
       "         10: 4,\n",
       "         8: 16,\n",
       "         9: 5,\n",
       "         11: 3,\n",
       "         12: 2})"
      ]
     },
     "execution_count": 154,
     "metadata": {},
     "output_type": "execute_result"
    }
   ],
   "source": [
    "c"
   ]
  },
  {
   "cell_type": "markdown",
   "metadata": {},
   "source": [
    "Rough"
   ]
  },
  {
   "cell_type": "code",
   "execution_count": 18,
   "metadata": {},
   "outputs": [],
   "source": [
    "def sim_score(ser):\n",
    "\treturn 10 - min(10,ser/10)"
   ]
  },
  {
   "cell_type": "code",
   "execution_count": 6,
   "metadata": {},
   "outputs": [],
   "source": [
    "wordpairs_ser = pd.read_csv('Data/wordpairs_test_with_ser.txt')\n",
    "wordpairs_ser = wordpairs_ser.head()"
   ]
  },
  {
   "cell_type": "code",
   "execution_count": 7,
   "metadata": {},
   "outputs": [],
   "source": [
    "wordpairs_embedding_similarity = pd.read_csv('Data/wordpairs_test_embedding_similarity.txt')\n",
    "wordpairs_embedding_similarity = wordpairs_embedding_similarity.head()"
   ]
  },
  {
   "cell_type": "code",
   "execution_count": 8,
   "metadata": {},
   "outputs": [
    {
     "data": {
      "text/html": [
       "<div>\n",
       "<style scoped>\n",
       "    .dataframe tbody tr th:only-of-type {\n",
       "        vertical-align: middle;\n",
       "    }\n",
       "\n",
       "    .dataframe tbody tr th {\n",
       "        vertical-align: top;\n",
       "    }\n",
       "\n",
       "    .dataframe thead th {\n",
       "        text-align: right;\n",
       "    }\n",
       "</style>\n",
       "<table border=\"1\" class=\"dataframe\">\n",
       "  <thead>\n",
       "    <tr style=\"text-align: right;\">\n",
       "      <th></th>\n",
       "      <th>word_1</th>\n",
       "      <th>word_2</th>\n",
       "      <th>orthographic_edit_distance</th>\n",
       "      <th>phonetic_edit_distance</th>\n",
       "      <th>word_1_phonetic_ser</th>\n",
       "      <th>word_2_phonetic_ser</th>\n",
       "      <th>word_1_orthographic_ser</th>\n",
       "      <th>word_2_orthographic_ser</th>\n",
       "    </tr>\n",
       "  </thead>\n",
       "  <tbody>\n",
       "    <tr>\n",
       "      <th>0</th>\n",
       "      <td>marketing</td>\n",
       "      <td>share</td>\n",
       "      <td>7</td>\n",
       "      <td>7</td>\n",
       "      <td>0.777778</td>\n",
       "      <td>1.400000</td>\n",
       "      <td>0.777778</td>\n",
       "      <td>1.400000</td>\n",
       "    </tr>\n",
       "    <tr>\n",
       "      <th>1</th>\n",
       "      <td>complexity</td>\n",
       "      <td>simple</td>\n",
       "      <td>6</td>\n",
       "      <td>8</td>\n",
       "      <td>0.800000</td>\n",
       "      <td>1.333333</td>\n",
       "      <td>0.600000</td>\n",
       "      <td>1.000000</td>\n",
       "    </tr>\n",
       "    <tr>\n",
       "      <th>2</th>\n",
       "      <td>chance</td>\n",
       "      <td>probably</td>\n",
       "      <td>7</td>\n",
       "      <td>8</td>\n",
       "      <td>1.333333</td>\n",
       "      <td>1.000000</td>\n",
       "      <td>1.166667</td>\n",
       "      <td>0.875000</td>\n",
       "    </tr>\n",
       "    <tr>\n",
       "      <th>3</th>\n",
       "      <td>covered</td>\n",
       "      <td>sheet</td>\n",
       "      <td>5</td>\n",
       "      <td>5</td>\n",
       "      <td>0.714286</td>\n",
       "      <td>1.000000</td>\n",
       "      <td>0.714286</td>\n",
       "      <td>1.000000</td>\n",
       "    </tr>\n",
       "    <tr>\n",
       "      <th>4</th>\n",
       "      <td>shifting</td>\n",
       "      <td>topics</td>\n",
       "      <td>7</td>\n",
       "      <td>6</td>\n",
       "      <td>0.750000</td>\n",
       "      <td>1.000000</td>\n",
       "      <td>0.875000</td>\n",
       "      <td>1.166667</td>\n",
       "    </tr>\n",
       "  </tbody>\n",
       "</table>\n",
       "</div>"
      ],
      "text/plain": [
       "       word_1    word_2  orthographic_edit_distance  phonetic_edit_distance  \\\n",
       "0   marketing     share                           7                       7   \n",
       "1  complexity    simple                           6                       8   \n",
       "2      chance  probably                           7                       8   \n",
       "3     covered     sheet                           5                       5   \n",
       "4    shifting    topics                           7                       6   \n",
       "\n",
       "   word_1_phonetic_ser  word_2_phonetic_ser  word_1_orthographic_ser  \\\n",
       "0             0.777778             1.400000                 0.777778   \n",
       "1             0.800000             1.333333                 0.600000   \n",
       "2             1.333333             1.000000                 1.166667   \n",
       "3             0.714286             1.000000                 0.714286   \n",
       "4             0.750000             1.000000                 0.875000   \n",
       "\n",
       "   word_2_orthographic_ser  \n",
       "0                 1.400000  \n",
       "1                 1.000000  \n",
       "2                 0.875000  \n",
       "3                 1.000000  \n",
       "4                 1.166667  "
      ]
     },
     "execution_count": 8,
     "metadata": {},
     "output_type": "execute_result"
    }
   ],
   "source": [
    "wordpairs_ser.head()"
   ]
  },
  {
   "cell_type": "code",
   "execution_count": 9,
   "metadata": {},
   "outputs": [],
   "source": [
    "del wordpairs_ser[\"orthographic_edit_distance\"]\n",
    "for s in [\"word_1\",\"word_2\"]:\n",
    "    del wordpairs_ser[\"%s_phonetic_ser\"%(s)]\n",
    "    del wordpairs_ser[\"%s_orthographic_ser\"%(s)]\n",
    "#del wordpairs_ser[\"phonetic_edit_distance\"]"
   ]
  },
  {
   "cell_type": "code",
   "execution_count": null,
   "metadata": {},
   "outputs": [],
   "source": []
  },
  {
   "cell_type": "code",
   "execution_count": 10,
   "metadata": {},
   "outputs": [
    {
     "data": {
      "text/html": [
       "<div>\n",
       "<style scoped>\n",
       "    .dataframe tbody tr th:only-of-type {\n",
       "        vertical-align: middle;\n",
       "    }\n",
       "\n",
       "    .dataframe tbody tr th {\n",
       "        vertical-align: top;\n",
       "    }\n",
       "\n",
       "    .dataframe thead th {\n",
       "        text-align: right;\n",
       "    }\n",
       "</style>\n",
       "<table border=\"1\" class=\"dataframe\">\n",
       "  <thead>\n",
       "    <tr style=\"text-align: right;\">\n",
       "      <th></th>\n",
       "      <th>word_1</th>\n",
       "      <th>word_2</th>\n",
       "      <th>phonetic_edit_distance</th>\n",
       "    </tr>\n",
       "  </thead>\n",
       "  <tbody>\n",
       "    <tr>\n",
       "      <th>0</th>\n",
       "      <td>covered</td>\n",
       "      <td>sheet</td>\n",
       "      <td>5</td>\n",
       "    </tr>\n",
       "    <tr>\n",
       "      <th>1</th>\n",
       "      <td>shifting</td>\n",
       "      <td>topics</td>\n",
       "      <td>6</td>\n",
       "    </tr>\n",
       "    <tr>\n",
       "      <th>2</th>\n",
       "      <td>marketing</td>\n",
       "      <td>share</td>\n",
       "      <td>7</td>\n",
       "    </tr>\n",
       "    <tr>\n",
       "      <th>3</th>\n",
       "      <td>complexity</td>\n",
       "      <td>simple</td>\n",
       "      <td>8</td>\n",
       "    </tr>\n",
       "    <tr>\n",
       "      <th>4</th>\n",
       "      <td>chance</td>\n",
       "      <td>probably</td>\n",
       "      <td>8</td>\n",
       "    </tr>\n",
       "  </tbody>\n",
       "</table>\n",
       "</div>"
      ],
      "text/plain": [
       "       word_1    word_2  phonetic_edit_distance\n",
       "0     covered     sheet                       5\n",
       "1    shifting    topics                       6\n",
       "2   marketing     share                       7\n",
       "3  complexity    simple                       8\n",
       "4      chance  probably                       8"
      ]
     },
     "execution_count": 10,
     "metadata": {},
     "output_type": "execute_result"
    }
   ],
   "source": [
    "wordpairs_ser.sort_values(\"phonetic_edit_distance\").reset_index(drop = True)"
   ]
  },
  {
   "cell_type": "code",
   "execution_count": 11,
   "metadata": {},
   "outputs": [
    {
     "data": {
      "text/html": [
       "<div>\n",
       "<style scoped>\n",
       "    .dataframe tbody tr th:only-of-type {\n",
       "        vertical-align: middle;\n",
       "    }\n",
       "\n",
       "    .dataframe tbody tr th {\n",
       "        vertical-align: top;\n",
       "    }\n",
       "\n",
       "    .dataframe thead th {\n",
       "        text-align: right;\n",
       "    }\n",
       "</style>\n",
       "<table border=\"1\" class=\"dataframe\">\n",
       "  <thead>\n",
       "    <tr style=\"text-align: right;\">\n",
       "      <th></th>\n",
       "      <th>word_1</th>\n",
       "      <th>word_2</th>\n",
       "      <th>cosine_similarity</th>\n",
       "    </tr>\n",
       "  </thead>\n",
       "  <tbody>\n",
       "    <tr>\n",
       "      <th>3</th>\n",
       "      <td>covered</td>\n",
       "      <td>sheet</td>\n",
       "      <td>0.005748</td>\n",
       "    </tr>\n",
       "    <tr>\n",
       "      <th>2</th>\n",
       "      <td>chance</td>\n",
       "      <td>probably</td>\n",
       "      <td>0.000292</td>\n",
       "    </tr>\n",
       "    <tr>\n",
       "      <th>1</th>\n",
       "      <td>complexity</td>\n",
       "      <td>simple</td>\n",
       "      <td>0.000142</td>\n",
       "    </tr>\n",
       "    <tr>\n",
       "      <th>4</th>\n",
       "      <td>shifting</td>\n",
       "      <td>topics</td>\n",
       "      <td>0.000115</td>\n",
       "    </tr>\n",
       "    <tr>\n",
       "      <th>0</th>\n",
       "      <td>marketing</td>\n",
       "      <td>share</td>\n",
       "      <td>0.000090</td>\n",
       "    </tr>\n",
       "  </tbody>\n",
       "</table>\n",
       "</div>"
      ],
      "text/plain": [
       "       word_1    word_2  cosine_similarity\n",
       "3     covered     sheet           0.005748\n",
       "2      chance  probably           0.000292\n",
       "1  complexity    simple           0.000142\n",
       "4    shifting    topics           0.000115\n",
       "0   marketing     share           0.000090"
      ]
     },
     "execution_count": 11,
     "metadata": {},
     "output_type": "execute_result"
    }
   ],
   "source": [
    "wordpairs_embedding_similarity.sort_values(\"cosine_similarity\", ascending = False)"
   ]
  },
  {
   "cell_type": "code",
   "execution_count": 18,
   "metadata": {},
   "outputs": [],
   "source": [
    "wordpairs_distance = pd.merge(wordpairs_ser,wordpairs_embedding_similarity,on = [\"word_1\",\"word_2\"])"
   ]
  },
  {
   "cell_type": "code",
   "execution_count": 19,
   "metadata": {},
   "outputs": [
    {
     "data": {
      "text/html": [
       "<div>\n",
       "<style scoped>\n",
       "    .dataframe tbody tr th:only-of-type {\n",
       "        vertical-align: middle;\n",
       "    }\n",
       "\n",
       "    .dataframe tbody tr th {\n",
       "        vertical-align: top;\n",
       "    }\n",
       "\n",
       "    .dataframe thead th {\n",
       "        text-align: right;\n",
       "    }\n",
       "</style>\n",
       "<table border=\"1\" class=\"dataframe\">\n",
       "  <thead>\n",
       "    <tr style=\"text-align: right;\">\n",
       "      <th></th>\n",
       "      <th>word_1</th>\n",
       "      <th>word_2</th>\n",
       "      <th>phonetic_edit_distance</th>\n",
       "      <th>cosine_similarity</th>\n",
       "    </tr>\n",
       "  </thead>\n",
       "  <tbody>\n",
       "    <tr>\n",
       "      <th>0</th>\n",
       "      <td>marketing</td>\n",
       "      <td>share</td>\n",
       "      <td>7</td>\n",
       "      <td>0.000090</td>\n",
       "    </tr>\n",
       "    <tr>\n",
       "      <th>1</th>\n",
       "      <td>complexity</td>\n",
       "      <td>simple</td>\n",
       "      <td>8</td>\n",
       "      <td>0.000142</td>\n",
       "    </tr>\n",
       "    <tr>\n",
       "      <th>2</th>\n",
       "      <td>chance</td>\n",
       "      <td>probably</td>\n",
       "      <td>8</td>\n",
       "      <td>0.000292</td>\n",
       "    </tr>\n",
       "    <tr>\n",
       "      <th>3</th>\n",
       "      <td>covered</td>\n",
       "      <td>sheet</td>\n",
       "      <td>5</td>\n",
       "      <td>0.005748</td>\n",
       "    </tr>\n",
       "    <tr>\n",
       "      <th>4</th>\n",
       "      <td>shifting</td>\n",
       "      <td>topics</td>\n",
       "      <td>6</td>\n",
       "      <td>0.000115</td>\n",
       "    </tr>\n",
       "  </tbody>\n",
       "</table>\n",
       "</div>"
      ],
      "text/plain": [
       "       word_1    word_2  phonetic_edit_distance  cosine_similarity\n",
       "0   marketing     share                       7           0.000090\n",
       "1  complexity    simple                       8           0.000142\n",
       "2      chance  probably                       8           0.000292\n",
       "3     covered     sheet                       5           0.005748\n",
       "4    shifting    topics                       6           0.000115"
      ]
     },
     "execution_count": 19,
     "metadata": {},
     "output_type": "execute_result"
    }
   ],
   "source": [
    "wordpairs_distance"
   ]
  },
  {
   "cell_type": "code",
   "execution_count": 31,
   "metadata": {},
   "outputs": [
    {
     "data": {
      "text/plain": [
       "SpearmanrResult(correlation=-0.13328721425962478, pvalue=0.0)"
      ]
     },
     "execution_count": 31,
     "metadata": {},
     "output_type": "execute_result"
    }
   ],
   "source": [
    "stats.spearmanr(wordpairs_distance[\"word_2_phonetic_ser\"],wordpairs_distance[\"cosine_similarity\"].to_list())"
   ]
  },
  {
   "cell_type": "code",
   "execution_count": 24,
   "metadata": {},
   "outputs": [
    {
     "data": {
      "text/plain": [
       "SpearmanrResult(correlation=0.81043155844782, pvalue=0.0)"
      ]
     },
     "execution_count": 24,
     "metadata": {},
     "output_type": "execute_result"
    }
   ],
   "source": [
    "stats.spearmanr(wordpairs_distance[\"orthographic_edit_distance\"],wordpairs_distance[\"orthographic_edit_distance\"])"
   ]
  },
  {
   "cell_type": "code",
   "execution_count": null,
   "metadata": {},
   "outputs": [],
   "source": []
  }
 ],
 "metadata": {
  "kernelspec": {
   "display_name": "Python 3",
   "language": "python",
   "name": "python3"
  },
  "language_info": {
   "codemirror_mode": {
    "name": "ipython",
    "version": 3
   },
   "file_extension": ".py",
   "mimetype": "text/x-python",
   "name": "python",
   "nbconvert_exporter": "python",
   "pygments_lexer": "ipython3",
   "version": "3.6.10"
  }
 },
 "nbformat": 4,
 "nbformat_minor": 2
}
