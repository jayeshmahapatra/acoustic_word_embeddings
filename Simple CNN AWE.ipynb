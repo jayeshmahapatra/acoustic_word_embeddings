{
 "cells": [
  {
   "cell_type": "code",
   "execution_count": 1,
   "metadata": {},
   "outputs": [
    {
     "name": "stderr",
     "output_type": "stream",
     "text": [
      "################################################################################\n",
      "### WARNING, path does not exist: KALDI_ROOT=/mnt/matylda5/iveselyk/Tools/kaldi-trunk\n",
      "###          (please add 'export KALDI_ROOT=<your_path>' in your $HOME/.profile)\n",
      "###          (or run as: KALDI_ROOT=<your_path> python <your_script>.py)\n",
      "################################################################################\n",
      "\n"
     ]
    }
   ],
   "source": [
    "#Core Python, Pandas, and kaldi_io\n",
    "import numpy as np\n",
    "import pandas as pd\n",
    "import string\n",
    "from collections import Counter\n",
    "import random\n",
    "import kaldi_io\n",
    "\n",
    "#Scikit\n",
    "from sklearn import manifold\n",
    "from sklearn.model_selection import train_test_split\n",
    "from sklearn.neighbors import NearestNeighbors\n",
    "from sklearn.metrics import pairwise_distances,average_precision_score\n",
    "from sklearn.metrics.pairwise import pairwise_kernels\n",
    "from scipy import stats\n",
    "from scipy.spatial.distance import pdist\n",
    "\n",
    "#Plotting\n",
    "from matplotlib import pyplot as plt\n",
    "import seaborn as sns\n",
    "\n",
    "\n",
    "\n",
    "#Torch and utilities\n",
    "import torch\n",
    "import torch.nn as nn\n",
    "import torch.nn.functional as F\n",
    "import torch.optim as optim\n",
    "from torch.utils.data import TensorDataset,DataLoader,random_split,ConcatDataset\n",
    "import torch.cuda as cutorch\n",
    "\n",
    "#Import User defined classes\n",
    "from data_helpers import DataHelper\n",
    "from models import SimpleNet, SiameseNet\n",
    "from siamese_dataset import SiameseTriplets\n",
    "from train_test_helpers import accuracy,train_model,evaluate_model,evaluate_model_paper,test_model,plot_learning_curves"
   ]
  },
  {
   "cell_type": "code",
   "execution_count": 15,
   "metadata": {},
   "outputs": [],
   "source": [
    "df = pd.read_csv('Data/text.txt', sep = \" \", header = None)\n",
    "df.columns = [\"keyword\",\"word\"]"
   ]
  },
  {
   "cell_type": "code",
   "execution_count": 16,
   "metadata": {},
   "outputs": [],
   "source": [
    "keyword_to_word = {}\n",
    "for row in df.itertuples():\n",
    "    keyword_to_word[row.keyword] = row.word"
   ]
  },
  {
   "cell_type": "code",
   "execution_count": null,
   "metadata": {},
   "outputs": [],
   "source": []
  },
  {
   "cell_type": "code",
   "execution_count": 24,
   "metadata": {},
   "outputs": [
    {
     "data": {
      "text/plain": [
       "11976"
      ]
     },
     "execution_count": 24,
     "metadata": {},
     "output_type": "execute_result"
    }
   ],
   "source": [
    "len(Counter(keyword_to_word.values()).keys())"
   ]
  },
  {
   "cell_type": "code",
   "execution_count": 2,
   "metadata": {},
   "outputs": [
    {
     "name": "stdout",
     "output_type": "stream",
     "text": [
      "Length before filtering on char length 317927\n",
      "Length after filtering on char length 173657\n",
      "Length before filtering on frequency_bounds 173657\n",
      "Length after filtering on frequency_bounds 162522\n",
      "Finished Loading the Data, 162522 examples\n",
      "Number of Unique words  3280\n",
      "[1968, 656, 656]\n",
      "For trainset number of unique words are 1968\n",
      "torch.Size([19680, 3, 40, 100])\n",
      "Length before filtering on char length 317927\n",
      "Length after filtering on char length 173657\n",
      "Length before filtering on frequency_bounds 173657\n",
      "Length after filtering on frequency_bounds 162522\n",
      "Finished Loading the Data, 162522 examples\n",
      "Number of Unique words  3280\n",
      "[1968, 656, 656]\n",
      "For valset number of unique words are 656\n",
      "torch.Size([6560, 3, 40, 100])\n",
      "Length before filtering on char length 317927\n",
      "Length after filtering on char length 173657\n",
      "Length before filtering on frequency_bounds 173657\n",
      "Length after filtering on frequency_bounds 162522\n",
      "Finished Loading the Data, 162522 examples\n",
      "Number of Unique words  3280\n",
      "[1968, 656, 656]\n",
      "For testset number of unique words are 656\n",
      "torch.Size([6560, 3, 40, 100])\n"
     ]
    }
   ],
   "source": [
    "num_examples = np.Inf\n",
    "frequency_bounds = (5,np.Inf)\n",
    "train_sm_dataset = SiameseTriplets(num_examples = num_examples, split_set = \"train\", frequency_bounds = frequency_bounds)\n",
    "val_sm_dataset = SiameseTriplets(num_examples = num_examples, split_set = \"val\", frequency_bounds = frequency_bounds)\n",
    "test_sm_dataset = SiameseTriplets(num_examples = num_examples, split_set = \"test\", frequency_bounds = frequency_bounds)"
   ]
  },
  {
   "cell_type": "code",
   "execution_count": 3,
   "metadata": {},
   "outputs": [],
   "source": [
    "train_dl = torch.utils.data.DataLoader(train_sm_dataset, shuffle = True, batch_size = 64, pin_memory = True)\n",
    "val_dl = torch.utils.data.DataLoader(val_sm_dataset, shuffle = True, batch_size = 64, pin_memory = True)\n",
    "test_dl = torch.utils.data.DataLoader(test_sm_dataset, shuffle = True, batch_size = 64, pin_memory = True)"
   ]
  },
  {
   "cell_type": "code",
   "execution_count": 4,
   "metadata": {},
   "outputs": [],
   "source": [
    "dev = torch.device(\n",
    "    \"cuda\") if torch.cuda.is_available() else torch.device(\"cpu\")"
   ]
  },
  {
   "cell_type": "markdown",
   "metadata": {},
   "source": [
    "class SiameseNet(nn.Module):\n",
    "    def __init__(self):\n",
    "        super(SiameseNet, self).__init__()\n",
    "        self.conv1 = nn.Conv1d(40,96,(10))\n",
    "        self.pool = nn.MaxPool1d(3)\n",
    "        self.conv2 = nn.Conv1d(96, 96, (8))\n",
    "        #self.fc1 = nn.Linear(1728, 1024)\n",
    "        self.fc1 = nn.Linear(672, 1024)\n",
    "    \n",
    "    def forward(self, x):\n",
    "        \n",
    "        x = self.pool(F.relu(self.conv1(x)))\n",
    "        #print(x.shape)\n",
    "        x = self.pool(F.relu(self.conv2(x)))\n",
    "        #print('Pre')\n",
    "        #print(x.shape)  \n",
    "        x = x.view(x.shape[0], -1)\n",
    "        #print('Post')\n",
    "        #print(x.shape)\n",
    "        x = self.fc1(x)\n",
    "        \n",
    "        return x\n",
    "    \n",
    "    def give_embeddings(self,x,dev):\n",
    "        x = self.pool(F.relu(self.conv1(x)))\n",
    "        #print(x.shape)\n",
    "        x = self.pool(F.relu(self.conv2(x)))\n",
    "        #print('Pre')\n",
    "        #print(x.shape)  \n",
    "        x = x.view(x.shape[0], -1)\n",
    "        #print('Post')\n",
    "        #print(x.shape)\n",
    "        x = F.relu(self.fc1(x))\n",
    "        return x.cpu().detach().numpy() if dev.type == 'cuda' else x.detach().numpy()"
   ]
  },
  {
   "cell_type": "code",
   "execution_count": 8,
   "metadata": {},
   "outputs": [],
   "source": [
    "def cos_distance(cos,x_1,x_2):\n",
    "    return (1- cos(x_1,x_2))/2"
   ]
  },
  {
   "cell_type": "code",
   "execution_count": 9,
   "metadata": {},
   "outputs": [],
   "source": [
    "def cos_hinge_loss(word_embedding,same_word_embedding,diff_word_embedding,cos):\n",
    "    m = 0.15\n",
    "    lower_bound = torch.tensor(0.0).to(dev, non_blocking = True)\n",
    "    a = torch.max(lower_bound,m + cos_distance(cos, word_embedding, same_word_embedding) - cos_distance(cos, word_embedding, diff_word_embedding))\n",
    "    return torch.mean(a)"
   ]
  },
  {
   "cell_type": "code",
   "execution_count": 16,
   "metadata": {
    "scrolled": true
   },
   "outputs": [
    {
     "name": "stdout",
     "output_type": "stream",
     "text": [
      "epoch 0 \n",
      "Best val loss 0.082 Saving Model...\n",
      "train loss: 0.097\n",
      "val loss: 0.082\n",
      "epoch 1 \n",
      "Best val loss 0.074 Saving Model...\n",
      "train loss: 0.072\n",
      "val loss: 0.074\n",
      "epoch 2 \n",
      "Best val loss 0.071 Saving Model...\n",
      "train loss: 0.066\n",
      "val loss: 0.071\n",
      "epoch 3 \n",
      "Best val loss 0.068 Saving Model...\n",
      "train loss: 0.062\n",
      "val loss: 0.068\n",
      "epoch 4 \n",
      "Best val loss 0.067 Saving Model...\n",
      "train loss: 0.060\n",
      "val loss: 0.067\n",
      "epoch 5 \n",
      "Best val loss 0.066 Saving Model...\n",
      "train loss: 0.058\n",
      "val loss: 0.066\n",
      "epoch 6 \n",
      "Best val loss 0.065 Saving Model...\n",
      "train loss: 0.056\n",
      "val loss: 0.065\n",
      "epoch 7 \n",
      "Best val loss 0.064 Saving Model...\n",
      "train loss: 0.055\n",
      "val loss: 0.064\n",
      "epoch 8 \n",
      "Best val loss 0.063 Saving Model...\n",
      "train loss: 0.054\n",
      "val loss: 0.063\n",
      "epoch 9 \n",
      "Best val loss 0.062 Saving Model...\n",
      "train loss: 0.052\n",
      "val loss: 0.062\n",
      "epoch 10 \n",
      "Best val loss 0.062 Saving Model...\n",
      "train loss: 0.051\n",
      "val loss: 0.062\n",
      "epoch 11 \n",
      "Best val loss 0.061 Saving Model...\n",
      "train loss: 0.050\n",
      "val loss: 0.061\n",
      "epoch 12 \n",
      "Best val loss 0.060 Saving Model...\n",
      "train loss: 0.049\n",
      "val loss: 0.060\n",
      "epoch 13 \n",
      "Best val loss 0.060 Saving Model...\n",
      "train loss: 0.048\n",
      "val loss: 0.060\n",
      "epoch 14 \n",
      "Best val loss 0.060 Saving Model...\n",
      "train loss: 0.047\n",
      "val loss: 0.060\n",
      "epoch 15 \n",
      "Best val loss 0.059 Saving Model...\n",
      "train loss: 0.047\n",
      "val loss: 0.059\n",
      "epoch 16 \n",
      "Best val loss 0.059 Saving Model...\n",
      "train loss: 0.046\n",
      "val loss: 0.059\n",
      "epoch 17 \n",
      "Best val loss 0.059 Saving Model...\n",
      "train loss: 0.045\n",
      "val loss: 0.059\n",
      "epoch 18 \n",
      "Best val loss 0.058 Saving Model...\n",
      "train loss: 0.044\n",
      "val loss: 0.058\n",
      "epoch 19 \n",
      "Best val loss 0.058 Saving Model...\n",
      "train loss: 0.044\n",
      "val loss: 0.058\n",
      "epoch 20 \n",
      "Best val loss 0.058 Saving Model...\n",
      "train loss: 0.043\n",
      "val loss: 0.058\n",
      "epoch 21 \n",
      "Best val loss 0.058 Saving Model...\n",
      "train loss: 0.042\n",
      "val loss: 0.058\n",
      "epoch 22 \n",
      "Best val loss 0.057 Saving Model...\n",
      "train loss: 0.042\n",
      "val loss: 0.057\n",
      "epoch 23 \n",
      "Best val loss 0.057 Saving Model...\n",
      "train loss: 0.041\n",
      "val loss: 0.057\n",
      "epoch 24 \n",
      "Best val loss 0.057 Saving Model...\n",
      "train loss: 0.041\n",
      "val loss: 0.057\n",
      "epoch 25 \n",
      "Best val loss 0.057 Saving Model...\n",
      "train loss: 0.040\n",
      "val loss: 0.057\n",
      "epoch 26 \n",
      "Best val loss 0.056 Saving Model...\n",
      "train loss: 0.040\n",
      "val loss: 0.056\n",
      "epoch 27 \n",
      "Best val loss 0.056 Saving Model...\n",
      "train loss: 0.039\n",
      "val loss: 0.056\n",
      "epoch 28 \n",
      "Best val loss 0.056 Saving Model...\n",
      "train loss: 0.038\n",
      "val loss: 0.056\n",
      "epoch 29 \n",
      "train loss: 0.038\n",
      "val loss: 0.056\n",
      "epoch 30 \n",
      "Best val loss 0.056 Saving Model...\n",
      "train loss: 0.037\n",
      "val loss: 0.056\n",
      "epoch 31 \n",
      "Best val loss 0.056 Saving Model...\n",
      "train loss: 0.037\n",
      "val loss: 0.056\n",
      "epoch 32 \n",
      "Best val loss 0.055 Saving Model...\n",
      "train loss: 0.036\n",
      "val loss: 0.055\n",
      "epoch 33 \n",
      "train loss: 0.036\n",
      "val loss: 0.056\n",
      "epoch 34 \n",
      "Best val loss 0.055 Saving Model...\n",
      "train loss: 0.035\n",
      "val loss: 0.055\n",
      "epoch 35 \n",
      "Best val loss 0.055 Saving Model...\n",
      "train loss: 0.035\n",
      "val loss: 0.055\n",
      "epoch 36 \n",
      "Best val loss 0.055 Saving Model...\n",
      "train loss: 0.034\n",
      "val loss: 0.055\n",
      "epoch 37 \n",
      "Best val loss 0.055 Saving Model...\n",
      "train loss: 0.034\n",
      "val loss: 0.055\n",
      "epoch 38 \n",
      "Best val loss 0.055 Saving Model...\n",
      "train loss: 0.034\n",
      "val loss: 0.055\n",
      "epoch 39 \n",
      "Best val loss 0.055 Saving Model...\n",
      "train loss: 0.033\n",
      "val loss: 0.055\n",
      "epoch 40 \n",
      "train loss: 0.033\n",
      "val loss: 0.055\n",
      "epoch 41 \n",
      "Best val loss 0.055 Saving Model...\n",
      "train loss: 0.032\n",
      "val loss: 0.055\n",
      "epoch 42 \n",
      "Best val loss 0.054 Saving Model...\n",
      "train loss: 0.032\n",
      "val loss: 0.054\n",
      "epoch 43 \n",
      "train loss: 0.031\n",
      "val loss: 0.055\n",
      "epoch 44 \n",
      "train loss: 0.031\n",
      "val loss: 0.054\n",
      "epoch 45 \n",
      "Best val loss 0.054 Saving Model...\n",
      "train loss: 0.030\n",
      "val loss: 0.054\n",
      "epoch 46 \n",
      "Best val loss 0.054 Saving Model...\n",
      "train loss: 0.030\n",
      "val loss: 0.054\n",
      "epoch 47 \n",
      "Best val loss 0.054 Saving Model...\n",
      "train loss: 0.030\n",
      "val loss: 0.054\n",
      "epoch 48 \n",
      "Best val loss 0.054 Saving Model...\n",
      "train loss: 0.029\n",
      "val loss: 0.054\n",
      "epoch 49 \n",
      "train loss: 0.029\n",
      "val loss: 0.054\n",
      "epoch 50 \n",
      "Best val loss 0.054 Saving Model...\n",
      "train loss: 0.028\n",
      "val loss: 0.054\n",
      "epoch 51 \n",
      "train loss: 0.028\n",
      "val loss: 0.054\n",
      "epoch 52 \n",
      "Best val loss 0.054 Saving Model...\n",
      "train loss: 0.028\n",
      "val loss: 0.054\n",
      "epoch 53 \n",
      "train loss: 0.027\n",
      "val loss: 0.054\n",
      "epoch 54 \n",
      "train loss: 0.027\n",
      "val loss: 0.054\n",
      "epoch 55 \n",
      "Best val loss 0.054 Saving Model...\n",
      "train loss: 0.027\n",
      "val loss: 0.054\n",
      "epoch 56 \n",
      "train loss: 0.026\n",
      "val loss: 0.054\n",
      "epoch 57 \n",
      "Best val loss 0.054 Saving Model...\n",
      "train loss: 0.026\n",
      "val loss: 0.054\n",
      "epoch 58 \n",
      "train loss: 0.025\n",
      "val loss: 0.054\n",
      "epoch 59 \n",
      "Best val loss 0.054 Saving Model...\n",
      "train loss: 0.025\n",
      "val loss: 0.054\n",
      "epoch 60 \n",
      "Best val loss 0.054 Saving Model...\n",
      "train loss: 0.025\n",
      "val loss: 0.054\n",
      "epoch 61 \n",
      "train loss: 0.024\n",
      "val loss: 0.054\n",
      "epoch 62 \n",
      "train loss: 0.024\n",
      "val loss: 0.054\n",
      "epoch 63 \n",
      "Best val loss 0.054 Saving Model...\n",
      "train loss: 0.024\n",
      "val loss: 0.054\n",
      "epoch 64 \n",
      "train loss: 0.023\n",
      "val loss: 0.054\n",
      "epoch 65 \n",
      "Best val loss 0.054 Saving Model...\n",
      "train loss: 0.023\n",
      "val loss: 0.054\n",
      "epoch 66 \n",
      "train loss: 0.023\n",
      "val loss: 0.054\n",
      "epoch 67 \n",
      "train loss: 0.022\n",
      "val loss: 0.054\n",
      "epoch 68 \n",
      "train loss: 0.022\n",
      "val loss: 0.054\n",
      "epoch 69 \n",
      "train loss: 0.022\n",
      "val loss: 0.054\n",
      "epoch 70 \n",
      "Best val loss 0.053 Saving Model...\n",
      "train loss: 0.021\n",
      "val loss: 0.053\n",
      "epoch 71 \n",
      "train loss: 0.021\n",
      "val loss: 0.054\n",
      "epoch 72 \n",
      "train loss: 0.021\n",
      "val loss: 0.054\n",
      "epoch 73 \n",
      "train loss: 0.020\n",
      "val loss: 0.054\n",
      "epoch 74 \n",
      "train loss: 0.020\n",
      "val loss: 0.054\n",
      "epoch 75 \n",
      "train loss: 0.020\n",
      "val loss: 0.054\n",
      "epoch 76 \n",
      "train loss: 0.019\n",
      "val loss: 0.054\n",
      "epoch 77 \n",
      "train loss: 0.019\n",
      "val loss: 0.054\n",
      "epoch 78 \n",
      "train loss: 0.019\n",
      "val loss: 0.054\n",
      "epoch 79 \n",
      "train loss: 0.019\n",
      "val loss: 0.054\n",
      "epoch 80 \n",
      "train loss: 0.018\n",
      "val loss: 0.054\n",
      "epoch 81 \n",
      "train loss: 0.018\n",
      "val loss: 0.054\n",
      "epoch 82 \n",
      "train loss: 0.018\n",
      "val loss: 0.054\n",
      "epoch 83 \n",
      "train loss: 0.017\n",
      "val loss: 0.054\n",
      "epoch 84 \n",
      "train loss: 0.017\n",
      "val loss: 0.054\n",
      "epoch 85 \n",
      "train loss: 0.017\n",
      "val loss: 0.054\n",
      "epoch 86 \n",
      "train loss: 0.017\n",
      "val loss: 0.054\n",
      "epoch 87 \n",
      "train loss: 0.016\n",
      "val loss: 0.054\n",
      "epoch 88 \n",
      "train loss: 0.016\n",
      "val loss: 0.054\n",
      "epoch 89 \n",
      "train loss: 0.016\n",
      "val loss: 0.054\n",
      "epoch 90 \n",
      "train loss: 0.015\n",
      "val loss: 0.054\n",
      "epoch 91 \n",
      "train loss: 0.015\n",
      "val loss: 0.054\n",
      "epoch 92 \n",
      "train loss: 0.015\n",
      "val loss: 0.054\n",
      "epoch 93 \n",
      "train loss: 0.015\n",
      "val loss: 0.054\n",
      "epoch 94 \n",
      "train loss: 0.015\n",
      "val loss: 0.054\n",
      "epoch 95 \n",
      "train loss: 0.014\n",
      "val loss: 0.054\n",
      "epoch 96 \n",
      "train loss: 0.014\n",
      "val loss: 0.054\n",
      "epoch 97 \n",
      "train loss: 0.014\n",
      "val loss: 0.054\n",
      "epoch 98 \n",
      "train loss: 0.014\n",
      "val loss: 0.054\n",
      "epoch 99 \n",
      "train loss: 0.013\n",
      "val loss: 0.054\n",
      "epoch 0 \n",
      "Best val loss 0.086 Saving Model...\n",
      "train loss: 0.102\n",
      "val loss: 0.086\n",
      "epoch 1 \n",
      "Best val loss 0.076 Saving Model...\n",
      "train loss: 0.075\n",
      "val loss: 0.076\n",
      "epoch 2 \n",
      "Best val loss 0.073 Saving Model...\n",
      "train loss: 0.068\n",
      "val loss: 0.073\n",
      "epoch 3 \n",
      "Best val loss 0.071 Saving Model...\n",
      "train loss: 0.065\n",
      "val loss: 0.071\n",
      "epoch 4 \n",
      "Best val loss 0.069 Saving Model...\n",
      "train loss: 0.063\n",
      "val loss: 0.069\n",
      "epoch 5 \n",
      "Best val loss 0.068 Saving Model...\n",
      "train loss: 0.061\n",
      "val loss: 0.068\n",
      "epoch 6 \n",
      "Best val loss 0.067 Saving Model...\n",
      "train loss: 0.060\n",
      "val loss: 0.067\n",
      "epoch 7 \n",
      "Best val loss 0.066 Saving Model...\n",
      "train loss: 0.058\n",
      "val loss: 0.066\n",
      "epoch 8 \n",
      "Best val loss 0.065 Saving Model...\n",
      "train loss: 0.057\n",
      "val loss: 0.065\n",
      "epoch 9 \n",
      "Best val loss 0.065 Saving Model...\n",
      "train loss: 0.056\n",
      "val loss: 0.065\n",
      "epoch 10 \n",
      "Best val loss 0.064 Saving Model...\n",
      "train loss: 0.055\n",
      "val loss: 0.064\n",
      "epoch 11 \n",
      "Best val loss 0.063 Saving Model...\n",
      "train loss: 0.054\n",
      "val loss: 0.063\n",
      "epoch 12 \n",
      "Best val loss 0.063 Saving Model...\n",
      "train loss: 0.053\n",
      "val loss: 0.063\n",
      "epoch 13 \n",
      "Best val loss 0.062 Saving Model...\n",
      "train loss: 0.052\n",
      "val loss: 0.062\n",
      "epoch 14 \n",
      "Best val loss 0.062 Saving Model...\n",
      "train loss: 0.051\n",
      "val loss: 0.062\n",
      "epoch 15 \n",
      "Best val loss 0.061 Saving Model...\n",
      "train loss: 0.051\n",
      "val loss: 0.061\n",
      "epoch 16 \n",
      "Best val loss 0.061 Saving Model...\n",
      "train loss: 0.050\n",
      "val loss: 0.061\n",
      "epoch 17 \n",
      "Best val loss 0.061 Saving Model...\n",
      "train loss: 0.049\n",
      "val loss: 0.061\n",
      "epoch 18 \n",
      "Best val loss 0.060 Saving Model...\n",
      "train loss: 0.049\n",
      "val loss: 0.060\n",
      "epoch 19 \n",
      "Best val loss 0.060 Saving Model...\n",
      "train loss: 0.048\n",
      "val loss: 0.060\n",
      "epoch 20 \n",
      "Best val loss 0.060 Saving Model...\n",
      "train loss: 0.047\n",
      "val loss: 0.060\n",
      "epoch 21 \n",
      "Best val loss 0.059 Saving Model...\n",
      "train loss: 0.047\n",
      "val loss: 0.059\n",
      "epoch 22 \n",
      "train loss: 0.046\n",
      "val loss: 0.060\n",
      "epoch 23 \n",
      "Best val loss 0.059 Saving Model...\n",
      "train loss: 0.045\n",
      "val loss: 0.059\n",
      "epoch 24 \n",
      "Best val loss 0.059 Saving Model...\n",
      "train loss: 0.045\n",
      "val loss: 0.059\n",
      "epoch 25 \n"
     ]
    },
    {
     "name": "stdout",
     "output_type": "stream",
     "text": [
      "train loss: 0.044\n",
      "val loss: 0.059\n",
      "epoch 26 \n",
      "Best val loss 0.058 Saving Model...\n",
      "train loss: 0.044\n",
      "val loss: 0.058\n",
      "epoch 27 \n",
      "Best val loss 0.058 Saving Model...\n",
      "train loss: 0.043\n",
      "val loss: 0.058\n",
      "epoch 28 \n",
      "Best val loss 0.058 Saving Model...\n",
      "train loss: 0.043\n",
      "val loss: 0.058\n",
      "epoch 29 \n",
      "Best val loss 0.058 Saving Model...\n",
      "train loss: 0.042\n",
      "val loss: 0.058\n",
      "epoch 30 \n",
      "Best val loss 0.058 Saving Model...\n",
      "train loss: 0.042\n",
      "val loss: 0.058\n",
      "epoch 31 \n",
      "Best val loss 0.058 Saving Model...\n",
      "train loss: 0.041\n",
      "val loss: 0.058\n",
      "epoch 32 \n",
      "Best val loss 0.057 Saving Model...\n",
      "train loss: 0.041\n",
      "val loss: 0.057\n",
      "epoch 33 \n",
      "train loss: 0.040\n",
      "val loss: 0.057\n",
      "epoch 34 \n",
      "Best val loss 0.057 Saving Model...\n",
      "train loss: 0.040\n",
      "val loss: 0.057\n",
      "epoch 35 \n",
      "Best val loss 0.057 Saving Model...\n",
      "train loss: 0.039\n",
      "val loss: 0.057\n",
      "epoch 36 \n",
      "train loss: 0.039\n",
      "val loss: 0.057\n",
      "epoch 37 \n",
      "Best val loss 0.057 Saving Model...\n",
      "train loss: 0.038\n",
      "val loss: 0.057\n",
      "epoch 38 \n",
      "Best val loss 0.057 Saving Model...\n",
      "train loss: 0.038\n",
      "val loss: 0.057\n",
      "epoch 39 \n",
      "Best val loss 0.056 Saving Model...\n",
      "train loss: 0.038\n",
      "val loss: 0.056\n",
      "epoch 40 \n",
      "Best val loss 0.056 Saving Model...\n",
      "train loss: 0.037\n",
      "val loss: 0.056\n",
      "epoch 41 \n",
      "train loss: 0.037\n",
      "val loss: 0.056\n",
      "epoch 42 \n",
      "Best val loss 0.056 Saving Model...\n",
      "train loss: 0.036\n",
      "val loss: 0.056\n",
      "epoch 43 \n",
      "Best val loss 0.056 Saving Model...\n",
      "train loss: 0.036\n",
      "val loss: 0.056\n",
      "epoch 44 \n",
      "Best val loss 0.056 Saving Model...\n",
      "train loss: 0.036\n",
      "val loss: 0.056\n",
      "epoch 45 \n",
      "Best val loss 0.056 Saving Model...\n",
      "train loss: 0.035\n",
      "val loss: 0.056\n",
      "epoch 46 \n",
      "train loss: 0.035\n",
      "val loss: 0.056\n",
      "epoch 47 \n",
      "Best val loss 0.056 Saving Model...\n",
      "train loss: 0.034\n",
      "val loss: 0.056\n",
      "epoch 48 \n",
      "train loss: 0.034\n",
      "val loss: 0.056\n",
      "epoch 49 \n",
      "Best val loss 0.056 Saving Model...\n",
      "train loss: 0.034\n",
      "val loss: 0.056\n",
      "epoch 50 \n",
      "train loss: 0.033\n",
      "val loss: 0.056\n",
      "epoch 51 \n",
      "Best val loss 0.056 Saving Model...\n",
      "train loss: 0.033\n",
      "val loss: 0.056\n",
      "epoch 52 \n",
      "train loss: 0.032\n",
      "val loss: 0.056\n",
      "epoch 53 \n",
      "Best val loss 0.055 Saving Model...\n",
      "train loss: 0.032\n",
      "val loss: 0.055\n",
      "epoch 54 \n",
      "train loss: 0.032\n",
      "val loss: 0.056\n",
      "epoch 55 \n",
      "train loss: 0.031\n",
      "val loss: 0.056\n",
      "epoch 56 \n",
      "train loss: 0.031\n",
      "val loss: 0.056\n",
      "epoch 57 \n",
      "Best val loss 0.055 Saving Model...\n",
      "train loss: 0.030\n",
      "val loss: 0.055\n",
      "epoch 58 \n",
      "train loss: 0.030\n",
      "val loss: 0.056\n",
      "epoch 59 \n",
      "Best val loss 0.055 Saving Model...\n",
      "train loss: 0.030\n",
      "val loss: 0.055\n",
      "epoch 60 \n",
      "Best val loss 0.055 Saving Model...\n",
      "train loss: 0.029\n",
      "val loss: 0.055\n",
      "epoch 61 \n",
      "train loss: 0.029\n",
      "val loss: 0.055\n",
      "epoch 62 \n",
      "train loss: 0.029\n",
      "val loss: 0.055\n",
      "epoch 63 \n",
      "Best val loss 0.055 Saving Model...\n",
      "train loss: 0.028\n",
      "val loss: 0.055\n",
      "epoch 64 \n",
      "train loss: 0.028\n",
      "val loss: 0.055\n",
      "epoch 65 \n",
      "train loss: 0.028\n",
      "val loss: 0.055\n",
      "epoch 66 \n",
      "train loss: 0.027\n",
      "val loss: 0.055\n",
      "epoch 67 \n",
      "Best val loss 0.055 Saving Model...\n",
      "train loss: 0.027\n",
      "val loss: 0.055\n",
      "epoch 68 \n",
      "train loss: 0.027\n",
      "val loss: 0.055\n",
      "epoch 69 \n",
      "train loss: 0.026\n",
      "val loss: 0.055\n",
      "epoch 70 \n",
      "train loss: 0.026\n",
      "val loss: 0.055\n",
      "epoch 71 \n",
      "Best val loss 0.055 Saving Model...\n",
      "train loss: 0.026\n",
      "val loss: 0.055\n",
      "epoch 72 \n",
      "train loss: 0.025\n",
      "val loss: 0.055\n",
      "epoch 73 \n",
      "train loss: 0.025\n",
      "val loss: 0.055\n",
      "epoch 74 \n",
      "train loss: 0.025\n",
      "val loss: 0.055\n",
      "epoch 75 \n",
      "train loss: 0.024\n",
      "val loss: 0.055\n",
      "epoch 76 \n",
      "Best val loss 0.055 Saving Model...\n",
      "train loss: 0.024\n",
      "val loss: 0.055\n",
      "epoch 77 \n",
      "train loss: 0.024\n",
      "val loss: 0.055\n",
      "epoch 78 \n",
      "train loss: 0.023\n",
      "val loss: 0.055\n",
      "epoch 79 \n",
      "train loss: 0.023\n",
      "val loss: 0.055\n",
      "epoch 80 \n",
      "train loss: 0.023\n",
      "val loss: 0.055\n",
      "epoch 81 \n",
      "train loss: 0.022\n",
      "val loss: 0.055\n",
      "epoch 82 \n",
      "train loss: 0.022\n",
      "val loss: 0.055\n",
      "epoch 83 \n",
      "train loss: 0.022\n",
      "val loss: 0.055\n",
      "epoch 84 \n",
      "train loss: 0.022\n",
      "val loss: 0.055\n",
      "epoch 85 \n",
      "train loss: 0.021\n",
      "val loss: 0.055\n",
      "epoch 86 \n",
      "train loss: 0.021\n",
      "val loss: 0.055\n",
      "epoch 87 \n",
      "train loss: 0.021\n",
      "val loss: 0.055\n",
      "epoch 88 \n",
      "train loss: 0.020\n",
      "val loss: 0.055\n",
      "epoch 89 \n",
      "train loss: 0.020\n",
      "val loss: 0.055\n",
      "epoch 90 \n",
      "train loss: 0.020\n",
      "val loss: 0.055\n",
      "epoch 91 \n",
      "train loss: 0.020\n",
      "val loss: 0.055\n",
      "epoch 92 \n",
      "train loss: 0.019\n",
      "val loss: 0.055\n",
      "epoch 93 \n",
      "train loss: 0.019\n",
      "val loss: 0.055\n",
      "epoch 94 \n",
      "train loss: 0.019\n",
      "val loss: 0.055\n",
      "epoch 95 \n",
      "train loss: 0.019\n",
      "val loss: 0.056\n",
      "epoch 96 \n",
      "train loss: 0.018\n",
      "val loss: 0.055\n",
      "epoch 97 \n",
      "train loss: 0.018\n",
      "val loss: 0.055\n",
      "epoch 98 \n",
      "train loss: 0.018\n",
      "val loss: 0.055\n",
      "epoch 99 \n",
      "train loss: 0.017\n",
      "val loss: 0.055\n",
      "epoch 0 \n",
      "Best val loss 0.086 Saving Model...\n",
      "train loss: 0.101\n",
      "val loss: 0.086\n",
      "epoch 1 \n",
      "Best val loss 0.077 Saving Model...\n",
      "train loss: 0.075\n",
      "val loss: 0.077\n",
      "epoch 2 \n",
      "Best val loss 0.074 Saving Model...\n",
      "train loss: 0.070\n",
      "val loss: 0.074\n",
      "epoch 3 \n",
      "Best val loss 0.073 Saving Model...\n",
      "train loss: 0.067\n",
      "val loss: 0.073\n",
      "epoch 4 \n",
      "Best val loss 0.072 Saving Model...\n",
      "train loss: 0.065\n",
      "val loss: 0.072\n",
      "epoch 5 \n",
      "Best val loss 0.070 Saving Model...\n",
      "train loss: 0.063\n",
      "val loss: 0.070\n",
      "epoch 6 \n",
      "Best val loss 0.069 Saving Model...\n",
      "train loss: 0.062\n",
      "val loss: 0.069\n",
      "epoch 7 \n",
      "Best val loss 0.069 Saving Model...\n",
      "train loss: 0.061\n",
      "val loss: 0.069\n",
      "epoch 8 \n",
      "Best val loss 0.068 Saving Model...\n",
      "train loss: 0.060\n",
      "val loss: 0.068\n",
      "epoch 9 \n",
      "Best val loss 0.068 Saving Model...\n",
      "train loss: 0.059\n",
      "val loss: 0.068\n",
      "epoch 10 \n",
      "Best val loss 0.067 Saving Model...\n",
      "train loss: 0.058\n",
      "val loss: 0.067\n",
      "epoch 11 \n",
      "Best val loss 0.067 Saving Model...\n",
      "train loss: 0.057\n",
      "val loss: 0.067\n",
      "epoch 12 \n",
      "Best val loss 0.066 Saving Model...\n",
      "train loss: 0.056\n",
      "val loss: 0.066\n",
      "epoch 13 \n",
      "Best val loss 0.066 Saving Model...\n",
      "train loss: 0.055\n",
      "val loss: 0.066\n",
      "epoch 14 \n",
      "train loss: 0.054\n",
      "val loss: 0.066\n",
      "epoch 15 \n",
      "Best val loss 0.065 Saving Model...\n",
      "train loss: 0.054\n",
      "val loss: 0.065\n",
      "epoch 16 \n",
      "Best val loss 0.065 Saving Model...\n",
      "train loss: 0.053\n",
      "val loss: 0.065\n",
      "epoch 17 \n",
      "Best val loss 0.065 Saving Model...\n",
      "train loss: 0.052\n",
      "val loss: 0.065\n",
      "epoch 18 \n",
      "Best val loss 0.064 Saving Model...\n",
      "train loss: 0.052\n",
      "val loss: 0.064\n",
      "epoch 19 \n",
      "Best val loss 0.064 Saving Model...\n",
      "train loss: 0.051\n",
      "val loss: 0.064\n",
      "epoch 20 \n",
      "Best val loss 0.064 Saving Model...\n",
      "train loss: 0.051\n",
      "val loss: 0.064\n",
      "epoch 21 \n",
      "Best val loss 0.063 Saving Model...\n",
      "train loss: 0.050\n",
      "val loss: 0.063\n",
      "epoch 22 \n",
      "Best val loss 0.063 Saving Model...\n",
      "train loss: 0.049\n",
      "val loss: 0.063\n",
      "epoch 23 \n",
      "Best val loss 0.063 Saving Model...\n",
      "train loss: 0.049\n",
      "val loss: 0.063\n",
      "epoch 24 \n",
      "Best val loss 0.063 Saving Model...\n",
      "train loss: 0.048\n",
      "val loss: 0.063\n",
      "epoch 25 \n",
      "Best val loss 0.062 Saving Model...\n",
      "train loss: 0.048\n",
      "val loss: 0.062\n",
      "epoch 26 \n",
      "Best val loss 0.062 Saving Model...\n",
      "train loss: 0.047\n",
      "val loss: 0.062\n",
      "epoch 27 \n",
      "Best val loss 0.062 Saving Model...\n",
      "train loss: 0.047\n",
      "val loss: 0.062\n",
      "epoch 28 \n",
      "Best val loss 0.062 Saving Model...\n",
      "train loss: 0.046\n",
      "val loss: 0.062\n",
      "epoch 29 \n",
      "Best val loss 0.062 Saving Model...\n",
      "train loss: 0.046\n",
      "val loss: 0.062\n",
      "epoch 30 \n",
      "Best val loss 0.062 Saving Model...\n",
      "train loss: 0.045\n",
      "val loss: 0.062\n",
      "epoch 31 \n",
      "Best val loss 0.061 Saving Model...\n",
      "train loss: 0.045\n",
      "val loss: 0.061\n",
      "epoch 32 \n",
      "train loss: 0.044\n",
      "val loss: 0.061\n",
      "epoch 33 \n",
      "Best val loss 0.061 Saving Model...\n",
      "train loss: 0.044\n",
      "val loss: 0.061\n",
      "epoch 34 \n",
      "Best val loss 0.061 Saving Model...\n",
      "train loss: 0.043\n",
      "val loss: 0.061\n",
      "epoch 35 \n",
      "train loss: 0.043\n",
      "val loss: 0.061\n",
      "epoch 36 \n",
      "Best val loss 0.061 Saving Model...\n",
      "train loss: 0.042\n",
      "val loss: 0.061\n",
      "epoch 37 \n",
      "train loss: 0.042\n",
      "val loss: 0.061\n",
      "epoch 38 \n",
      "Best val loss 0.061 Saving Model...\n",
      "train loss: 0.041\n",
      "val loss: 0.061\n",
      "epoch 39 \n",
      "train loss: 0.041\n",
      "val loss: 0.061\n",
      "epoch 40 \n",
      "train loss: 0.040\n",
      "val loss: 0.061\n",
      "epoch 41 \n",
      "Best val loss 0.060 Saving Model...\n",
      "train loss: 0.040\n",
      "val loss: 0.060\n",
      "epoch 42 \n",
      "train loss: 0.039\n",
      "val loss: 0.060\n",
      "epoch 43 \n",
      "train loss: 0.039\n",
      "val loss: 0.060\n",
      "epoch 44 \n",
      "Best val loss 0.060 Saving Model...\n",
      "train loss: 0.038\n",
      "val loss: 0.060\n",
      "epoch 45 \n",
      "Best val loss 0.060 Saving Model...\n",
      "train loss: 0.038\n",
      "val loss: 0.060\n",
      "epoch 46 \n",
      "train loss: 0.038\n",
      "val loss: 0.060\n",
      "epoch 47 \n",
      "Best val loss 0.060 Saving Model...\n",
      "train loss: 0.037\n",
      "val loss: 0.060\n",
      "epoch 48 \n",
      "train loss: 0.037\n",
      "val loss: 0.060\n",
      "epoch 49 \n",
      "Best val loss 0.060 Saving Model...\n",
      "train loss: 0.036\n",
      "val loss: 0.060\n",
      "epoch 50 \n",
      "Best val loss 0.059 Saving Model...\n",
      "train loss: 0.036\n",
      "val loss: 0.059\n",
      "epoch 51 \n",
      "train loss: 0.035\n",
      "val loss: 0.060\n",
      "epoch 52 \n",
      "train loss: 0.035\n",
      "val loss: 0.060\n",
      "epoch 53 \n",
      "train loss: 0.034\n",
      "val loss: 0.060\n",
      "epoch 54 \n",
      "train loss: 0.034\n",
      "val loss: 0.060\n",
      "epoch 55 \n"
     ]
    },
    {
     "name": "stdout",
     "output_type": "stream",
     "text": [
      "train loss: 0.034\n",
      "val loss: 0.060\n",
      "epoch 56 \n",
      "train loss: 0.033\n",
      "val loss: 0.060\n",
      "epoch 57 \n",
      "train loss: 0.033\n",
      "val loss: 0.059\n",
      "epoch 58 \n",
      "Best val loss 0.059 Saving Model...\n",
      "train loss: 0.033\n",
      "val loss: 0.059\n",
      "epoch 59 \n",
      "train loss: 0.032\n",
      "val loss: 0.059\n",
      "epoch 60 \n",
      "Best val loss 0.059 Saving Model...\n",
      "train loss: 0.032\n",
      "val loss: 0.059\n",
      "epoch 61 \n",
      "Best val loss 0.059 Saving Model...\n",
      "train loss: 0.031\n",
      "val loss: 0.059\n",
      "epoch 62 \n",
      "train loss: 0.031\n",
      "val loss: 0.059\n",
      "epoch 63 \n",
      "train loss: 0.031\n",
      "val loss: 0.060\n",
      "epoch 64 \n",
      "train loss: 0.030\n",
      "val loss: 0.059\n",
      "epoch 65 \n",
      "train loss: 0.030\n",
      "val loss: 0.059\n",
      "epoch 66 \n",
      "train loss: 0.029\n",
      "val loss: 0.060\n",
      "epoch 67 \n",
      "train loss: 0.029\n",
      "val loss: 0.059\n",
      "epoch 68 \n",
      "train loss: 0.029\n",
      "val loss: 0.059\n",
      "epoch 69 \n",
      "train loss: 0.028\n",
      "val loss: 0.059\n",
      "epoch 70 \n",
      "train loss: 0.028\n",
      "val loss: 0.059\n",
      "epoch 71 \n",
      "train loss: 0.028\n",
      "val loss: 0.059\n",
      "epoch 72 \n",
      "train loss: 0.027\n",
      "val loss: 0.059\n",
      "epoch 73 \n",
      "train loss: 0.027\n",
      "val loss: 0.060\n",
      "epoch 74 \n",
      "train loss: 0.027\n",
      "val loss: 0.059\n",
      "epoch 75 \n",
      "train loss: 0.026\n",
      "val loss: 0.059\n",
      "epoch 76 \n",
      "train loss: 0.026\n",
      "val loss: 0.059\n",
      "epoch 77 \n",
      "train loss: 0.026\n",
      "val loss: 0.060\n",
      "epoch 78 \n",
      "train loss: 0.025\n",
      "val loss: 0.060\n",
      "epoch 79 \n",
      "train loss: 0.025\n",
      "val loss: 0.060\n",
      "epoch 80 \n",
      "train loss: 0.025\n",
      "val loss: 0.059\n",
      "epoch 81 \n",
      "train loss: 0.024\n",
      "val loss: 0.060\n",
      "epoch 82 \n",
      "train loss: 0.024\n",
      "val loss: 0.060\n",
      "epoch 83 \n",
      "train loss: 0.024\n",
      "val loss: 0.060\n",
      "epoch 84 \n",
      "train loss: 0.023\n",
      "val loss: 0.059\n",
      "epoch 85 \n",
      "train loss: 0.023\n",
      "val loss: 0.060\n",
      "epoch 86 \n",
      "train loss: 0.023\n",
      "val loss: 0.060\n",
      "epoch 87 \n",
      "train loss: 0.022\n",
      "val loss: 0.060\n",
      "epoch 88 \n",
      "train loss: 0.022\n",
      "val loss: 0.060\n",
      "epoch 89 \n",
      "train loss: 0.022\n",
      "val loss: 0.060\n",
      "epoch 90 \n",
      "train loss: 0.021\n",
      "val loss: 0.059\n",
      "epoch 91 \n",
      "train loss: 0.021\n",
      "val loss: 0.060\n",
      "epoch 92 \n",
      "train loss: 0.021\n",
      "val loss: 0.060\n",
      "epoch 93 \n",
      "train loss: 0.021\n",
      "val loss: 0.060\n",
      "epoch 94 \n",
      "train loss: 0.020\n",
      "val loss: 0.060\n",
      "epoch 95 \n",
      "train loss: 0.020\n",
      "val loss: 0.060\n",
      "epoch 96 \n",
      "train loss: 0.020\n",
      "val loss: 0.060\n",
      "epoch 97 \n",
      "train loss: 0.019\n",
      "val loss: 0.060\n",
      "epoch 98 \n",
      "train loss: 0.019\n",
      "val loss: 0.060\n",
      "epoch 99 \n",
      "train loss: 0.019\n",
      "val loss: 0.060\n"
     ]
    }
   ],
   "source": [
    "dims = [1024,2048,4096]\n",
    "\n",
    "for dim in dims:\n",
    "    net = SiameseNet(dim)\n",
    "    net = net.float()\n",
    "    net.to(dev)\n",
    "    optimizer = optim.SGD(net.parameters(), lr=0.001, momentum=0.9)\n",
    "    cos = nn.CosineSimilarity(dim=1, eps=1e-6)\n",
    "    num_epochs = 100\n",
    "    verbose = True\n",
    "    model_save_path = \"./Models/best_siamese_%d.pth\"%(dim)\n",
    "    best_val_loss = np.Inf\n",
    "    \n",
    "    for epoch in range(0,num_epochs):\n",
    "        if verbose:\n",
    "                print('epoch %d '%(epoch))\n",
    "\n",
    "        train_loss = 0\n",
    "        net.train()\n",
    "        for batch_idx, (train_data,train_labels) in enumerate(train_dl):\n",
    "\n",
    "            #print(train_data.shape)\n",
    "            #Move to GPU\n",
    "            optimizer.zero_grad()\n",
    "            train_data = train_data.to(dev, non_blocking=True)\n",
    "            word = train_data[:,0,:]\n",
    "            same_word = train_data[:,1,:]\n",
    "            diff_word = train_data[:,2,:]\n",
    "\n",
    "            word_embedding = net(word)\n",
    "            same_word_embedding = net(same_word)\n",
    "            diff_word_embedding = net(diff_word)\n",
    "\n",
    "            loss = cos_hinge_loss(word_embedding,same_word_embedding,diff_word_embedding, cos)\n",
    "            loss.backward()\n",
    "            optimizer.step()\n",
    "            train_loss += loss.item()\n",
    "\n",
    "\n",
    "        net.eval()\n",
    "        with torch.no_grad():\n",
    "            val_loss = 0\n",
    "            for batch_idx, (val_data,val_labels) in enumerate(val_dl):\n",
    "\n",
    "                val_data = val_data.to(dev, non_blocking=True)\n",
    "                word = val_data[:,0,:]\n",
    "                same_word = val_data[:,1,:]\n",
    "                diff_word = val_data[:,2,:]\n",
    "\n",
    "                word_embedding = net(word)\n",
    "                same_word_embedding = net(same_word)\n",
    "                diff_word_embedding = net(diff_word)\n",
    "\n",
    "                val_loss += cos_hinge_loss(word_embedding,same_word_embedding,diff_word_embedding, cos)\n",
    "\n",
    "            if val_loss < best_val_loss:\n",
    "                best_val_loss = val_loss\n",
    "                print(\"Best val loss %.3f Saving Model...\"%(val_loss/len(val_dl)))\n",
    "                torch.save(net.state_dict(),model_save_path)\n",
    "\n",
    "\n",
    "        if verbose:\n",
    "            print(\"train loss: %.3f\"%(train_loss/len(train_dl)))\n",
    "            print(\"val loss: %.3f\"%(val_loss/len(val_dl)))\n",
    "    \n",
    "    \n",
    "    \n",
    "    \n",
    "    \n",
    "    "
   ]
  },
  {
   "cell_type": "code",
   "execution_count": 8,
   "metadata": {},
   "outputs": [
    {
     "data": {
      "text/plain": [
       "SiameseNet(\n",
       "  (conv1): Conv1d(40, 96, kernel_size=(10,), stride=(1,))\n",
       "  (pool): MaxPool1d(kernel_size=3, stride=3, padding=0, dilation=1, ceil_mode=False)\n",
       "  (conv2): Conv1d(96, 96, kernel_size=(8,), stride=(1,))\n",
       "  (fc1): Linear(in_features=672, out_features=1024, bias=True)\n",
       ")"
      ]
     },
     "execution_count": 8,
     "metadata": {},
     "output_type": "execute_result"
    }
   ],
   "source": [
    "net = SiameseNet()\n",
    "net = net.float()\n",
    "net.to(dev)"
   ]
  },
  {
   "cell_type": "code",
   "execution_count": 11,
   "metadata": {},
   "outputs": [],
   "source": [
    "optimizer = optim.SGD(net.parameters(), lr=0.001, momentum=0.9)"
   ]
  },
  {
   "cell_type": "code",
   "execution_count": 12,
   "metadata": {},
   "outputs": [],
   "source": [
    "cos = nn.CosineSimilarity(dim=1, eps=1e-6)\n",
    "num_epochs = 100\n",
    "verbose = True\n",
    "model_save_path = \"./Models/best_siamese.pth\"\n",
    "best_val_loss = np.Inf"
   ]
  },
  {
   "cell_type": "code",
   "execution_count": 14,
   "metadata": {
    "scrolled": true
   },
   "outputs": [
    {
     "name": "stdout",
     "output_type": "stream",
     "text": [
      "epoch 0 \n",
      "Best val loss 0.079 Saving Model...\n",
      "train loss: 0.097\n",
      "val loss: 0.079\n",
      "epoch 1 \n",
      "Best val loss 0.072 Saving Model...\n",
      "train loss: 0.073\n",
      "val loss: 0.072\n",
      "epoch 2 \n",
      "Best val loss 0.068 Saving Model...\n",
      "train loss: 0.067\n",
      "val loss: 0.068\n",
      "epoch 3 \n",
      "Best val loss 0.066 Saving Model...\n",
      "train loss: 0.064\n",
      "val loss: 0.066\n",
      "epoch 4 \n",
      "Best val loss 0.065 Saving Model...\n",
      "train loss: 0.061\n",
      "val loss: 0.065\n",
      "epoch 5 \n",
      "Best val loss 0.063 Saving Model...\n",
      "train loss: 0.059\n",
      "val loss: 0.063\n",
      "epoch 6 \n",
      "Best val loss 0.062 Saving Model...\n",
      "train loss: 0.058\n",
      "val loss: 0.062\n",
      "epoch 7 \n",
      "Best val loss 0.061 Saving Model...\n",
      "train loss: 0.056\n",
      "val loss: 0.061\n",
      "epoch 8 \n",
      "Best val loss 0.060 Saving Model...\n",
      "train loss: 0.055\n",
      "val loss: 0.060\n",
      "epoch 9 \n",
      "Best val loss 0.060 Saving Model...\n",
      "train loss: 0.054\n",
      "val loss: 0.060\n",
      "epoch 10 \n",
      "Best val loss 0.059 Saving Model...\n",
      "train loss: 0.053\n",
      "val loss: 0.059\n",
      "epoch 11 \n",
      "Best val loss 0.059 Saving Model...\n",
      "train loss: 0.052\n",
      "val loss: 0.059\n",
      "epoch 12 \n",
      "Best val loss 0.058 Saving Model...\n",
      "train loss: 0.051\n",
      "val loss: 0.058\n",
      "epoch 13 \n",
      "Best val loss 0.058 Saving Model...\n",
      "train loss: 0.050\n",
      "val loss: 0.058\n",
      "epoch 14 \n",
      "Best val loss 0.057 Saving Model...\n",
      "train loss: 0.049\n",
      "val loss: 0.057\n",
      "epoch 15 \n",
      "Best val loss 0.057 Saving Model...\n",
      "train loss: 0.048\n",
      "val loss: 0.057\n",
      "epoch 16 \n",
      "Best val loss 0.056 Saving Model...\n",
      "train loss: 0.047\n",
      "val loss: 0.056\n",
      "epoch 17 \n",
      "Best val loss 0.056 Saving Model...\n",
      "train loss: 0.047\n",
      "val loss: 0.056\n",
      "epoch 18 \n",
      "Best val loss 0.056 Saving Model...\n",
      "train loss: 0.046\n",
      "val loss: 0.056\n",
      "epoch 19 \n",
      "Best val loss 0.056 Saving Model...\n",
      "train loss: 0.045\n",
      "val loss: 0.056\n",
      "epoch 20 \n",
      "Best val loss 0.056 Saving Model...\n",
      "train loss: 0.045\n",
      "val loss: 0.056\n",
      "epoch 21 \n",
      "Best val loss 0.055 Saving Model...\n",
      "train loss: 0.044\n",
      "val loss: 0.055\n",
      "epoch 22 \n",
      "Best val loss 0.055 Saving Model...\n",
      "train loss: 0.043\n",
      "val loss: 0.055\n",
      "epoch 23 \n",
      "Best val loss 0.055 Saving Model...\n",
      "train loss: 0.043\n",
      "val loss: 0.055\n",
      "epoch 24 \n",
      "Best val loss 0.055 Saving Model...\n",
      "train loss: 0.042\n",
      "val loss: 0.055\n",
      "epoch 25 \n",
      "Best val loss 0.054 Saving Model...\n",
      "train loss: 0.042\n",
      "val loss: 0.054\n",
      "epoch 26 \n",
      "Best val loss 0.054 Saving Model...\n",
      "train loss: 0.041\n",
      "val loss: 0.054\n",
      "epoch 27 \n",
      "Best val loss 0.054 Saving Model...\n",
      "train loss: 0.040\n",
      "val loss: 0.054\n",
      "epoch 28 \n",
      "Best val loss 0.054 Saving Model...\n",
      "train loss: 0.040\n",
      "val loss: 0.054\n",
      "epoch 29 \n",
      "Best val loss 0.054 Saving Model...\n",
      "train loss: 0.039\n",
      "val loss: 0.054\n",
      "epoch 30 \n",
      "Best val loss 0.054 Saving Model...\n",
      "train loss: 0.039\n",
      "val loss: 0.054\n",
      "epoch 31 \n",
      "train loss: 0.038\n",
      "val loss: 0.054\n",
      "epoch 32 \n",
      "train loss: 0.038\n",
      "val loss: 0.054\n",
      "epoch 33 \n",
      "Best val loss 0.054 Saving Model...\n",
      "train loss: 0.037\n",
      "val loss: 0.054\n",
      "epoch 34 \n",
      "Best val loss 0.053 Saving Model...\n",
      "train loss: 0.037\n",
      "val loss: 0.053\n",
      "epoch 35 \n",
      "train loss: 0.036\n",
      "val loss: 0.053\n",
      "epoch 36 \n",
      "train loss: 0.036\n",
      "val loss: 0.053\n",
      "epoch 37 \n",
      "Best val loss 0.053 Saving Model...\n",
      "train loss: 0.035\n",
      "val loss: 0.053\n",
      "epoch 38 \n",
      "train loss: 0.035\n",
      "val loss: 0.053\n",
      "epoch 39 \n",
      "Best val loss 0.053 Saving Model...\n",
      "train loss: 0.034\n",
      "val loss: 0.053\n",
      "epoch 40 \n",
      "train loss: 0.034\n",
      "val loss: 0.053\n",
      "epoch 41 \n",
      "Best val loss 0.053 Saving Model...\n",
      "train loss: 0.033\n",
      "val loss: 0.053\n",
      "epoch 42 \n",
      "Best val loss 0.053 Saving Model...\n",
      "train loss: 0.033\n",
      "val loss: 0.053\n",
      "epoch 43 \n",
      "train loss: 0.032\n",
      "val loss: 0.053\n",
      "epoch 44 \n",
      "Best val loss 0.053 Saving Model...\n",
      "train loss: 0.032\n",
      "val loss: 0.053\n",
      "epoch 45 \n",
      "train loss: 0.031\n",
      "val loss: 0.053\n",
      "epoch 46 \n",
      "train loss: 0.031\n",
      "val loss: 0.053\n",
      "epoch 47 \n",
      "train loss: 0.030\n",
      "val loss: 0.053\n",
      "epoch 48 \n",
      "train loss: 0.030\n",
      "val loss: 0.053\n",
      "epoch 49 \n",
      "Best val loss 0.052 Saving Model...\n",
      "train loss: 0.030\n",
      "val loss: 0.052\n",
      "epoch 50 \n",
      "Best val loss 0.052 Saving Model...\n",
      "train loss: 0.029\n",
      "val loss: 0.052\n",
      "epoch 51 \n",
      "train loss: 0.029\n",
      "val loss: 0.053\n",
      "epoch 52 \n",
      "train loss: 0.028\n",
      "val loss: 0.053\n",
      "epoch 53 \n",
      "train loss: 0.028\n",
      "val loss: 0.053\n",
      "epoch 54 \n",
      "train loss: 0.027\n",
      "val loss: 0.052\n",
      "epoch 55 \n",
      "train loss: 0.027\n",
      "val loss: 0.053\n",
      "epoch 56 \n",
      "train loss: 0.027\n",
      "val loss: 0.052\n",
      "epoch 57 \n",
      "train loss: 0.026\n",
      "val loss: 0.052\n",
      "epoch 58 \n",
      "Best val loss 0.052 Saving Model...\n",
      "train loss: 0.026\n",
      "val loss: 0.052\n",
      "epoch 59 \n",
      "train loss: 0.025\n",
      "val loss: 0.053\n",
      "epoch 60 \n",
      "Best val loss 0.052 Saving Model...\n",
      "train loss: 0.025\n",
      "val loss: 0.052\n",
      "epoch 61 \n",
      "train loss: 0.025\n",
      "val loss: 0.053\n",
      "epoch 62 \n",
      "train loss: 0.024\n",
      "val loss: 0.052\n",
      "epoch 63 \n",
      "train loss: 0.024\n",
      "val loss: 0.053\n",
      "epoch 64 \n",
      "train loss: 0.023\n",
      "val loss: 0.053\n",
      "epoch 65 \n",
      "train loss: 0.023\n",
      "val loss: 0.052\n",
      "epoch 66 \n",
      "train loss: 0.023\n",
      "val loss: 0.052\n",
      "epoch 67 \n",
      "train loss: 0.022\n",
      "val loss: 0.052\n",
      "epoch 68 \n",
      "train loss: 0.022\n",
      "val loss: 0.053\n",
      "epoch 69 \n",
      "train loss: 0.022\n",
      "val loss: 0.053\n",
      "epoch 70 \n",
      "train loss: 0.021\n",
      "val loss: 0.052\n",
      "epoch 71 \n",
      "train loss: 0.021\n",
      "val loss: 0.053\n",
      "epoch 72 \n",
      "train loss: 0.021\n",
      "val loss: 0.052\n",
      "epoch 73 \n",
      "train loss: 0.020\n",
      "val loss: 0.052\n",
      "epoch 74 \n",
      "train loss: 0.020\n",
      "val loss: 0.053\n",
      "epoch 75 \n",
      "train loss: 0.020\n",
      "val loss: 0.053\n",
      "epoch 76 \n",
      "train loss: 0.019\n",
      "val loss: 0.053\n",
      "epoch 77 \n",
      "train loss: 0.019\n",
      "val loss: 0.053\n",
      "epoch 78 \n",
      "train loss: 0.019\n",
      "val loss: 0.053\n",
      "epoch 79 \n",
      "train loss: 0.018\n",
      "val loss: 0.053\n",
      "epoch 80 \n"
     ]
    },
    {
     "ename": "KeyboardInterrupt",
     "evalue": "",
     "output_type": "error",
     "traceback": [
      "\u001b[1;31m---------------------------------------------------------------------------\u001b[0m",
      "\u001b[1;31mKeyboardInterrupt\u001b[0m                         Traceback (most recent call last)",
      "\u001b[1;32m<ipython-input-14-e6a238453b2e>\u001b[0m in \u001b[0;36m<module>\u001b[1;34m\u001b[0m\n\u001b[0;32m      9\u001b[0m         \u001b[1;31m#print(train_data.shape)\u001b[0m\u001b[1;33m\u001b[0m\u001b[1;33m\u001b[0m\u001b[1;33m\u001b[0m\u001b[0m\n\u001b[0;32m     10\u001b[0m         \u001b[1;31m#Move to GPU\u001b[0m\u001b[1;33m\u001b[0m\u001b[1;33m\u001b[0m\u001b[1;33m\u001b[0m\u001b[0m\n\u001b[1;32m---> 11\u001b[1;33m         \u001b[0moptimizer\u001b[0m\u001b[1;33m.\u001b[0m\u001b[0mzero_grad\u001b[0m\u001b[1;33m(\u001b[0m\u001b[1;33m)\u001b[0m\u001b[1;33m\u001b[0m\u001b[1;33m\u001b[0m\u001b[0m\n\u001b[0m\u001b[0;32m     12\u001b[0m         \u001b[0mtrain_data\u001b[0m \u001b[1;33m=\u001b[0m \u001b[0mtrain_data\u001b[0m\u001b[1;33m.\u001b[0m\u001b[0mto\u001b[0m\u001b[1;33m(\u001b[0m\u001b[0mdev\u001b[0m\u001b[1;33m,\u001b[0m \u001b[0mnon_blocking\u001b[0m\u001b[1;33m=\u001b[0m\u001b[1;32mTrue\u001b[0m\u001b[1;33m)\u001b[0m\u001b[1;33m\u001b[0m\u001b[1;33m\u001b[0m\u001b[0m\n\u001b[0;32m     13\u001b[0m         \u001b[0mword\u001b[0m \u001b[1;33m=\u001b[0m \u001b[0mtrain_data\u001b[0m\u001b[1;33m[\u001b[0m\u001b[1;33m:\u001b[0m\u001b[1;33m,\u001b[0m\u001b[1;36m0\u001b[0m\u001b[1;33m,\u001b[0m\u001b[1;33m:\u001b[0m\u001b[1;33m]\u001b[0m\u001b[1;33m\u001b[0m\u001b[1;33m\u001b[0m\u001b[0m\n",
      "\u001b[1;32m~\\Anaconda3\\envs\\lsv\\lib\\site-packages\\torch\\optim\\optimizer.py\u001b[0m in \u001b[0;36mzero_grad\u001b[1;34m(self)\u001b[0m\n\u001b[0;32m    163\u001b[0m                 \u001b[1;32mif\u001b[0m \u001b[0mp\u001b[0m\u001b[1;33m.\u001b[0m\u001b[0mgrad\u001b[0m \u001b[1;32mis\u001b[0m \u001b[1;32mnot\u001b[0m \u001b[1;32mNone\u001b[0m\u001b[1;33m:\u001b[0m\u001b[1;33m\u001b[0m\u001b[1;33m\u001b[0m\u001b[0m\n\u001b[0;32m    164\u001b[0m                     \u001b[0mp\u001b[0m\u001b[1;33m.\u001b[0m\u001b[0mgrad\u001b[0m\u001b[1;33m.\u001b[0m\u001b[0mdetach_\u001b[0m\u001b[1;33m(\u001b[0m\u001b[1;33m)\u001b[0m\u001b[1;33m\u001b[0m\u001b[1;33m\u001b[0m\u001b[0m\n\u001b[1;32m--> 165\u001b[1;33m                     \u001b[0mp\u001b[0m\u001b[1;33m.\u001b[0m\u001b[0mgrad\u001b[0m\u001b[1;33m.\u001b[0m\u001b[0mzero_\u001b[0m\u001b[1;33m(\u001b[0m\u001b[1;33m)\u001b[0m\u001b[1;33m\u001b[0m\u001b[1;33m\u001b[0m\u001b[0m\n\u001b[0m\u001b[0;32m    166\u001b[0m \u001b[1;33m\u001b[0m\u001b[0m\n\u001b[0;32m    167\u001b[0m     \u001b[1;32mdef\u001b[0m \u001b[0mstep\u001b[0m\u001b[1;33m(\u001b[0m\u001b[0mself\u001b[0m\u001b[1;33m,\u001b[0m \u001b[0mclosure\u001b[0m\u001b[1;33m)\u001b[0m\u001b[1;33m:\u001b[0m\u001b[1;33m\u001b[0m\u001b[1;33m\u001b[0m\u001b[0m\n",
      "\u001b[1;31mKeyboardInterrupt\u001b[0m: "
     ]
    }
   ],
   "source": [
    "\n",
    "\n",
    "for epoch in range(0,num_epochs):\n",
    "    if verbose:\n",
    "            print('epoch %d '%(epoch))\n",
    "\n",
    "    train_loss = 0\n",
    "    net.train()\n",
    "    for batch_idx, (train_data,train_labels) in enumerate(train_dl):\n",
    "\n",
    "        #print(train_data.shape)\n",
    "        #Move to GPU\n",
    "        optimizer.zero_grad()\n",
    "        train_data = train_data.to(dev, non_blocking=True)\n",
    "        word = train_data[:,0,:]\n",
    "        same_word = train_data[:,1,:]\n",
    "        diff_word = train_data[:,2,:]\n",
    "\n",
    "        word_embedding = net(word)\n",
    "        same_word_embedding = net(same_word)\n",
    "        diff_word_embedding = net(diff_word)\n",
    "\n",
    "        loss = cos_hinge_loss(word_embedding,same_word_embedding,diff_word_embedding, cos)\n",
    "        loss.backward()\n",
    "        optimizer.step()\n",
    "        train_loss += loss.item()\n",
    "        \n",
    "        \n",
    "    net.eval()\n",
    "    with torch.no_grad():\n",
    "        val_loss = 0\n",
    "        for batch_idx, (val_data,val_labels) in enumerate(val_dl):\n",
    "\n",
    "            val_data = val_data.to(dev, non_blocking=True)\n",
    "            word = val_data[:,0,:]\n",
    "            same_word = val_data[:,1,:]\n",
    "            diff_word = val_data[:,2,:]\n",
    "\n",
    "            word_embedding = net(word)\n",
    "            same_word_embedding = net(same_word)\n",
    "            diff_word_embedding = net(diff_word)\n",
    "\n",
    "            val_loss += cos_hinge_loss(word_embedding,same_word_embedding,diff_word_embedding, cos)\n",
    "        \n",
    "        if val_loss < best_val_loss:\n",
    "            best_val_loss = val_loss\n",
    "            print(\"Best val loss %.3f Saving Model...\"%(val_loss/len(val_dl)))\n",
    "            torch.save(net.state_dict(),model_save_path)\n",
    "        \n",
    "        \n",
    "    if verbose:\n",
    "        print(\"train loss: %.3f\"%(train_loss/len(train_dl)))\n",
    "        print(\"val loss: %.3f\"%(val_loss/len(val_dl)))\n",
    "    \n",
    "    #show_cuda_memory()\n",
    "    "
   ]
  },
  {
   "cell_type": "code",
   "execution_count": 15,
   "metadata": {},
   "outputs": [
    {
     "name": "stdout",
     "output_type": "stream",
     "text": [
      "Dimension in 128\n",
      "Test Loss is 0.057\n",
      "The number of positive examples 72820 and negative examples 47863916\n",
      "Average Precision is 0.129469\n",
      "Dimension in 256\n",
      "Test Loss is 0.055\n",
      "The number of positive examples 73072 and negative examples 47863664\n",
      "Average Precision is 0.140832\n",
      "Dimension in 512\n",
      "Test Loss is 0.052\n",
      "The number of positive examples 73257 and negative examples 47863479\n",
      "Average Precision is 0.144119\n"
     ]
    }
   ],
   "source": [
    "dims = [128,256,512]\n",
    "\n",
    "for dim in dims:\n",
    "    print(\"Dimension in %d\"%(dim))\n",
    "    net = SiameseNet(dim)\n",
    "    net = net.float()\n",
    "    net.to(dev)\n",
    "    model_save_path = \"./Models/best_siamese_%d.pth\"%(dim)\n",
    "    net.load_state_dict(torch.load(model_save_path))\n",
    "    test_siamese(net,test_dl, dev)\n",
    "    evaluate_model(net,test_dl,dev)\n",
    "    "
   ]
  },
  {
   "cell_type": "code",
   "execution_count": 17,
   "metadata": {},
   "outputs": [
    {
     "name": "stdout",
     "output_type": "stream",
     "text": [
      "Dimension in 1024\n",
      "Test Loss is 0.053\n",
      "The number of positive examples 73500 and negative examples 47863236\n",
      "Average Precision is 0.140264\n",
      "Dimension in 2048\n",
      "Test Loss is 0.054\n",
      "The number of positive examples 73228 and negative examples 47863508\n",
      "Average Precision is 0.139699\n",
      "Dimension in 4096\n",
      "Test Loss is 0.057\n",
      "The number of positive examples 73283 and negative examples 47863453\n",
      "Average Precision is 0.134162\n"
     ]
    }
   ],
   "source": [
    "dims = [1024,2048,4096]\n",
    "\n",
    "for dim in dims:\n",
    "    print(\"Dimension in %d\"%(dim))\n",
    "    net = SiameseNet(dim)\n",
    "    net = net.float()\n",
    "    net.to(dev)\n",
    "    model_save_path = \"./Models/best_siamese_%d.pth\"%(dim)\n",
    "    net.load_state_dict(torch.load(model_save_path))\n",
    "    test_siamese(net,test_dl, dev)\n",
    "    evaluate_model(net,test_dl,dev)\n",
    "    "
   ]
  },
  {
   "cell_type": "code",
   "execution_count": null,
   "metadata": {},
   "outputs": [],
   "source": [
    "print(\"bla\")"
   ]
  },
  {
   "cell_type": "code",
   "execution_count": 29,
   "metadata": {},
   "outputs": [],
   "source": [
    "del train_dl,train_sm_dataset,val_dl,val_sm_dataset"
   ]
  },
  {
   "cell_type": "code",
   "execution_count": 13,
   "metadata": {},
   "outputs": [
    {
     "data": {
      "text/plain": [
       "<All keys matched successfully>"
      ]
     },
     "execution_count": 13,
     "metadata": {},
     "output_type": "execute_result"
    }
   ],
   "source": [
    "#Load the best model\n",
    "net.load_state_dict(torch.load(model_save_path))"
   ]
  },
  {
   "cell_type": "code",
   "execution_count": 12,
   "metadata": {},
   "outputs": [],
   "source": [
    "def test_siamese(net,test_dl, dev):\n",
    "    test_loss = 0\n",
    "    net.eval()\n",
    "    with torch.no_grad():\n",
    "        for i,(test_data,test_labels) in enumerate(test_dl):\n",
    "\n",
    "            #print(i)\n",
    "\n",
    "            #show_cuda_memory()\n",
    "            #if dev.type == 'cuda' and not test_data.is_cuda:\n",
    "            #    test_data = test_data.to(dev, non_blocking=True)\n",
    "\n",
    "            word = test_data[:,0,:].to(dev)\n",
    "            same_word = test_data[:,1,:].to(dev)\n",
    "            diff_word = test_data[:,2,:].to(dev)\n",
    "\n",
    "            word_embedding = net(word)\n",
    "            same_word_embedding = net(same_word)\n",
    "            diff_word_embedding = net(diff_word)\n",
    "\n",
    "            test_data.to('cpu')\n",
    "\n",
    "            test_loss += cos_hinge_loss(word_embedding,same_word_embedding,diff_word_embedding, cos)\n",
    "            #show_cuda_memory()\n",
    "        print(\"Test Loss is %.3f\"%(test_loss/len(test_dl)))\n",
    "\n",
    "    \n",
    "    "
   ]
  },
  {
   "cell_type": "code",
   "execution_count": 19,
   "metadata": {},
   "outputs": [
    {
     "name": "stdout",
     "output_type": "stream",
     "text": [
      "Test Loss is 0.052\n"
     ]
    }
   ],
   "source": [
    "test_siamese(net,test_dl, dev)"
   ]
  },
  {
   "cell_type": "code",
   "execution_count": 13,
   "metadata": {},
   "outputs": [],
   "source": [
    "def evaluate_siamese_model(net,test_dl, dev):\n",
    "    \n",
    "    embeddings = None\n",
    "    labels = None\n",
    "    \n",
    "    with torch.no_grad():\n",
    "        for i, (test_data,test_labels) in enumerate(test_dl):\n",
    "            #If device is GPU move features to GPU\n",
    "            if dev.type == 'cuda' and not test_data.is_cuda:\n",
    "                test_data = test_data.to(dev, non_blocking=True)\n",
    "\n",
    "            word = test_data[:,0,:]\n",
    "            same_word = test_data[:,1,:]\n",
    "            diff_word = test_data[:,2,:]\n",
    "\n",
    "            word_embedding = net(word).cpu().detach().numpy()\n",
    "            same_word_embedding = net(same_word).cpu().detach().numpy()\n",
    "            diff_word_embedding = net(diff_word).cpu().detach().numpy()\n",
    "\n",
    "            word_labels = test_labels[:,0]\n",
    "            same_word_labels = test_labels[:,0]\n",
    "            diff_word_labels = test_labels[:,1]\n",
    "\n",
    "            #Add to the main embeddings\n",
    "            if embeddings is not None:\n",
    "                embeddings = np.vstack((embeddings,word_embedding,same_word_embedding,diff_word_embedding))\n",
    "                labels = np.concatenate((labels,word_labels,same_word_labels,diff_word_labels),axis=0)\n",
    "            else:\n",
    "                embeddings = np.vstack((word_embedding,same_word_embedding,diff_word_embedding))\n",
    "                labels = np.concatenate((word_labels,same_word_labels,diff_word_labels),axis=0)\n",
    "            \n",
    "            if i==50:\n",
    "                break\n",
    "\n",
    "\n",
    "    \n",
    "    #Calculate pairwise cosine distance\n",
    "    distances = pairwise_distances(embeddings, metric='cosine')\n",
    "    #Calculate pairwise cosine similarity\n",
    "    similarity = pairwise_kernels(embeddings, metric = 'cosine')\n",
    "    \n",
    "    \n",
    "    \n",
    "    #Create labels of whether the words are same or not\n",
    "    if torch.is_tensor(labels):\n",
    "        labels = labels.detach().numpy()\n",
    "        \n",
    "    eval_labels = (labels[:,None]==labels).astype(float)\n",
    "    \n",
    "    \n",
    "    \n",
    "    #Remove the diagonal elements (word pairs with themselves)\n",
    "    mask = np.array(np.tril(np.ones((similarity.shape[0],similarity.shape[0]), dtype= int),-1),dtype = bool)\n",
    "    similarity = similarity[mask]\n",
    "    distances = distances[mask]\n",
    "    eval_labels = eval_labels[mask]\n",
    "        \n",
    "    #flatten the pairwise arrays\n",
    "    distances = np.ravel(distances)\n",
    "    similarity = np.ravel(similarity)\n",
    "    #Flatten the labels\n",
    "    eval_labels = np.ravel(eval_labels)\n",
    "    \n",
    "    num_positive = sum(eval_labels==1)\n",
    "    num_negative = eval_labels.shape[0]-num_positive\n",
    "    print('The number of positive examples %d and negative examples %d'%(num_positive,num_negative))\n",
    "    #Calculate the Average Precision\n",
    "    avg_p = average_precision_score(eval_labels,similarity)\n",
    "    #avg_p = average_precision_score(eval_labels,2-distances)\n",
    "    #avg_p = average_precision_score(eval_labels,2-distances)\n",
    "    print('Average Precision is %f'%(avg_p))\n",
    "    return avg_p"
   ]
  },
  {
   "cell_type": "code",
   "execution_count": 17,
   "metadata": {},
   "outputs": [
    {
     "name": "stdout",
     "output_type": "stream",
     "text": [
      "The number of positive examples 72941 and negative examples 47863795\n",
      "Average Precision is 0.138004\n"
     ]
    },
    {
     "data": {
      "text/plain": [
       "0.1380038415935497"
      ]
     },
     "execution_count": 17,
     "metadata": {},
     "output_type": "execute_result"
    }
   ],
   "source": [
    "evaluate_siamese_model(net,test_dl,dev)"
   ]
  },
  {
   "cell_type": "markdown",
   "metadata": {},
   "source": [
    "End Of Training Cells"
   ]
  },
  {
   "cell_type": "code",
   "execution_count": 15,
   "metadata": {},
   "outputs": [
    {
     "name": "stderr",
     "output_type": "stream",
     "text": [
      "Using TensorFlow backend.\n"
     ]
    }
   ],
   "source": [
    "from sfba4.utils import alignSequences\n",
    "from itertools import product\n",
    "from big_phoney import BigPhoney"
   ]
  },
  {
   "cell_type": "code",
   "execution_count": 20,
   "metadata": {},
   "outputs": [],
   "source": [
    "phoney = BigPhoney()"
   ]
  },
  {
   "cell_type": "code",
   "execution_count": 16,
   "metadata": {},
   "outputs": [],
   "source": [
    "words = set([num_to_word[labels[i].item()] for i in range(labels.shape[0])])\n",
    "train_words = set([num_to_word[y_train[i].item()] for i in range(y_train.shape[0])])\n",
    "val_words = set([num_to_word[y_val[i].item()] for i in range(y_val.shape[0])])\n",
    "test_words = set([num_to_word[y_test[i].item()] for i in range(y_test.shape[0])])"
   ]
  },
  {
   "cell_type": "code",
   "execution_count": 17,
   "metadata": {},
   "outputs": [
    {
     "name": "stdout",
     "output_type": "stream",
     "text": [
      "3948\n"
     ]
    }
   ],
   "source": [
    "print(len(test_words))"
   ]
  },
  {
   "cell_type": "code",
   "execution_count": 18,
   "metadata": {},
   "outputs": [],
   "source": [
    "word_pairs = list(product(list(words),list(words)))"
   ]
  },
  {
   "cell_type": "code",
   "execution_count": 19,
   "metadata": {},
   "outputs": [
    {
     "name": "stdout",
     "output_type": "stream",
     "text": [
      "67881121\n"
     ]
    }
   ],
   "source": [
    "print(len(word_pairs))"
   ]
  },
  {
   "cell_type": "code",
   "execution_count": 20,
   "metadata": {},
   "outputs": [],
   "source": [
    "word_pairs = [tuple(sorted(word_pair)) for word_pair in word_pairs if word_pair[0]!=word_pair[1]]"
   ]
  },
  {
   "cell_type": "code",
   "execution_count": 21,
   "metadata": {},
   "outputs": [
    {
     "name": "stdout",
     "output_type": "stream",
     "text": [
      "33936441\n"
     ]
    }
   ],
   "source": [
    "word_pairs = set(word_pairs)\n",
    "print(len(word_pairs))"
   ]
  },
  {
   "cell_type": "code",
   "execution_count": 22,
   "metadata": {},
   "outputs": [
    {
     "name": "stdout",
     "output_type": "stream",
     "text": [
      "33936441\n"
     ]
    }
   ],
   "source": [
    "print(len(word_pairs))"
   ]
  },
  {
   "cell_type": "code",
   "execution_count": 57,
   "metadata": {},
   "outputs": [
    {
     "name": "stdout",
     "output_type": "stream",
     "text": [
      "33936441\n"
     ]
    }
   ],
   "source": [
    "print(len(word_pairs))"
   ]
  },
  {
   "cell_type": "code",
   "execution_count": null,
   "metadata": {
    "scrolled": true
   },
   "outputs": [],
   "source": [
    "homophone_pairs = []\n",
    "for word_pair in word_pairs:\n",
    "    #Phonemize the words and align them\n",
    "    aligned_seq1, aligned_seq2, eDistance = alignSequences.align(phoney.phonize(word_pair[0]), phoney.phonize(word_pair[1]))\n",
    "    if eDistance == 0:\n",
    "        homophone_pairs.append(word_pair)\n",
    "print(len(homophone_pairs))   "
   ]
  },
  {
   "cell_type": "code",
   "execution_count": null,
   "metadata": {},
   "outputs": [],
   "source": [
    "print(len(homophone_pairs))"
   ]
  },
  {
   "cell_type": "code",
   "execution_count": 30,
   "metadata": {},
   "outputs": [],
   "source": [
    "aligned_seq1, aligned_seq2, eDistance = alignSequences.align(word1[0], word2[0])"
   ]
  },
  {
   "cell_type": "code",
   "execution_count": 32,
   "metadata": {},
   "outputs": [
    {
     "name": "stdout",
     "output_type": "stream",
     "text": [
      "diary diary 0\n"
     ]
    }
   ],
   "source": [
    "print(aligned_seq1,aligned_seq2,eDistance)"
   ]
  },
  {
   "cell_type": "code",
   "execution_count": 23,
   "metadata": {},
   "outputs": [],
   "source": [
    "words_df = pd.DataFrame({\"word1\": list(word1), \"word2\": list(word2)})"
   ]
  },
  {
   "cell_type": "code",
   "execution_count": 24,
   "metadata": {},
   "outputs": [],
   "source": [
    "words_df.to_csv('words.txt', index = False, header = False)\n",
    "#words_df.to_csv('words1.txt', index = False, header = False)"
   ]
  },
  {
   "cell_type": "code",
   "execution_count": 22,
   "metadata": {},
   "outputs": [],
   "source": [
    "from sfba4.utils import *\n",
    "import sys"
   ]
  },
  {
   "cell_type": "code",
   "execution_count": 27,
   "metadata": {},
   "outputs": [
    {
     "name": "stderr",
     "output_type": "stream",
     "text": [
      "python: can't open file 'phonemicExpansion': [Errno 2] No such file or directory\n"
     ]
    }
   ],
   "source": [
    "! python phonemicExpansion -iFile words1.txt -wid 0 -oFile result.txt -cid 0 -compIndexPhonemes 1 -d \",\""
   ]
  },
  {
   "cell_type": "code",
   "execution_count": 19,
   "metadata": {},
   "outputs": [],
   "source": [
    "homophone_list = [(\"air\",\"heir\"),(\"aisle\",\"isle\")]"
   ]
  },
  {
   "cell_type": "code",
   "execution_count": 20,
   "metadata": {},
   "outputs": [],
   "source": [
    "homophone_list = []\n",
    "with open('homophone_list.txt') as fp:\n",
    "    lines = fp.readlines()\n",
    "    for line in lines:\n",
    "        words = line.strip(\" \\n\").split(\",\")\n",
    "        words = [word.strip(\" \") for word in words]\n",
    "        homophone_list.append((words[0],words[1]))\n",
    "        "
   ]
  },
  {
   "cell_type": "code",
   "execution_count": 21,
   "metadata": {},
   "outputs": [
    {
     "name": "stdout",
     "output_type": "stream",
     "text": [
      "[('accessary', 'accessory'), ('ad', 'add'), ('ail', 'ale'), ('air', 'heir'), ('aisle', \"I'll\"), ('all', 'awl'), ('allowed', 'aloud'), ('alms', 'arms'), ('altar', 'alter'), ('arc', 'ark'), (\"aren't\", 'aunt'), ('ate', 'eight'), ('auger', 'augur'), ('auk', 'orc'), ('aural', 'oral'), ('away', 'aweigh'), ('awe', 'oar'), ('axel', 'axle'), ('aye', 'eye'), ('bail', 'bale'), ('bait', 'bate'), ('baize', 'bays'), ('bald', 'bawled'), ('ball', 'bawl'), ('band', 'banned'), ('bard', 'barred'), ('bare', 'bear'), ('bark', 'barque'), ('baron', 'barren'), ('base', 'bass'), ('bay', 'bey'), ('bazaar', 'bizarre'), ('be', 'bee'), ('beach', 'beech'), ('bean', 'been'), ('beat', 'beet'), ('beau', 'bow'), ('beer', 'bier'), ('bel', 'bell'), ('berry', 'bury'), ('berth', 'birth'), ('bight', 'bite'), ('billed', 'build'), ('bitten', 'bittern'), ('blew', 'blue'), ('bloc', 'block'), ('boar', 'bore'), ('board', 'bored'), ('boarder', 'border'), ('bold', 'bowled'), ('boos', 'booze'), ('born', 'borne'), ('bough', 'bow'), ('boy', 'buoy'), ('brae', 'bray'), ('braid', 'brayed'), ('braise', 'brays'), ('brake', 'break'), ('bread', 'bred'), ('brews', 'bruise'), ('bridal', 'bridle'), ('broach', 'brooch'), ('bur', 'burr'), ('but', 'butt'), ('buy', 'by'), ('buyer', 'byre'), ('calendar', 'calender'), ('call', 'caul'), ('canvas', 'canvass'), ('cast', 'caste'), ('caster', 'castor'), ('caught', 'court'), ('caw', 'core'), ('cede', 'seed'), ('ceiling', 'sealing'), ('cell', 'sell'), ('censer', 'censor'), ('cent', 'scent'), ('cereal', 'serial'), ('cheap', 'cheep'), ('check', 'cheque'), ('choir', 'quire'), ('chord', 'cord'), ('cite', 'sight'), ('clack', 'claque'), ('clew', 'clue'), ('climb', 'clime'), ('close', 'cloze'), ('coal', 'kohl'), ('coarse', 'course'), ('coign', 'coin'), ('colonel', 'kernel'), ('complacent', 'complaisant'), ('complement', 'compliment'), ('coo', 'coup'), ('cops', 'copse'), ('council', 'counsel'), ('cousin', 'cozen'), ('creak', 'creek'), ('crews', 'cruise'), ('cue', 'kyu'), ('curb', 'kerb'), ('currant', 'current'), ('cymbol', 'symbol'), ('dam', 'damn'), ('days', 'daze'), ('dear', 'deer'), ('descent', 'dissent'), ('desert', 'dessert'), ('deviser', 'divisor'), ('dew', 'due'), ('die', 'dye'), ('discreet', 'discrete'), ('doe', 'doh'), ('done', 'dun'), ('douse', 'dowse'), ('draft', 'draught'), ('dual', 'duel'), ('earn', 'urn'), ('eery', 'eyrie'), ('ewe', 'yew'), ('faint', 'feint'), ('fah', 'far'), ('fair', 'fare'), ('farther', 'father'), ('fate', 'fête'), ('faun', 'fawn'), ('fay', 'fey'), ('faze', 'phase'), ('feat', 'feet'), ('ferrule', 'ferule'), ('few', 'phew'), ('fie', 'phi'), ('file', 'phial'), ('find', 'fined'), ('fir', 'fur'), ('fizz', 'phiz'), ('flair', 'flare'), ('flaw', 'floor'), ('flea', 'flee'), ('flex', 'flecks'), ('flew', 'flu'), ('floe', 'flow'), ('flour', 'flower'), ('foaled', 'fold'), ('for', 'fore'), ('foreword', 'forward'), ('fort', 'fought'), ('forth', 'fourth'), ('foul', 'fowl'), ('franc', 'frank'), ('freeze', 'frieze'), ('friar', 'fryer'), ('furs', 'furze'), ('gait', 'gate'), ('galipot', 'gallipot'), ('gallop', 'galop'), ('gamble', 'gambol'), ('gays', 'gaze'), ('genes', 'jeans'), ('gild', 'guild'), ('gilt', 'guilt'), ('giro', 'gyro'), ('gnaw', 'nor'), ('gneiss', 'nice'), ('gorilla', 'guerilla'), ('grate', 'great'), ('greave', 'grieve'), ('greys', 'graze'), ('grisly', 'grizzly'), ('groan', 'grown'), ('guessed', 'guest'), ('hail', 'hale'), ('hair', 'hare'), ('hall', 'haul'), ('hangar', 'hanger'), ('hart', 'heart'), ('haw', 'hoar'), ('hay', 'hey'), ('heal', 'heel'), ('hear', 'here'), ('heard', 'herd'), (\"he'd\", 'heed'), ('heroin', 'heroine'), ('hew', 'hue'), ('hi', 'high'), ('higher', 'hire'), ('him', 'hymn'), ('ho', 'hoe'), ('hoard', 'horde'), ('hoarse', 'horse'), ('holey', 'holy'), ('hour', 'our'), ('idle', 'idol'), ('in', 'inn'), ('indict', 'indite'), (\"it's\", 'its'), ('jewel', 'joule'), ('key', 'quay'), ('knave', 'nave'), ('knead', 'need'), ('knew', 'new'), ('knight', 'night'), ('knit', 'nit'), ('knob', 'nob'), ('knock', 'nock'), ('knot', 'not'), ('know', 'no'), ('knows', 'nose'), ('laager', 'lager'), ('lac', 'lack'), ('lade', 'laid'), ('lain', 'lane'), ('lam', 'lamb'), ('laps', 'lapse'), ('larva', 'lava'), ('lase', 'laze'), ('law', 'lore'), ('lay', 'ley'), ('lea', 'lee'), ('leach', 'leech'), ('lead', 'led'), ('leak', 'leek'), ('lean', 'lien'), ('lessen', 'lesson'), ('levee', 'levy'), ('liar', 'lyre'), ('licence', 'license'), ('licker', 'liquor'), ('lie', 'lye'), ('lieu', 'loo'), ('links', 'lynx'), ('lo', 'low'), ('load', 'lode'), ('loan', 'lone'), ('locks', 'lox'), ('loop', 'loupe'), ('loot', 'lute'), ('made', 'maid'), ('mail', 'male'), ('main', 'mane'), ('maize', 'maze'), ('mall', 'maul'), ('manna', 'manner'), ('mantel', 'mantle'), ('mare', 'mayor'), ('mark', 'marque'), ('marshal', 'martial'), ('marten', 'martin'), ('mask', 'masque'), ('maw', 'more'), ('me', 'mi'), ('mean', 'mien'), ('meat', 'meet'), ('medal', 'meddle'), ('metal', 'mettle'), ('meter', 'metre'), ('might', 'mite'), ('miner', 'minor'), ('mind', 'mined'), ('missed', 'mist'), ('moat', 'mote'), ('mode', 'mowed'), ('moor', 'more'), ('moose', 'mousse'), ('morning', 'mourning'), ('muscle', 'mussel'), ('naval', 'navel'), ('nay', 'neigh'), ('nigh', 'nye'), ('none', 'nun'), ('od', 'odd'), ('ode', 'owed'), ('oh', 'owe'), ('one', 'won'), ('packed', 'pact'), ('packs', 'pax'), ('pail', 'pale'), ('pain', 'pane'), ('pair', 'pare'), ('palate', 'palette'), ('pascal', 'paschal'), ('paten', 'patten'), ('pause', 'paws'), ('pawn', 'porn'), ('pea', 'pee'), ('peace', 'piece'), ('peak', 'peek'), ('peal', 'peel'), ('pearl', 'purl'), ('pedal', 'peddle'), ('peer', 'pier'), ('pi', 'pie'), ('pica', 'pika'), ('place', 'plaice'), ('plain', 'plane'), ('pleas', 'please'), ('plum', 'plumb'), ('pole', 'poll'), ('poof', 'pouffe'), ('practice', 'practise'), ('praise', 'prays'), ('principal', 'principle'), ('profit', 'prophet'), ('quarts', 'quartz'), ('quean', 'queen'), ('rain', 'reign'), ('raise', 'rays'), ('rap', 'wrap'), ('raw', 'roar'), ('read', 'reed'), ('read', 'red'), ('real', 'reel'), ('reek', 'wreak'), ('rest', 'wrest'), ('retch', 'wretch'), ('review', 'revue'), ('rheum', 'room'), ('right', 'rite'), ('ring', 'wring'), ('road', 'rode'), ('roe', 'row'), ('role', 'roll'), ('roo', 'roux'), ('rood', 'rude'), ('root', 'route'), ('rose', 'rows'), ('rota', 'rotor'), ('rote', 'wrote'), ('rough', 'ruff'), ('rouse', 'rows'), ('rung', 'wrung'), ('rye', 'wry'), ('saver', 'savour'), ('spade', 'spayed'), ('sale', 'sail'), ('sane', 'seine'), ('satire', 'satyr'), ('sauce', 'source'), ('saw', 'soar'), ('scene', 'seen'), ('scull', 'skull'), ('sea', 'see'), ('seam', 'seem'), ('sear', 'seer'), ('seas', 'sees'), ('sew', 'so'), ('shake', 'sheikh'), ('shear', 'sheer'), ('shoe', 'shoo'), ('sic', 'sick'), ('side', 'sighed'), ('sign', 'sine'), ('sink', 'synch'), ('slay', 'sleigh'), ('sloe', 'slow'), ('sole', 'soul'), ('some', 'sum'), ('son', 'sun'), ('sort', 'sought'), ('spa', 'spar'), ('staid', 'stayed'), ('stair', 'stare'), ('stake', 'steak'), ('stalk', 'stork'), ('stationary', 'stationery'), ('steal', 'steel'), ('stile', 'style'), ('storey', 'story'), ('straight', 'strait'), ('sweet', 'suite'), ('swat', 'swot'), ('tacks', 'tax'), ('tale', 'tail'), ('talk', 'torque'), ('tare', 'tear'), ('taught', 'taut'), ('te', 'tea'), ('team', 'teem'), ('tear', 'tier'), ('teas', 'tease'), ('terce', 'terse'), ('tern', 'turn'), ('there', 'their'), ('threw', 'through'), ('throes', 'throws'), ('throne', 'thrown'), ('thyme', 'time'), ('tic', 'tick'), ('tide', 'tied'), ('tire', 'tyre'), ('to', 'too'), ('toad', 'toed'), ('told', 'tolled'), ('tole', 'toll'), ('ton', 'tun'), ('tor', 'tore'), ('tough', 'tuff'), ('troop', 'troupe'), ('tuba', 'tuber'), ('vain', 'vane'), ('vale', 'veil'), ('vial', 'vile'), ('wail', 'wale'), ('wain', 'wane'), ('waist', 'waste'), ('wait', 'weight'), ('waive', 'wave'), ('wall', 'waul'), ('war', 'wore'), ('ware', 'wear'), ('warn', 'worn'), ('wart', 'wort'), ('watt', 'what'), ('wax', 'whacks'), ('way', 'weigh'), ('we', 'wee'), ('weak', 'week'), (\"we'd\", 'weed'), ('weal', \"we'll\"), ('wean', 'ween'), ('weather', 'whether'), ('weaver', 'weever'), ('weir', \"we're\"), ('were', 'whirr'), ('wet', 'whet'), ('wheald', 'wheeled'), ('which', 'witch'), ('whig', 'wig'), ('while', 'wile'), ('whine', 'wine'), ('whirl', 'whorl'), ('whirled', 'world'), ('whit', 'wit'), ('white', 'wight'), (\"who's\", 'whose'), ('woe', 'whoa'), ('wood', 'would'), ('yaw', 'yore'), ('yoke', 'yolk'), (\"you'll\", 'yule')]\n"
     ]
    }
   ],
   "source": [
    "print(homophone_list)"
   ]
  },
  {
   "cell_type": "code",
   "execution_count": 22,
   "metadata": {},
   "outputs": [
    {
     "name": "stdout",
     "output_type": "stream",
     "text": [
      "Homophone 47 in data\n",
      "Homophone 57 in data\n",
      "Homophone 71 in data\n",
      "Homophone 89 in data\n",
      "Homophone 124 in data\n",
      "Homophone 148 in data\n",
      "Homophone 286 in data\n",
      "Homophone 295 in data\n",
      "Homophone 302 in data\n",
      "Homophone 366 in data\n",
      "Homophone 383 in data\n",
      "Homophone 384 in data\n",
      "Homophone 421 in data\n"
     ]
    }
   ],
   "source": [
    "for i,(word1,word2) in enumerate(homophone_list):\n",
    "    \n",
    "    #print(word1,word2)\n",
    "    \n",
    "    verbose = False\n",
    "    if verbose:\n",
    "\n",
    "        if word1 in train_words:\n",
    "            print(\"%s in train words\"%(word1))\n",
    "        if word1 in val_words:\n",
    "            print(\"%s in val words\"%(word1))\n",
    "        if word1 in test_words:\n",
    "            print(\"%s in test words\"%(word1))\n",
    "\n",
    "        if word2 in train_words:\n",
    "            print(\"%s in train words\"%(word2))\n",
    "        if word2 in val_words:\n",
    "            print(\"%s in val words\"%(word2))\n",
    "        if word2 in test_words:\n",
    "            print(\"%s in test words\"%(word2))\n",
    "        \n",
    "    word1_in_data = word1 in train_words or word1 in val_words or word1 in test_words\n",
    "    word2_in_data = word2 in train_words or word2 in val_words or word2 in test_words\n",
    "    \n",
    "    if (word1_in_data) and (word2_in_data):\n",
    "        print('Homophone %d in data'%(i))"
   ]
  },
  {
   "cell_type": "code",
   "execution_count": 23,
   "metadata": {},
   "outputs": [],
   "source": [
    "def present_in_data(word):\n",
    "    return word in train_words or word in val_words or word in test_words"
   ]
  },
  {
   "cell_type": "code",
   "execution_count": 24,
   "metadata": {},
   "outputs": [],
   "source": [
    "homophone_list = list(filter(lambda x: present_in_data(x[0]) and present_in_data(x[1]), homophone_list))"
   ]
  },
  {
   "cell_type": "code",
   "execution_count": 25,
   "metadata": {},
   "outputs": [
    {
     "data": {
      "text/plain": [
       "[('board', 'bored'),\n",
       " ('brake', 'break'),\n",
       " ('caught', 'court'),\n",
       " ('coarse', 'course'),\n",
       " ('farther', 'father'),\n",
       " ('forth', 'fourth'),\n",
       " ('peace', 'piece'),\n",
       " ('plain', 'plane'),\n",
       " ('principal', 'principle'),\n",
       " ('steal', 'steel'),\n",
       " ('there', 'their'),\n",
       " ('threw', 'through'),\n",
       " ('weather', 'whether')]"
      ]
     },
     "execution_count": 25,
     "metadata": {},
     "output_type": "execute_result"
    }
   ],
   "source": [
    "homophone_list"
   ]
  },
  {
   "cell_type": "code",
   "execution_count": 26,
   "metadata": {},
   "outputs": [],
   "source": [
    "visualization_ds = TensorDataset(torch.tensor(inputs,dtype= torch.float),torch.tensor(labels, dtype= torch.float))\n",
    "visualization_dl = DataLoader(visualization_ds, batch_size=1024, pin_memory = True, drop_last = False)"
   ]
  },
  {
   "cell_type": "code",
   "execution_count": 27,
   "metadata": {},
   "outputs": [],
   "source": [
    "def nearest_neighbors(net,visualization_dl,n_neighbors = 3):\n",
    "    \n",
    "    embeddings = None\n",
    "    labels = None\n",
    "    \n",
    "    for xb,yb in visualization_dl:\n",
    "        #If device is GPU move features to GPU\n",
    "        if dev.type == 'cuda' and not xb.is_cuda:\n",
    "            xb = xb.to(dev, non_blocking=True)\n",
    "            \n",
    "        #Get the embeddings\n",
    "        batch_embeddings = net(xb).cpu().detach().numpy()\n",
    "        \n",
    "        #Add to the main embeddings\n",
    "        if embeddings is not None:\n",
    "            embeddings = np.vstack((embeddings, batch_embeddings))\n",
    "        else:\n",
    "            embeddings = batch_embeddings\n",
    "    \n",
    "    nbrs = NearestNeighbors(n_neighbors=n_neighbors, algorithm='kd_tree',metric = 'euclidean', n_jobs = 4).fit(embeddings)\n",
    "    distances,indices = nbrs.kneighbors(embeddings)\n",
    "    \n",
    "    return distances,indices\n",
    "    "
   ]
  },
  {
   "cell_type": "code",
   "execution_count": 28,
   "metadata": {},
   "outputs": [],
   "source": [
    "def nearest_neighbors_for_word_old(word,indices,labels):\n",
    "    \n",
    "    num_list = [word_to_num[word]]\n",
    "    ids = np.where(np.isin(labels,np.array(num_list)))\n",
    "    neighbor_indices = indices[ids]\n",
    "    \n",
    "    for i in range(neighbor_indices.shape[0]):\n",
    "        neighboring_words = [num_to_word[labels[neighbor_indices[i,j]]] for j in range(neighbor_indices.shape[1])]\n",
    "        print(neighboring_words)\n",
    "    "
   ]
  },
  {
   "cell_type": "code",
   "execution_count": null,
   "metadata": {},
   "outputs": [],
   "source": [
    "def nearest_neighbors_for_word(word,indices,labels):\n",
    "    \n",
    "    num_list = [word_to_num[word]]\n",
    "    ids = np.where(np.isin(labels,np.array(num_list)))\n",
    "    neighbor_indices = indices[ids]\n",
    "    \n",
    "    for i in range(neighbor_indices.shape[0]):\n",
    "        neighboring_words = [num_to_word[labels[neighbor_indices[i,j]]] for j in range(neighbor_indices.shape[1])]\n",
    "        print(neighboring_words)\n",
    "    "
   ]
  },
  {
   "cell_type": "code",
   "execution_count": null,
   "metadata": {},
   "outputs": [],
   "source": [
    "distances,indices = nearest_neighbors(net,visualization_dl,n_neighbors = 3)"
   ]
  },
  {
   "cell_type": "code",
   "execution_count": null,
   "metadata": {},
   "outputs": [],
   "source": []
  },
  {
   "cell_type": "code",
   "execution_count": 56,
   "metadata": {},
   "outputs": [],
   "source": [
    "def give_tsne(net,visualization_dl):\n",
    "    \n",
    "    embeddings = None\n",
    "    for i,(xb,yb) in enumerate(visualization_dl):\n",
    "        #If device is GPU move features to GPU\n",
    "        if dev.type == 'cuda' and not xb.is_cuda:\n",
    "            xb = xb.to(dev, non_blocking=True)\n",
    "            if embeddings is not None:\n",
    "                print(embeddings.shape[0])\n",
    "            \n",
    "        #Get the embeddings\n",
    "        batch_embeddings = net.give_embeddings(xb)\n",
    "        \n",
    "        #Add to the main embeddings\n",
    "        if embeddings is not None:\n",
    "            embeddings = np.vstack((embeddings, batch_embeddings))\n",
    "        else:\n",
    "            embeddings = batch_embeddings\n",
    "            \n",
    "    tsne = manifold.TSNE(n_components=2, verbose=1, perplexity=40, n_iter=500)\n",
    "    tsne_vectors = tsne.fit_transform(embeddings)\n",
    "    \n",
    "    return tsne_vectors\n"
   ]
  },
  {
   "cell_type": "code",
   "execution_count": 57,
   "metadata": {},
   "outputs": [],
   "source": [
    "def add_membership(word):\n",
    "    train_tag = \"Tr\" if word in train_words else \"\"\n",
    "    val_tag = \"|Val\" if word in val_words else \"\"\n",
    "    test_tag = \"|Ts\" if word in test_words else \"\"\n",
    "    return word+\" (%s%s%s)\"%(train_tag,val_tag,test_tag)"
   ]
  },
  {
   "cell_type": "code",
   "execution_count": 58,
   "metadata": {},
   "outputs": [],
   "source": [
    "def visualize_words(word_list,tsne_vectors,labels,rigid_limits = False):\n",
    "    #Get ids of words from labels\n",
    "    num_list = [word_to_num[word] for word in word_list]\n",
    "    ids = np.where(np.isin(labels,np.array(num_list)))\n",
    "    \n",
    "    df_subset = {}\n",
    "    df_subset['tsne-2d-one'] = tsne_vectors[ids][:,0]\n",
    "    df_subset['tsne-2d-two'] = tsne_vectors[ids][:,1]\n",
    "    df_subset['Word'] = [num_to_word[labels[ids][i].item()] for i in range(ids[0].shape[0])]\n",
    "    \n",
    "    #Convert to dataframe\n",
    "    df_subset = pd.DataFrame(df_subset)\n",
    "    #Add membership tags\n",
    "    df_subset['Word'] = df_subset['Word'].apply(add_membership)\n",
    "    \n",
    "    #print(df_subset['tsne-2d-one'].shape)\n",
    "    #print(df_subset['tsne-2d-two'].shape)\n",
    "    #print(len(df_subset['y']))\n",
    "    \n",
    "    #print(ids)\n",
    "    #print(df_subset['y'])\n",
    "    \n",
    "    g = sns.scatterplot(\n",
    "    x=\"tsne-2d-one\", y=\"tsne-2d-two\",\n",
    "    hue=\"Word\",\n",
    "    data=df_subset,\n",
    "    legend=\"full\",\n",
    "    alpha=0.5)\n",
    "    g.legend(loc='center left', bbox_to_anchor=(1, 0.5), ncol=1)\n",
    "    \n",
    "    if rigid_limits:\n",
    "        x_coordinate = tsne_vectors[:,0]\n",
    "        y_coordinate = tsne_vectors[:,1]\n",
    "        epsilon = 5\n",
    "        plt.xlim(min(x_coordinate)-epsilon,max(x_coordinate)+epsilon)\n",
    "        plt.ylim(min(y_coordinate)-epsilon,max(y_coordinate)+epsilon)\n",
    "    "
   ]
  },
  {
   "cell_type": "code",
   "execution_count": 79,
   "metadata": {
    "scrolled": true
   },
   "outputs": [
    {
     "name": "stdout",
     "output_type": "stream",
     "text": [
      "1024\n",
      "2048\n",
      "3072\n",
      "[t-SNE] Computing 121 nearest neighbors...\n",
      "[t-SNE] Indexed 3449 samples in 0.641s...\n",
      "[t-SNE] Computed neighbors for 3449 samples in 16.523s...\n",
      "[t-SNE] Computed conditional probabilities for sample 1000 / 3449\n",
      "[t-SNE] Computed conditional probabilities for sample 2000 / 3449\n",
      "[t-SNE] Computed conditional probabilities for sample 3000 / 3449\n",
      "[t-SNE] Computed conditional probabilities for sample 3449 / 3449\n",
      "[t-SNE] Mean sigma: 0.000507\n",
      "[t-SNE] KL divergence after 250 iterations with early exaggeration: 81.913239\n",
      "[t-SNE] KL divergence after 500 iterations: 1.504368\n"
     ]
    }
   ],
   "source": [
    "tsne_vectors = give_tsne(net,visualization_dl)"
   ]
  },
  {
   "cell_type": "code",
   "execution_count": 80,
   "metadata": {},
   "outputs": [
    {
     "name": "stdout",
     "output_type": "stream",
     "text": [
      "-47.14128112792969 50.3733024597168\n",
      "-48.8997688293457 57.878501892089844\n"
     ]
    }
   ],
   "source": [
    "x_coordinate = tsne_vectors[:,0]\n",
    "y_coordinate = tsne_vectors[:,1]\n",
    "epsilon = 5\n",
    "print(min(x_coordinate)-epsilon,max(x_coordinate)+epsilon)\n",
    "print(min(y_coordinate)-epsilon,max(y_coordinate)+epsilon)"
   ]
  },
  {
   "cell_type": "code",
   "execution_count": 81,
   "metadata": {},
   "outputs": [
    {
     "data": {
      "image/png": "[encoded data removed]",
      "text/plain": [
       "<Figure size 432x288 with 1 Axes>"
      ]
     },
     "metadata": {
      "needs_background": "light"
     },
     "output_type": "display_data"
    }
   ],
   "source": [
    "word_list = [\"THE\"]\n",
    "visualize_words(word_list,tsne_vectors,labels)"
   ]
  },
  {
   "cell_type": "code",
   "execution_count": 102,
   "metadata": {},
   "outputs": [
    {
     "data": {
      "image/png": "[encoded data removed]",
      "text/plain": [
       "<Figure size 432x288 with 1 Axes>"
      ]
     },
     "metadata": {
      "needs_background": "light"
     },
     "output_type": "display_data"
    }
   ],
   "source": [
    "word_list = [\"AS\",\"ARE\",\"TWO\",\"SIX\"]\n",
    "visualize_words(word_list,tsne_vectors,labels,True)"
   ]
  },
  {
   "cell_type": "code",
   "execution_count": 103,
   "metadata": {},
   "outputs": [
    {
     "data": {
      "image/png": "[encoded data removed]",
      "text/plain": [
       "<Figure size 432x288 with 1 Axes>"
      ]
     },
     "metadata": {
      "needs_background": "light"
     },
     "output_type": "display_data"
    }
   ],
   "source": [
    "word_list = [\"DEALERS\",\"DEALS\",\"BACK\"]\n",
    "visualize_words(word_list,tsne_vectors,labels,True)"
   ]
  },
  {
   "cell_type": "code",
   "execution_count": 104,
   "metadata": {},
   "outputs": [
    {
     "data": {
      "image/png": "[encoded data removed]",
      "text/plain": [
       "<Figure size 432x288 with 1 Axes>"
      ]
     },
     "metadata": {
      "needs_background": "light"
     },
     "output_type": "display_data"
    }
   ],
   "source": [
    "word_list = [\"ACCEPTED\",\"ACCEPTS\",\"RADIO\",\"RAIDER\",\"OWNER\",\"OWNERS\"]\n",
    "visualize_words(word_list,tsne_vectors,labels,True)"
   ]
  },
  {
   "cell_type": "code",
   "execution_count": 105,
   "metadata": {},
   "outputs": [
    {
     "data": {
      "image/png": "[encoded data removed]",
      "text/plain": [
       "<Figure size 432x288 with 1 Axes>"
      ]
     },
     "metadata": {
      "needs_background": "light"
     },
     "output_type": "display_data"
    }
   ],
   "source": [
    "word_list = [\"NINE\",\"NINETY\",\"ACCEPTED\",\"ACCEPTS\",\"AIMED\",\"AIMING\"]\n",
    "visualize_words(word_list,tsne_vectors,labels,True)"
   ]
  },
  {
   "cell_type": "code",
   "execution_count": 106,
   "metadata": {},
   "outputs": [
    {
     "data": {
      "image/png": "[encoded data removed]",
      "text/plain": [
       "<Figure size 432x288 with 1 Axes>"
      ]
     },
     "metadata": {
      "needs_background": "light"
     },
     "output_type": "display_data"
    }
   ],
   "source": [
    "word_list = [\"COUNT\",\"COUNTS\",\"SALE\",\"SUPPORT\",\"SUPPORTED\"]\n",
    "visualize_words(word_list,tsne_vectors,labels,True)"
   ]
  },
  {
   "cell_type": "code",
   "execution_count": 107,
   "metadata": {},
   "outputs": [
    {
     "data": {
      "image/png": "[encoded data removed]",
      "text/plain": [
       "<Figure size 432x288 with 1 Axes>"
      ]
     },
     "metadata": {
      "needs_background": "light"
     },
     "output_type": "display_data"
    }
   ],
   "source": [
    "word_list = [\"LATER\",\"LATEST\",\"CLOSE\",\"CLOSING\",\"CLOSED\",\"CLOSELY\"]\n",
    "visualize_words(word_list,tsne_vectors,labels,True)"
   ]
  },
  {
   "cell_type": "code",
   "execution_count": 114,
   "metadata": {},
   "outputs": [],
   "source": [
    "distances,indices = nearest_neighbors(net,torch.tensor(inputs,dtype=torch.float),labels,n_neighbors=5)"
   ]
  },
  {
   "cell_type": "code",
   "execution_count": 115,
   "metadata": {},
   "outputs": [
    {
     "name": "stdout",
     "output_type": "stream",
     "text": [
      "['SUPPORT', 'CLIMB', 'PROBABLY', 'AIRCRAFT', 'DIRECT']\n",
      "['SUPPORT', 'OPERATOR', 'AIRCRAFT', 'HOLDING', 'SHARES']\n",
      "['LIKELY', 'COMING', 'OPERATOR', 'SHARES', 'SURPRISE']\n"
     ]
    }
   ],
   "source": [
    "word = \"SUPPORT\"\n",
    "nearest_neighbors_for_word(word,indices,labels)"
   ]
  },
  {
   "cell_type": "code",
   "execution_count": 116,
   "metadata": {},
   "outputs": [
    {
     "name": "stdout",
     "output_type": "stream",
     "text": [
      "['LATER', 'UNDER', 'HUNDRED', 'UNDER', 'HUNDRED']\n"
     ]
    }
   ],
   "source": [
    "word = \"LATER\"\n",
    "nearest_neighbors_for_word(word,indices,labels)"
   ]
  },
  {
   "cell_type": "code",
   "execution_count": 117,
   "metadata": {},
   "outputs": [
    {
     "name": "stdout",
     "output_type": "stream",
     "text": [
      "['CLOSING', 'WASHINGTON', 'AFTER', 'OPPOSITION', 'COMMENT']\n"
     ]
    }
   ],
   "source": [
    "word = \"CLOSING\"\n",
    "nearest_neighbors_for_word(word,indices,labels)"
   ]
  },
  {
   "cell_type": "code",
   "execution_count": 118,
   "metadata": {},
   "outputs": [
    {
     "name": "stdout",
     "output_type": "stream",
     "text": [
      "['ACCEPTED', 'INFLATION', 'PURCHASES', 'PROCESS', 'SPLIT']\n"
     ]
    }
   ],
   "source": [
    "word = \"ACCEPTED\"\n",
    "nearest_neighbors_for_word(word,indices,labels)"
   ]
  },
  {
   "cell_type": "code",
   "execution_count": 119,
   "metadata": {},
   "outputs": [
    {
     "name": "stdout",
     "output_type": "stream",
     "text": [
      "['DEALS', 'PUBLICLY', 'FINANCIAL', 'FINANCIAL', 'EXPOSURE']\n"
     ]
    }
   ],
   "source": [
    "word = \"DEALS\"\n",
    "nearest_neighbors_for_word(word,indices,labels)"
   ]
  },
  {
   "cell_type": "code",
   "execution_count": 120,
   "metadata": {},
   "outputs": [
    {
     "name": "stdout",
     "output_type": "stream",
     "text": [
      "['ACCEPTS', 'SIX', 'BUSINESS', 'SIX', 'SINCE']\n"
     ]
    }
   ],
   "source": [
    "word = \"ACCEPTS\"\n",
    "nearest_neighbors_for_word(word,indices,labels)"
   ]
  },
  {
   "cell_type": "code",
   "execution_count": 121,
   "metadata": {},
   "outputs": [
    {
     "name": "stdout",
     "output_type": "stream",
     "text": [
      "['DAY', 'MAY', 'MAY', 'MAY', 'EIGHT']\n",
      "['DAY', 'BIDS', 'MAY', 'DAY', 'BASED']\n",
      "['DAY', 'DAY', 'MAY', 'BIDS', 'BASED']\n",
      "['DAY', 'YOU', 'HUNDRED', 'UNDER', 'CLEAR']\n"
     ]
    }
   ],
   "source": [
    "word = \"DAY\"\n",
    "nearest_neighbors_for_word(word,indices,labels)"
   ]
  },
  {
   "cell_type": "code",
   "execution_count": 122,
   "metadata": {},
   "outputs": [
    {
     "name": "stdout",
     "output_type": "stream",
     "text": [
      "['DEALERS', 'LANGUAGE', 'GROUP', 'TOO', 'PREVIOUS']\n"
     ]
    }
   ],
   "source": [
    "word = \"DEALERS\"\n",
    "nearest_neighbors_for_word(word,indices,labels)"
   ]
  }
 ],
 "metadata": {
  "kernelspec": {
   "display_name": "Python 3",
   "language": "python",
   "name": "python3"
  },
  "language_info": {
   "codemirror_mode": {
    "name": "ipython",
    "version": 3
   },
   "file_extension": ".py",
   "mimetype": "text/x-python",
   "name": "python",
   "nbconvert_exporter": "python",
   "pygments_lexer": "ipython3",
   "version": "3.6.10"
  }
 },
 "nbformat": 4,
 "nbformat_minor": 2
}
